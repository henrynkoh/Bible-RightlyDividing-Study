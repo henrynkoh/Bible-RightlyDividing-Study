{
  "nbformat": 4,
  "nbformat_minor": 0,
  "metadata": {
    "colab": {
      "name": "download_stock.ipynb",
      "provenance": [],
      "collapsed_sections": [],
      "include_colab_link": true
    },
    "kernelspec": {
      "name": "python3",
      "display_name": "Python 3"
    },
    "accelerator": "TPU"
  },
  "cells": [
    {
      "cell_type": "markdown",
      "metadata": {
        "id": "view-in-github",
        "colab_type": "text"
      },
      "source": [
        "<a href=\"https://colab.research.google.com/github/henrynkoh/Bible-RightlyDividing-Study/blob/master/download_stock.ipynb\" target=\"_parent\"><img src=\"https://colab.research.google.com/assets/colab-badge.svg\" alt=\"Open In Colab\"/></a>"
      ]
    },
    {
      "cell_type": "code",
      "metadata": {
        "id": "SKXPgmXg6yox",
        "colab_type": "code",
        "colab": {}
      },
      "source": [
        "import pandas as pd\n",
        "import pandas_datareader as pdr\n",
        "\n",
        "# 종목 타입에 따라 download url이 다름. 종목코드 뒤에 .KS .KQ등이 입력되어야해서 Download Link 구분 필요\n",
        "stock_type = {\n",
        "    'kospi': 'stockMkt',\n",
        "    'kosdaq': 'kosdaqMkt'\n",
        "}\n",
        "\n",
        "# 회사명으로 주식 종목 코드를 획득할 수 있도록 하는 함수\n",
        "def get_code(df, name):\n",
        "  code = df.query(\"name=='{}'\".format(name))['code'].to_string(index=False)\n",
        "  \n",
        "  # 위와같이 code명을 가져오면 앞에 공백이 붙어있는 상황이 발생하여 앞뒤로 sript() 하여 공백 제거\n",
        "  code = code.strip()\n",
        "  return code\n",
        "\n",
        "# download url 조합\n",
        "def get_download_stock(market_type=None):\n",
        "  market_type_param = stock_type[market_type]\n",
        "  download_link = 'http://kind.krx.co.kr/corpgeneral/corpList.do'\n",
        "  download_link = download_link + '?method=download'\n",
        "  download_link = download_link + '&marketType=' + market_type_param\n",
        "\n",
        "  df = pd.read_html(download_link, header=0)[0]\n",
        "  return df;\n",
        "\n",
        "# kospi 종목코드 목록 다운로드\n",
        "def get_download_kospi():\n",
        "  df = get_download_stock('kospi')\n",
        "  df.종목코드 = df.종목코드.map('{:06d}.KS'.format)\n",
        "  return df\n",
        "\n",
        "# kosdaq 종목코드 목록 다운로드\n",
        "def get_download_kosdaq():\n",
        "  df = get_download_stock('kosdaq')\n",
        "  df.종목코드 = df.종목코드.map('{:06d}.KQ'.format)\n",
        "  return df"
      ],
      "execution_count": 0,
      "outputs": []
    },
    {
      "cell_type": "code",
      "metadata": {
        "id": "qCzwkfwH63ey",
        "colab_type": "code",
        "outputId": "d99496c2-c3b1-4222-8b85-4cef126ab718",
        "colab": {
          "base_uri": "https://localhost:8080/",
          "height": 419
        }
      },
      "source": [
        "\n",
        "# kospi, kosdaq 종목코드 각각 다운로드\n",
        "kospi_df = get_download_kospi()\n",
        "kosdaq_df = get_download_kosdaq()\n",
        "\n",
        "# data frame merge\n",
        "code_df = pd.concat([kospi_df, kosdaq_df])\n",
        "\n",
        "# data frame정리\n",
        "code_df = code_df[['회사명', '종목코드']]\n",
        "\n",
        "# data frame title 변경 '회사명' = name, 종목코드 = 'code'\n",
        "code_df = code_df.rename(columns={'회사명': 'name', '종목코드': 'code'})\n",
        "\n",
        "code_df"
      ],
      "execution_count": 9,
      "outputs": [
        {
          "output_type": "execute_result",
          "data": {
            "text/html": [
              "<div>\n",
              "<style scoped>\n",
              "    .dataframe tbody tr th:only-of-type {\n",
              "        vertical-align: middle;\n",
              "    }\n",
              "\n",
              "    .dataframe tbody tr th {\n",
              "        vertical-align: top;\n",
              "    }\n",
              "\n",
              "    .dataframe thead th {\n",
              "        text-align: right;\n",
              "    }\n",
              "</style>\n",
              "<table border=\"1\" class=\"dataframe\">\n",
              "  <thead>\n",
              "    <tr style=\"text-align: right;\">\n",
              "      <th></th>\n",
              "      <th>name</th>\n",
              "      <th>code</th>\n",
              "    </tr>\n",
              "  </thead>\n",
              "  <tbody>\n",
              "    <tr>\n",
              "      <th>0</th>\n",
              "      <td>JS전선</td>\n",
              "      <td>005560.KS</td>\n",
              "    </tr>\n",
              "    <tr>\n",
              "      <th>1</th>\n",
              "      <td>거북선2호</td>\n",
              "      <td>101380.KS</td>\n",
              "    </tr>\n",
              "    <tr>\n",
              "      <th>2</th>\n",
              "      <td>거북선6호</td>\n",
              "      <td>114140.KS</td>\n",
              "    </tr>\n",
              "    <tr>\n",
              "      <th>3</th>\n",
              "      <td>교보메리츠</td>\n",
              "      <td>064900.KS</td>\n",
              "    </tr>\n",
              "    <tr>\n",
              "      <th>4</th>\n",
              "      <td>국제관광공사</td>\n",
              "      <td>028780.KS</td>\n",
              "    </tr>\n",
              "    <tr>\n",
              "      <th>...</th>\n",
              "      <td>...</td>\n",
              "      <td>...</td>\n",
              "    </tr>\n",
              "    <tr>\n",
              "      <th>2225</th>\n",
              "      <td>해성옵틱스</td>\n",
              "      <td>076610.KQ</td>\n",
              "    </tr>\n",
              "    <tr>\n",
              "      <th>2226</th>\n",
              "      <td>핸디소프트</td>\n",
              "      <td>220180.KQ</td>\n",
              "    </tr>\n",
              "    <tr>\n",
              "      <th>2227</th>\n",
              "      <td>행남사</td>\n",
              "      <td>008800.KQ</td>\n",
              "    </tr>\n",
              "    <tr>\n",
              "      <th>2228</th>\n",
              "      <td>홈센타홀딩스</td>\n",
              "      <td>060560.KQ</td>\n",
              "    </tr>\n",
              "    <tr>\n",
              "      <th>2229</th>\n",
              "      <td>힘스</td>\n",
              "      <td>238490.KQ</td>\n",
              "    </tr>\n",
              "  </tbody>\n",
              "</table>\n",
              "<p>3619 rows × 2 columns</p>\n",
              "</div>"
            ],
            "text/plain": [
              "        name       code\n",
              "0       JS전선  005560.KS\n",
              "1      거북선2호  101380.KS\n",
              "2      거북선6호  114140.KS\n",
              "3      교보메리츠  064900.KS\n",
              "4     국제관광공사  028780.KS\n",
              "...      ...        ...\n",
              "2225   해성옵틱스  076610.KQ\n",
              "2226   핸디소프트  220180.KQ\n",
              "2227     행남사  008800.KQ\n",
              "2228  홈센타홀딩스  060560.KQ\n",
              "2229      힘스  238490.KQ\n",
              "\n",
              "[3619 rows x 2 columns]"
            ]
          },
          "metadata": {
            "tags": []
          },
          "execution_count": 9
        }
      ]
    },
    {
      "cell_type": "code",
      "metadata": {
        "id": "jQ4LVDazitBi",
        "colab_type": "code",
        "outputId": "4a34079c-6729-457b-f8f8-26d053cd0ff3",
        "colab": {
          "base_uri": "https://localhost:8080/",
          "height": 286
        }
      },
      "source": [
        "code = get_code(code_df, '삼성전자')\n",
        "\n",
        "df = pdr.get_data_yahoo(code)\n",
        "\n",
        "df['Close'].plot()"
      ],
      "execution_count": 10,
      "outputs": [
        {
          "output_type": "execute_result",
          "data": {
            "text/plain": [
              "<matplotlib.axes._subplots.AxesSubplot at 0x7fb2b7922470>"
            ]
          },
          "metadata": {
            "tags": []
          },
          "execution_count": 10
        },
        {
          "output_type": "display_data",
          "data": {
            "image/png": "[encoded data removed]",
            "text/plain": [
              "<Figure size 432x288 with 1 Axes>"
            ]
          },
          "metadata": {
            "tags": [],
            "needs_background": "light"
          }
        }
      ]
    },
    {
      "cell_type": "code",
      "metadata": {
        "id": "nEjQze6Gizzk",
        "colab_type": "code",
        "outputId": "bf1f8ee1-0ef1-4c40-88fd-7add91362b10",
        "colab": {
          "base_uri": "https://localhost:8080/",
          "height": 335
        }
      },
      "source": [
        "# 수정주가를 반영\n",
        "df = pdr.get_data_yahoo(code, adjust_price=True)\n",
        "\n",
        "df['Close'].plot(figsize=(10, 5))"
      ],
      "execution_count": 11,
      "outputs": [
        {
          "output_type": "execute_result",
          "data": {
            "text/plain": [
              "<matplotlib.axes._subplots.AxesSubplot at 0x7fb2b7804d30>"
            ]
          },
          "metadata": {
            "tags": []
          },
          "execution_count": 11
        },
        {
          "output_type": "display_data",
          "data": {
            "image/png": "[encoded data removed]",
            "text/plain": [
              "<Figure size 720x360 with 1 Axes>"
            ]
          },
          "metadata": {
            "tags": [],
            "needs_background": "light"
          }
        }
      ]
    },
    {
      "cell_type": "code",
      "metadata": {
        "id": "EwZRdHY1cnkP",
        "colab_type": "code",
        "colab": {
          "base_uri": "https://localhost:8080/",
          "height": 335
        },
        "outputId": "e63ae187-27cd-4736-c270-23e3256369a7"
      },
      "source": [
        "df = pdr.get_data_yahoo(code, adjust_price=True)\n",
        "\n",
        "df['Close'].plot(figsize=(10, 5))"
      ],
      "execution_count": 20,
      "outputs": [
        {
          "output_type": "execute_result",
          "data": {
            "text/plain": [
              "<matplotlib.axes._subplots.AxesSubplot at 0x7fb2b5ba34a8>"
            ]
          },
          "metadata": {
            "tags": []
          },
          "execution_count": 20
        },
        {
          "output_type": "display_data",
          "data": {
            "image/png": "[encoded data removed]",
            "text/plain": [
              "<Figure size 720x360 with 1 Axes>"
            ]
          },
          "metadata": {
            "tags": [],
            "needs_background": "light"
          }
        }
      ]
    },
    {
      "cell_type": "code",
      "metadata": {
        "id": "thkfrCW_cuyx",
        "colab_type": "code",
        "colab": {}
      },
      "source": [
        ""
      ],
      "execution_count": 0,
      "outputs": []
    },
    {
      "cell_type": "code",
      "metadata": {
        "id": "b7RHAryOkm0X",
        "colab_type": "code",
        "outputId": "b009a25a-fb92-4047-d598-b278b9d2a8d3",
        "colab": {
          "base_uri": "https://localhost:8080/",
          "height": 450
        }
      },
      "source": [
        "df"
      ],
      "execution_count": 12,
      "outputs": [
        {
          "output_type": "execute_result",
          "data": {
            "text/html": [
              "<div>\n",
              "<style scoped>\n",
              "    .dataframe tbody tr th:only-of-type {\n",
              "        vertical-align: middle;\n",
              "    }\n",
              "\n",
              "    .dataframe tbody tr th {\n",
              "        vertical-align: top;\n",
              "    }\n",
              "\n",
              "    .dataframe thead th {\n",
              "        text-align: right;\n",
              "    }\n",
              "</style>\n",
              "<table border=\"1\" class=\"dataframe\">\n",
              "  <thead>\n",
              "    <tr style=\"text-align: right;\">\n",
              "      <th></th>\n",
              "      <th>High</th>\n",
              "      <th>Low</th>\n",
              "      <th>Open</th>\n",
              "      <th>Close</th>\n",
              "      <th>Volume</th>\n",
              "      <th>Adj_Ratio</th>\n",
              "    </tr>\n",
              "    <tr>\n",
              "      <th>Date</th>\n",
              "      <th></th>\n",
              "      <th></th>\n",
              "      <th></th>\n",
              "      <th></th>\n",
              "      <th></th>\n",
              "      <th></th>\n",
              "    </tr>\n",
              "  </thead>\n",
              "  <tbody>\n",
              "    <tr>\n",
              "      <th>2015-06-04</th>\n",
              "      <td>260.091824</td>\n",
              "      <td>253.109493</td>\n",
              "      <td>255.049030</td>\n",
              "      <td>259.316010</td>\n",
              "      <td>19411950.0</td>\n",
              "      <td>0.009698</td>\n",
              "    </tr>\n",
              "    <tr>\n",
              "      <th>2015-06-05</th>\n",
              "      <td>262.807178</td>\n",
              "      <td>256.018801</td>\n",
              "      <td>256.988569</td>\n",
              "      <td>260.091827</td>\n",
              "      <td>9828150.0</td>\n",
              "      <td>0.009698</td>\n",
              "    </tr>\n",
              "    <tr>\n",
              "      <th>2015-06-08</th>\n",
              "      <td>261.255558</td>\n",
              "      <td>254.661134</td>\n",
              "      <td>260.867650</td>\n",
              "      <td>254.855087</td>\n",
              "      <td>10118950.0</td>\n",
              "      <td>0.009698</td>\n",
              "    </tr>\n",
              "    <tr>\n",
              "      <th>2015-06-09</th>\n",
              "      <td>254.079261</td>\n",
              "      <td>245.933209</td>\n",
              "      <td>252.139725</td>\n",
              "      <td>248.648560</td>\n",
              "      <td>13735250.0</td>\n",
              "      <td>0.009698</td>\n",
              "    </tr>\n",
              "    <tr>\n",
              "      <th>2015-06-10</th>\n",
              "      <td>250.976002</td>\n",
              "      <td>244.769485</td>\n",
              "      <td>248.648558</td>\n",
              "      <td>244.769485</td>\n",
              "      <td>12501700.0</td>\n",
              "      <td>0.009698</td>\n",
              "    </tr>\n",
              "    <tr>\n",
              "      <th>...</th>\n",
              "      <td>...</td>\n",
              "      <td>...</td>\n",
              "      <td>...</td>\n",
              "      <td>...</td>\n",
              "      <td>...</td>\n",
              "      <td>...</td>\n",
              "    </tr>\n",
              "    <tr>\n",
              "      <th>2020-05-27</th>\n",
              "      <td>50000.000000</td>\n",
              "      <td>48800.000000</td>\n",
              "      <td>48950.000000</td>\n",
              "      <td>49900.000000</td>\n",
              "      <td>19548479.0</td>\n",
              "      <td>1.000000</td>\n",
              "    </tr>\n",
              "    <tr>\n",
              "      <th>2020-05-28</th>\n",
              "      <td>51200.000000</td>\n",
              "      <td>49900.000000</td>\n",
              "      <td>51100.000000</td>\n",
              "      <td>50400.000000</td>\n",
              "      <td>31309318.0</td>\n",
              "      <td>1.000000</td>\n",
              "    </tr>\n",
              "    <tr>\n",
              "      <th>2020-05-29</th>\n",
              "      <td>50700.000000</td>\n",
              "      <td>49700.000000</td>\n",
              "      <td>50000.000000</td>\n",
              "      <td>50700.000000</td>\n",
              "      <td>27596961.0</td>\n",
              "      <td>1.000000</td>\n",
              "    </tr>\n",
              "    <tr>\n",
              "      <th>2020-06-01</th>\n",
              "      <td>51200.000000</td>\n",
              "      <td>50600.000000</td>\n",
              "      <td>50800.000000</td>\n",
              "      <td>51200.000000</td>\n",
              "      <td>16949183.0</td>\n",
              "      <td>1.000000</td>\n",
              "    </tr>\n",
              "    <tr>\n",
              "      <th>2020-06-02</th>\n",
              "      <td>51500.000000</td>\n",
              "      <td>50800.000000</td>\n",
              "      <td>51000.000000</td>\n",
              "      <td>51400.000000</td>\n",
              "      <td>13725677.0</td>\n",
              "      <td>1.000000</td>\n",
              "    </tr>\n",
              "  </tbody>\n",
              "</table>\n",
              "<p>1188 rows × 6 columns</p>\n",
              "</div>"
            ],
            "text/plain": [
              "                    High           Low  ...      Volume  Adj_Ratio\n",
              "Date                                    ...                       \n",
              "2015-06-04    260.091824    253.109493  ...  19411950.0   0.009698\n",
              "2015-06-05    262.807178    256.018801  ...   9828150.0   0.009698\n",
              "2015-06-08    261.255558    254.661134  ...  10118950.0   0.009698\n",
              "2015-06-09    254.079261    245.933209  ...  13735250.0   0.009698\n",
              "2015-06-10    250.976002    244.769485  ...  12501700.0   0.009698\n",
              "...                  ...           ...  ...         ...        ...\n",
              "2020-05-27  50000.000000  48800.000000  ...  19548479.0   1.000000\n",
              "2020-05-28  51200.000000  49900.000000  ...  31309318.0   1.000000\n",
              "2020-05-29  50700.000000  49700.000000  ...  27596961.0   1.000000\n",
              "2020-06-01  51200.000000  50600.000000  ...  16949183.0   1.000000\n",
              "2020-06-02  51500.000000  50800.000000  ...  13725677.0   1.000000\n",
              "\n",
              "[1188 rows x 6 columns]"
            ]
          },
          "metadata": {
            "tags": []
          },
          "execution_count": 12
        }
      ]
    },
    {
      "cell_type": "code",
      "metadata": {
        "id": "X8ZQKi-yn4oa",
        "colab_type": "code",
        "outputId": "7c48477d-6e59-4e70-c80c-38f70f80f02a",
        "colab": {
          "base_uri": "https://localhost:8080/",
          "height": 238
        }
      },
      "source": [
        "df.info()"
      ],
      "execution_count": 13,
      "outputs": [
        {
          "output_type": "stream",
          "text": [
            "<class 'pandas.core.frame.DataFrame'>\n",
            "DatetimeIndex: 1188 entries, 2015-06-04 to 2020-06-02\n",
            "Data columns (total 6 columns):\n",
            " #   Column     Non-Null Count  Dtype  \n",
            "---  ------     --------------  -----  \n",
            " 0   High       1188 non-null   float64\n",
            " 1   Low        1188 non-null   float64\n",
            " 2   Open       1188 non-null   float64\n",
            " 3   Close      1188 non-null   float64\n",
            " 4   Volume     1188 non-null   float64\n",
            " 5   Adj_Ratio  1188 non-null   float64\n",
            "dtypes: float64(6)\n",
            "memory usage: 65.0 KB\n"
          ],
          "name": "stdout"
        }
      ]
    },
    {
      "cell_type": "code",
      "metadata": {
        "id": "j1xs7rYXp1mD",
        "colab_type": "code",
        "colab": {
          "base_uri": "https://localhost:8080/",
          "height": 450
        },
        "outputId": "1b508a33-8faf-4091-eb3f-952372d4720c"
      },
      "source": [
        "df"
      ],
      "execution_count": 14,
      "outputs": [
        {
          "output_type": "execute_result",
          "data": {
            "text/html": [
              "<div>\n",
              "<style scoped>\n",
              "    .dataframe tbody tr th:only-of-type {\n",
              "        vertical-align: middle;\n",
              "    }\n",
              "\n",
              "    .dataframe tbody tr th {\n",
              "        vertical-align: top;\n",
              "    }\n",
              "\n",
              "    .dataframe thead th {\n",
              "        text-align: right;\n",
              "    }\n",
              "</style>\n",
              "<table border=\"1\" class=\"dataframe\">\n",
              "  <thead>\n",
              "    <tr style=\"text-align: right;\">\n",
              "      <th></th>\n",
              "      <th>High</th>\n",
              "      <th>Low</th>\n",
              "      <th>Open</th>\n",
              "      <th>Close</th>\n",
              "      <th>Volume</th>\n",
              "      <th>Adj_Ratio</th>\n",
              "    </tr>\n",
              "    <tr>\n",
              "      <th>Date</th>\n",
              "      <th></th>\n",
              "      <th></th>\n",
              "      <th></th>\n",
              "      <th></th>\n",
              "      <th></th>\n",
              "      <th></th>\n",
              "    </tr>\n",
              "  </thead>\n",
              "  <tbody>\n",
              "    <tr>\n",
              "      <th>2015-06-04</th>\n",
              "      <td>260.091824</td>\n",
              "      <td>253.109493</td>\n",
              "      <td>255.049030</td>\n",
              "      <td>259.316010</td>\n",
              "      <td>19411950.0</td>\n",
              "      <td>0.009698</td>\n",
              "    </tr>\n",
              "    <tr>\n",
              "      <th>2015-06-05</th>\n",
              "      <td>262.807178</td>\n",
              "      <td>256.018801</td>\n",
              "      <td>256.988569</td>\n",
              "      <td>260.091827</td>\n",
              "      <td>9828150.0</td>\n",
              "      <td>0.009698</td>\n",
              "    </tr>\n",
              "    <tr>\n",
              "      <th>2015-06-08</th>\n",
              "      <td>261.255558</td>\n",
              "      <td>254.661134</td>\n",
              "      <td>260.867650</td>\n",
              "      <td>254.855087</td>\n",
              "      <td>10118950.0</td>\n",
              "      <td>0.009698</td>\n",
              "    </tr>\n",
              "    <tr>\n",
              "      <th>2015-06-09</th>\n",
              "      <td>254.079261</td>\n",
              "      <td>245.933209</td>\n",
              "      <td>252.139725</td>\n",
              "      <td>248.648560</td>\n",
              "      <td>13735250.0</td>\n",
              "      <td>0.009698</td>\n",
              "    </tr>\n",
              "    <tr>\n",
              "      <th>2015-06-10</th>\n",
              "      <td>250.976002</td>\n",
              "      <td>244.769485</td>\n",
              "      <td>248.648558</td>\n",
              "      <td>244.769485</td>\n",
              "      <td>12501700.0</td>\n",
              "      <td>0.009698</td>\n",
              "    </tr>\n",
              "    <tr>\n",
              "      <th>...</th>\n",
              "      <td>...</td>\n",
              "      <td>...</td>\n",
              "      <td>...</td>\n",
              "      <td>...</td>\n",
              "      <td>...</td>\n",
              "      <td>...</td>\n",
              "    </tr>\n",
              "    <tr>\n",
              "      <th>2020-05-27</th>\n",
              "      <td>50000.000000</td>\n",
              "      <td>48800.000000</td>\n",
              "      <td>48950.000000</td>\n",
              "      <td>49900.000000</td>\n",
              "      <td>19548479.0</td>\n",
              "      <td>1.000000</td>\n",
              "    </tr>\n",
              "    <tr>\n",
              "      <th>2020-05-28</th>\n",
              "      <td>51200.000000</td>\n",
              "      <td>49900.000000</td>\n",
              "      <td>51100.000000</td>\n",
              "      <td>50400.000000</td>\n",
              "      <td>31309318.0</td>\n",
              "      <td>1.000000</td>\n",
              "    </tr>\n",
              "    <tr>\n",
              "      <th>2020-05-29</th>\n",
              "      <td>50700.000000</td>\n",
              "      <td>49700.000000</td>\n",
              "      <td>50000.000000</td>\n",
              "      <td>50700.000000</td>\n",
              "      <td>27596961.0</td>\n",
              "      <td>1.000000</td>\n",
              "    </tr>\n",
              "    <tr>\n",
              "      <th>2020-06-01</th>\n",
              "      <td>51200.000000</td>\n",
              "      <td>50600.000000</td>\n",
              "      <td>50800.000000</td>\n",
              "      <td>51200.000000</td>\n",
              "      <td>16949183.0</td>\n",
              "      <td>1.000000</td>\n",
              "    </tr>\n",
              "    <tr>\n",
              "      <th>2020-06-02</th>\n",
              "      <td>51500.000000</td>\n",
              "      <td>50800.000000</td>\n",
              "      <td>51000.000000</td>\n",
              "      <td>51400.000000</td>\n",
              "      <td>13725677.0</td>\n",
              "      <td>1.000000</td>\n",
              "    </tr>\n",
              "  </tbody>\n",
              "</table>\n",
              "<p>1188 rows × 6 columns</p>\n",
              "</div>"
            ],
            "text/plain": [
              "                    High           Low  ...      Volume  Adj_Ratio\n",
              "Date                                    ...                       \n",
              "2015-06-04    260.091824    253.109493  ...  19411950.0   0.009698\n",
              "2015-06-05    262.807178    256.018801  ...   9828150.0   0.009698\n",
              "2015-06-08    261.255558    254.661134  ...  10118950.0   0.009698\n",
              "2015-06-09    254.079261    245.933209  ...  13735250.0   0.009698\n",
              "2015-06-10    250.976002    244.769485  ...  12501700.0   0.009698\n",
              "...                  ...           ...  ...         ...        ...\n",
              "2020-05-27  50000.000000  48800.000000  ...  19548479.0   1.000000\n",
              "2020-05-28  51200.000000  49900.000000  ...  31309318.0   1.000000\n",
              "2020-05-29  50700.000000  49700.000000  ...  27596961.0   1.000000\n",
              "2020-06-01  51200.000000  50600.000000  ...  16949183.0   1.000000\n",
              "2020-06-02  51500.000000  50800.000000  ...  13725677.0   1.000000\n",
              "\n",
              "[1188 rows x 6 columns]"
            ]
          },
          "metadata": {
            "tags": []
          },
          "execution_count": 14
        }
      ]
    },
    {
      "cell_type": "markdown",
      "metadata": {
        "id": "oD7k5GQBbJqx",
        "colab_type": "text"
      },
      "source": [
        "df(info)"
      ]
    },
    {
      "cell_type": "markdown",
      "metadata": {
        "id": "q1LgTNrwbbj8",
        "colab_type": "text"
      },
      "source": [
        ""
      ]
    },
    {
      "cell_type": "code",
      "metadata": {
        "id": "NiY18TZ_bcS6",
        "colab_type": "code",
        "colab": {
          "base_uri": "https://localhost:8080/",
          "height": 164
        },
        "outputId": "bea23df3-44e3-4931-a691-347b74b53ec9"
      },
      "source": [
        "df(info)\n"
      ],
      "execution_count": 17,
      "outputs": [
        {
          "output_type": "error",
          "ename": "NameError",
          "evalue": "ignored",
          "traceback": [
            "\u001b[0;31m---------------------------------------------------------------------------\u001b[0m",
            "\u001b[0;31mNameError\u001b[0m                                 Traceback (most recent call last)",
            "\u001b[0;32m<ipython-input-17-5744ebd413a8>\u001b[0m in \u001b[0;36m<module>\u001b[0;34m()\u001b[0m\n\u001b[0;32m----> 1\u001b[0;31m \u001b[0mdf\u001b[0m\u001b[0;34m(\u001b[0m\u001b[0minfo\u001b[0m\u001b[0;34m)\u001b[0m\u001b[0;34m\u001b[0m\u001b[0;34m\u001b[0m\u001b[0m\n\u001b[0m",
            "\u001b[0;31mNameError\u001b[0m: name 'info' is not defined"
          ]
        }
      ]
    },
    {
      "cell_type": "code",
      "metadata": {
        "id": "Lr5waO4pcR2s",
        "colab_type": "code",
        "colab": {
          "base_uri": "https://localhost:8080/",
          "height": 450
        },
        "outputId": "45373c17-f4a4-43f3-81d1-c5fa35779d3f"
      },
      "source": [
        "df"
      ],
      "execution_count": 18,
      "outputs": [
        {
          "output_type": "execute_result",
          "data": {
            "text/html": [
              "<div>\n",
              "<style scoped>\n",
              "    .dataframe tbody tr th:only-of-type {\n",
              "        vertical-align: middle;\n",
              "    }\n",
              "\n",
              "    .dataframe tbody tr th {\n",
              "        vertical-align: top;\n",
              "    }\n",
              "\n",
              "    .dataframe thead th {\n",
              "        text-align: right;\n",
              "    }\n",
              "</style>\n",
              "<table border=\"1\" class=\"dataframe\">\n",
              "  <thead>\n",
              "    <tr style=\"text-align: right;\">\n",
              "      <th></th>\n",
              "      <th>High</th>\n",
              "      <th>Low</th>\n",
              "      <th>Open</th>\n",
              "      <th>Close</th>\n",
              "      <th>Volume</th>\n",
              "      <th>Adj_Ratio</th>\n",
              "    </tr>\n",
              "    <tr>\n",
              "      <th>Date</th>\n",
              "      <th></th>\n",
              "      <th></th>\n",
              "      <th></th>\n",
              "      <th></th>\n",
              "      <th></th>\n",
              "      <th></th>\n",
              "    </tr>\n",
              "  </thead>\n",
              "  <tbody>\n",
              "    <tr>\n",
              "      <th>2015-06-04</th>\n",
              "      <td>260.091824</td>\n",
              "      <td>253.109493</td>\n",
              "      <td>255.049030</td>\n",
              "      <td>259.316010</td>\n",
              "      <td>19411950.0</td>\n",
              "      <td>0.009698</td>\n",
              "    </tr>\n",
              "    <tr>\n",
              "      <th>2015-06-05</th>\n",
              "      <td>262.807178</td>\n",
              "      <td>256.018801</td>\n",
              "      <td>256.988569</td>\n",
              "      <td>260.091827</td>\n",
              "      <td>9828150.0</td>\n",
              "      <td>0.009698</td>\n",
              "    </tr>\n",
              "    <tr>\n",
              "      <th>2015-06-08</th>\n",
              "      <td>261.255558</td>\n",
              "      <td>254.661134</td>\n",
              "      <td>260.867650</td>\n",
              "      <td>254.855087</td>\n",
              "      <td>10118950.0</td>\n",
              "      <td>0.009698</td>\n",
              "    </tr>\n",
              "    <tr>\n",
              "      <th>2015-06-09</th>\n",
              "      <td>254.079261</td>\n",
              "      <td>245.933209</td>\n",
              "      <td>252.139725</td>\n",
              "      <td>248.648560</td>\n",
              "      <td>13735250.0</td>\n",
              "      <td>0.009698</td>\n",
              "    </tr>\n",
              "    <tr>\n",
              "      <th>2015-06-10</th>\n",
              "      <td>250.976002</td>\n",
              "      <td>244.769485</td>\n",
              "      <td>248.648558</td>\n",
              "      <td>244.769485</td>\n",
              "      <td>12501700.0</td>\n",
              "      <td>0.009698</td>\n",
              "    </tr>\n",
              "    <tr>\n",
              "      <th>...</th>\n",
              "      <td>...</td>\n",
              "      <td>...</td>\n",
              "      <td>...</td>\n",
              "      <td>...</td>\n",
              "      <td>...</td>\n",
              "      <td>...</td>\n",
              "    </tr>\n",
              "    <tr>\n",
              "      <th>2020-05-27</th>\n",
              "      <td>50000.000000</td>\n",
              "      <td>48800.000000</td>\n",
              "      <td>48950.000000</td>\n",
              "      <td>49900.000000</td>\n",
              "      <td>19548479.0</td>\n",
              "      <td>1.000000</td>\n",
              "    </tr>\n",
              "    <tr>\n",
              "      <th>2020-05-28</th>\n",
              "      <td>51200.000000</td>\n",
              "      <td>49900.000000</td>\n",
              "      <td>51100.000000</td>\n",
              "      <td>50400.000000</td>\n",
              "      <td>31309318.0</td>\n",
              "      <td>1.000000</td>\n",
              "    </tr>\n",
              "    <tr>\n",
              "      <th>2020-05-29</th>\n",
              "      <td>50700.000000</td>\n",
              "      <td>49700.000000</td>\n",
              "      <td>50000.000000</td>\n",
              "      <td>50700.000000</td>\n",
              "      <td>27596961.0</td>\n",
              "      <td>1.000000</td>\n",
              "    </tr>\n",
              "    <tr>\n",
              "      <th>2020-06-01</th>\n",
              "      <td>51200.000000</td>\n",
              "      <td>50600.000000</td>\n",
              "      <td>50800.000000</td>\n",
              "      <td>51200.000000</td>\n",
              "      <td>16949183.0</td>\n",
              "      <td>1.000000</td>\n",
              "    </tr>\n",
              "    <tr>\n",
              "      <th>2020-06-02</th>\n",
              "      <td>51500.000000</td>\n",
              "      <td>50800.000000</td>\n",
              "      <td>51000.000000</td>\n",
              "      <td>51400.000000</td>\n",
              "      <td>13725677.0</td>\n",
              "      <td>1.000000</td>\n",
              "    </tr>\n",
              "  </tbody>\n",
              "</table>\n",
              "<p>1188 rows × 6 columns</p>\n",
              "</div>"
            ],
            "text/plain": [
              "                    High           Low  ...      Volume  Adj_Ratio\n",
              "Date                                    ...                       \n",
              "2015-06-04    260.091824    253.109493  ...  19411950.0   0.009698\n",
              "2015-06-05    262.807178    256.018801  ...   9828150.0   0.009698\n",
              "2015-06-08    261.255558    254.661134  ...  10118950.0   0.009698\n",
              "2015-06-09    254.079261    245.933209  ...  13735250.0   0.009698\n",
              "2015-06-10    250.976002    244.769485  ...  12501700.0   0.009698\n",
              "...                  ...           ...  ...         ...        ...\n",
              "2020-05-27  50000.000000  48800.000000  ...  19548479.0   1.000000\n",
              "2020-05-28  51200.000000  49900.000000  ...  31309318.0   1.000000\n",
              "2020-05-29  50700.000000  49700.000000  ...  27596961.0   1.000000\n",
              "2020-06-01  51200.000000  50600.000000  ...  16949183.0   1.000000\n",
              "2020-06-02  51500.000000  50800.000000  ...  13725677.0   1.000000\n",
              "\n",
              "[1188 rows x 6 columns]"
            ]
          },
          "metadata": {
            "tags": []
          },
          "execution_count": 18
        }
      ]
    },
    {
      "cell_type": "code",
      "metadata": {
        "id": "BfNq6NL8cahI",
        "colab_type": "code",
        "colab": {
          "base_uri": "https://localhost:8080/",
          "height": 335
        },
        "outputId": "bbcc0c55-75ad-4848-ec38-1171c3eb090c"
      },
      "source": [
        "df = pdr.get_data_yahoo(code, adjust_price=True)\n",
        "\n",
        "df['Close'].plot(figsize=(10, 5))"
      ],
      "execution_count": 21,
      "outputs": [
        {
          "output_type": "execute_result",
          "data": {
            "text/plain": [
              "<matplotlib.axes._subplots.AxesSubplot at 0x7fb2b5a7b6d8>"
            ]
          },
          "metadata": {
            "tags": []
          },
          "execution_count": 21
        },
        {
          "output_type": "display_data",
          "data": {
            "image/png": "[encoded data removed]",
            "text/plain": [
              "<Figure size 720x360 with 1 Axes>"
            ]
          },
          "metadata": {
            "tags": [],
            "needs_background": "light"
          }
        }
      ]
    },
    {
      "cell_type": "code",
      "metadata": {
        "id": "4nC69U6sej4k",
        "colab_type": "code",
        "colab": {
          "base_uri": "https://localhost:8080/",
          "height": 286
        },
        "outputId": "3032400c-8462-4a27-931f-a17b4c3b9374"
      },
      "source": [
        "code = get_code(code_df, '삼성전자')\n",
        "\n",
        "df = pdr.get_data_yahoo(code)\n",
        "\n",
        "df['Close'].plot()"
      ],
      "execution_count": 22,
      "outputs": [
        {
          "output_type": "execute_result",
          "data": {
            "text/plain": [
              "<matplotlib.axes._subplots.AxesSubplot at 0x7fb2b5a0d1d0>"
            ]
          },
          "metadata": {
            "tags": []
          },
          "execution_count": 22
        },
        {
          "output_type": "display_data",
          "data": {
            "image/png": "[encoded data removed]",
            "text/plain": [
              "<Figure size 432x288 with 1 Axes>"
            ]
          },
          "metadata": {
            "tags": [],
            "needs_background": "light"
          }
        }
      ]
    },
    {
      "cell_type": "code",
      "metadata": {
        "id": "v6AFKjq8z---",
        "colab_type": "code",
        "colab": {}
      },
      "source": [
        "def get_download_stock(market_type=None):\n",
        "  market_type_param = stock_type[market_type]\n",
        "  download_link = 'http://kind.krx.co.kr/corpgeneral/corpList.do'\n",
        "  download_link = download_link + '?method=download'\n",
        "  download_link = download_link + '&marketType=' + market_type_param\n",
        "\n",
        "  df = pd.read_html(download_link, header=0)[0]\n",
        "  return df;"
      ],
      "execution_count": 0,
      "outputs": []
    },
    {
      "cell_type": "code",
      "metadata": {
        "id": "7m7k2BV_yyj7",
        "colab_type": "code",
        "colab": {}
      },
      "source": [
        "from tensorflow import keras\n",
        "from tensorflow.keras.layers import Dense"
      ],
      "execution_count": 0,
      "outputs": []
    },
    {
      "cell_type": "code",
      "metadata": {
        "id": "nDTlhRWgy5nn",
        "colab_type": "code",
        "colab": {
          "base_uri": "https://localhost:8080/",
          "height": 666
        },
        "outputId": "07f0f87b-c7ba-476e-c90f-0a42bfc0ed98"
      },
      "source": [
        "pip install tensorflow"
      ],
      "execution_count": 3,
      "outputs": [
        {
          "output_type": "stream",
          "text": [
            "Requirement already satisfied: tensorflow in /usr/local/lib/python3.6/dist-packages (2.2.0)\n",
            "Requirement already satisfied: opt-einsum>=2.3.2 in /usr/local/lib/python3.6/dist-packages (from tensorflow) (3.2.1)\n",
            "Requirement already satisfied: wheel>=0.26; python_version >= \"3\" in /usr/local/lib/python3.6/dist-packages (from tensorflow) (0.34.2)\n",
            "Requirement already satisfied: scipy==1.4.1; python_version >= \"3\" in /usr/local/lib/python3.6/dist-packages (from tensorflow) (1.4.1)\n",
            "Requirement already satisfied: google-pasta>=0.1.8 in /usr/local/lib/python3.6/dist-packages (from tensorflow) (0.2.0)\n",
            "Requirement already satisfied: termcolor>=1.1.0 in /usr/local/lib/python3.6/dist-packages (from tensorflow) (1.1.0)\n",
            "Requirement already satisfied: tensorflow-estimator<2.3.0,>=2.2.0 in /usr/local/lib/python3.6/dist-packages (from tensorflow) (2.2.0)\n",
            "Requirement already satisfied: astunparse==1.6.3 in /usr/local/lib/python3.6/dist-packages (from tensorflow) (1.6.3)\n",
            "Requirement already satisfied: keras-preprocessing>=1.1.0 in /usr/local/lib/python3.6/dist-packages (from tensorflow) (1.1.2)\n",
            "Requirement already satisfied: absl-py>=0.7.0 in /usr/local/lib/python3.6/dist-packages (from tensorflow) (0.9.0)\n",
            "Requirement already satisfied: tensorboard<2.3.0,>=2.2.0 in /usr/local/lib/python3.6/dist-packages (from tensorflow) (2.2.2)\n",
            "Requirement already satisfied: grpcio>=1.8.6 in /usr/local/lib/python3.6/dist-packages (from tensorflow) (1.29.0)\n",
            "Requirement already satisfied: gast==0.3.3 in /usr/local/lib/python3.6/dist-packages (from tensorflow) (0.3.3)\n",
            "Requirement already satisfied: wrapt>=1.11.1 in /usr/local/lib/python3.6/dist-packages (from tensorflow) (1.12.1)\n",
            "Requirement already satisfied: h5py<2.11.0,>=2.10.0 in /usr/local/lib/python3.6/dist-packages (from tensorflow) (2.10.0)\n",
            "Requirement already satisfied: six>=1.12.0 in /usr/local/lib/python3.6/dist-packages (from tensorflow) (1.12.0)\n",
            "Requirement already satisfied: numpy<2.0,>=1.16.0 in /usr/local/lib/python3.6/dist-packages (from tensorflow) (1.18.4)\n",
            "Requirement already satisfied: protobuf>=3.8.0 in /usr/local/lib/python3.6/dist-packages (from tensorflow) (3.10.0)\n",
            "Requirement already satisfied: werkzeug>=0.11.15 in /usr/local/lib/python3.6/dist-packages (from tensorboard<2.3.0,>=2.2.0->tensorflow) (1.0.1)\n",
            "Requirement already satisfied: tensorboard-plugin-wit>=1.6.0 in /usr/local/lib/python3.6/dist-packages (from tensorboard<2.3.0,>=2.2.0->tensorflow) (1.6.0.post3)\n",
            "Requirement already satisfied: setuptools>=41.0.0 in /usr/local/lib/python3.6/dist-packages (from tensorboard<2.3.0,>=2.2.0->tensorflow) (47.1.1)\n",
            "Requirement already satisfied: requests<3,>=2.21.0 in /usr/local/lib/python3.6/dist-packages (from tensorboard<2.3.0,>=2.2.0->tensorflow) (2.23.0)\n",
            "Requirement already satisfied: google-auth<2,>=1.6.3 in /usr/local/lib/python3.6/dist-packages (from tensorboard<2.3.0,>=2.2.0->tensorflow) (1.7.2)\n",
            "Requirement already satisfied: google-auth-oauthlib<0.5,>=0.4.1 in /usr/local/lib/python3.6/dist-packages (from tensorboard<2.3.0,>=2.2.0->tensorflow) (0.4.1)\n",
            "Requirement already satisfied: markdown>=2.6.8 in /usr/local/lib/python3.6/dist-packages (from tensorboard<2.3.0,>=2.2.0->tensorflow) (3.2.2)\n",
            "Requirement already satisfied: urllib3!=1.25.0,!=1.25.1,<1.26,>=1.21.1 in /usr/local/lib/python3.6/dist-packages (from requests<3,>=2.21.0->tensorboard<2.3.0,>=2.2.0->tensorflow) (1.24.3)\n",
            "Requirement already satisfied: certifi>=2017.4.17 in /usr/local/lib/python3.6/dist-packages (from requests<3,>=2.21.0->tensorboard<2.3.0,>=2.2.0->tensorflow) (2020.4.5.1)\n",
            "Requirement already satisfied: idna<3,>=2.5 in /usr/local/lib/python3.6/dist-packages (from requests<3,>=2.21.0->tensorboard<2.3.0,>=2.2.0->tensorflow) (2.9)\n",
            "Requirement already satisfied: chardet<4,>=3.0.2 in /usr/local/lib/python3.6/dist-packages (from requests<3,>=2.21.0->tensorboard<2.3.0,>=2.2.0->tensorflow) (3.0.4)\n",
            "Requirement already satisfied: pyasn1-modules>=0.2.1 in /usr/local/lib/python3.6/dist-packages (from google-auth<2,>=1.6.3->tensorboard<2.3.0,>=2.2.0->tensorflow) (0.2.8)\n",
            "Requirement already satisfied: rsa<4.1,>=3.1.4 in /usr/local/lib/python3.6/dist-packages (from google-auth<2,>=1.6.3->tensorboard<2.3.0,>=2.2.0->tensorflow) (4.0)\n",
            "Requirement already satisfied: cachetools<3.2,>=2.0.0 in /usr/local/lib/python3.6/dist-packages (from google-auth<2,>=1.6.3->tensorboard<2.3.0,>=2.2.0->tensorflow) (3.1.1)\n",
            "Requirement already satisfied: requests-oauthlib>=0.7.0 in /usr/local/lib/python3.6/dist-packages (from google-auth-oauthlib<0.5,>=0.4.1->tensorboard<2.3.0,>=2.2.0->tensorflow) (1.3.0)\n",
            "Requirement already satisfied: importlib-metadata; python_version < \"3.8\" in /usr/local/lib/python3.6/dist-packages (from markdown>=2.6.8->tensorboard<2.3.0,>=2.2.0->tensorflow) (1.6.0)\n",
            "Requirement already satisfied: pyasn1<0.5.0,>=0.4.6 in /usr/local/lib/python3.6/dist-packages (from pyasn1-modules>=0.2.1->google-auth<2,>=1.6.3->tensorboard<2.3.0,>=2.2.0->tensorflow) (0.4.8)\n",
            "Requirement already satisfied: oauthlib>=3.0.0 in /usr/local/lib/python3.6/dist-packages (from requests-oauthlib>=0.7.0->google-auth-oauthlib<0.5,>=0.4.1->tensorboard<2.3.0,>=2.2.0->tensorflow) (3.1.0)\n",
            "Requirement already satisfied: zipp>=0.5 in /usr/local/lib/python3.6/dist-packages (from importlib-metadata; python_version < \"3.8\"->markdown>=2.6.8->tensorboard<2.3.0,>=2.2.0->tensorflow) (3.1.0)\n"
          ],
          "name": "stdout"
        }
      ]
    },
    {
      "cell_type": "code",
      "metadata": {
        "id": "PyrmVEQFzXkz",
        "colab_type": "code",
        "colab": {}
      },
      "source": [
        "from tensorflow import keras\n",
        "from tensorflow.keras.layers import Dense"
      ],
      "execution_count": 0,
      "outputs": []
    },
    {
      "cell_type": "code",
      "metadata": {
        "id": "tVxVTAhuzhd5",
        "colab_type": "code",
        "colab": {}
      },
      "source": [
        "dnn = keras.Sequential()\n",
        "dnn.add(Dense(units=1, input_shape=(1,)))\n",
        "dnn.compile(optimizer='sgd', loss='mse')"
      ],
      "execution_count": 0,
      "outputs": []
    },
    {
      "cell_type": "code",
      "metadata": {
        "id": "TcK15dvDzqeQ",
        "colab_type": "code",
        "colab": {
          "base_uri": "https://localhost:8080/",
          "height": 187
        },
        "outputId": "9c6017e5-5a9f-4029-9084-bd4905541864"
      },
      "source": [
        "dnn.summary()"
      ],
      "execution_count": 6,
      "outputs": [
        {
          "output_type": "stream",
          "text": [
            "Model: \"sequential\"\n",
            "_________________________________________________________________\n",
            "Layer (type)                 Output Shape              Param #   \n",
            "=================================================================\n",
            "dense (Dense)                (None, 1)                 2         \n",
            "=================================================================\n",
            "Total params: 2\n",
            "Trainable params: 2\n",
            "Non-trainable params: 0\n",
            "_________________________________________________________________\n"
          ],
          "name": "stdout"
        }
      ]
    },
    {
      "cell_type": "code",
      "metadata": {
        "id": "HAD7p2kd0O_b",
        "colab_type": "code",
        "colab": {
          "base_uri": "https://localhost:8080/",
          "height": 164
        },
        "outputId": "58098f37-a370-45e1-b5d2-88fb36aa9adc"
      },
      "source": [
        "dnn.fit(x_new,y,epochs=10)"
      ],
      "execution_count": 7,
      "outputs": [
        {
          "output_type": "error",
          "ename": "NameError",
          "evalue": "ignored",
          "traceback": [
            "\u001b[0;31m---------------------------------------------------------------------------\u001b[0m",
            "\u001b[0;31mNameError\u001b[0m                                 Traceback (most recent call last)",
            "\u001b[0;32m<ipython-input-7-1f986efe507d>\u001b[0m in \u001b[0;36m<module>\u001b[0;34m()\u001b[0m\n\u001b[0;32m----> 1\u001b[0;31m \u001b[0mdnn\u001b[0m\u001b[0;34m.\u001b[0m\u001b[0mfit\u001b[0m\u001b[0;34m(\u001b[0m\u001b[0mx_new\u001b[0m\u001b[0;34m,\u001b[0m\u001b[0my\u001b[0m\u001b[0;34m,\u001b[0m\u001b[0mepochs\u001b[0m\u001b[0;34m=\u001b[0m\u001b[0;36m10\u001b[0m\u001b[0;34m)\u001b[0m\u001b[0;34m\u001b[0m\u001b[0;34m\u001b[0m\u001b[0m\n\u001b[0m",
            "\u001b[0;31mNameError\u001b[0m: name 'x_new' is not defined"
          ]
        }
      ]
    },
    {
      "cell_type": "code",
      "metadata": {
        "id": "_xe-1o730202",
        "colab_type": "code",
        "colab": {
          "base_uri": "https://localhost:8080/",
          "height": 181
        },
        "outputId": "d9afd16f-d75c-4c93-933a-1f83bdee1b6d"
      },
      "source": [
        "y_hat_dnn=predict(x_test)\n",
        "y_hat_dnn"
      ],
      "execution_count": 8,
      "outputs": [
        {
          "output_type": "error",
          "ename": "NameError",
          "evalue": "ignored",
          "traceback": [
            "\u001b[0;31m---------------------------------------------------------------------------\u001b[0m",
            "\u001b[0;31mNameError\u001b[0m                                 Traceback (most recent call last)",
            "\u001b[0;32m<ipython-input-8-45caecca366b>\u001b[0m in \u001b[0;36m<module>\u001b[0;34m()\u001b[0m\n\u001b[0;32m----> 1\u001b[0;31m \u001b[0my_hat_dnn\u001b[0m\u001b[0;34m=\u001b[0m\u001b[0mpredict\u001b[0m\u001b[0;34m(\u001b[0m\u001b[0mx_test\u001b[0m\u001b[0;34m)\u001b[0m\u001b[0;34m\u001b[0m\u001b[0;34m\u001b[0m\u001b[0m\n\u001b[0m\u001b[1;32m      2\u001b[0m \u001b[0my_hat_dnn\u001b[0m\u001b[0;34m\u001b[0m\u001b[0;34m\u001b[0m\u001b[0m\n",
            "\u001b[0;31mNameError\u001b[0m: name 'predict' is not defined"
          ]
        }
      ]
    },
    {
      "cell_type": "code",
      "metadata": {
        "id": "tehvawOB2cws",
        "colab_type": "code",
        "colab": {}
      },
      "source": [
        "dnn = keras.Sequential()\n",
        "dnn.add(Dense(units=1, input_shape=(1,)))\n",
        "dnn.compile(optimizer='sgd', loss='mse')"
      ],
      "execution_count": 0,
      "outputs": []
    },
    {
      "cell_type": "code",
      "metadata": {
        "id": "4E6p3-el3AHf",
        "colab_type": "code",
        "colab": {
          "base_uri": "https://localhost:8080/",
          "height": 105
        },
        "outputId": "151ca5b8-fe9f-454a-b767-7a4c70779972"
      },
      "source": [
        "import requests\n",
        "from bs4 import BeautifulSoup\n",
        "\n",
        "url = \"https://ko.wikipedia.org/wiki/%ED%8F%89%ED%99%94%EC%9D%98_%EC%86%8C%EB%85%80%EC%83%81\"\n",
        "resp = requests.get(url)\n",
        "html_src = resp.text\n",
        "\n",
        "soup = BeautifulSoup(html_src, 'html.parser')\n",
        "                    \n",
        "photo_first = soup.find(name='img')\n",
        "print(photo_first)\n",
        "print(\"\\n\")\n",
        "\n",
        "photo_sockcho = soup.find(name='img', attrs={'src':'//upload.wikimedia.org/wikipedia/commons/thumb/1/16/%ED%8F%89%ED%99%94%EC%9D%98%EC%86%8C%EB%85%80%EC%83%81%28Statute_of_Peace%29.jpg/220px-%ED%8F%89%ED%99%94%EC%9D%98%EC%86%8C%EB%85%80%EC%83%81%28Statute_of_Peace%29.jpg'})\n",
        "print(photo_sockcho)"
      ],
      "execution_count": 11,
      "outputs": [
        {
          "output_type": "stream",
          "text": [
            "<img alt=\"\" class=\"thumbimage\" data-file-height=\"3000\" data-file-width=\"4000\" decoding=\"async\" height=\"173\" src=\"//upload.wikimedia.org/wikipedia/commons/thumb/3/36/Japanese_Embassy_in_Seoul_and_watched_from_behind_a_bronze_statue_of_comfort_women.JPG/230px-Japanese_Embassy_in_Seoul_and_watched_from_behind_a_bronze_statue_of_comfort_women.JPG\" srcset=\"//upload.wikimedia.org/wikipedia/commons/thumb/3/36/Japanese_Embassy_in_Seoul_and_watched_from_behind_a_bronze_statue_of_comfort_women.JPG/345px-Japanese_Embassy_in_Seoul_and_watched_from_behind_a_bronze_statue_of_comfort_women.JPG 1.5x, //upload.wikimedia.org/wikipedia/commons/thumb/3/36/Japanese_Embassy_in_Seoul_and_watched_from_behind_a_bronze_statue_of_comfort_women.JPG/460px-Japanese_Embassy_in_Seoul_and_watched_from_behind_a_bronze_statue_of_comfort_women.JPG 2x\" width=\"230\"/>\n",
            "\n",
            "\n",
            "<img alt=\"\" class=\"thumbimage\" data-file-height=\"2268\" data-file-width=\"4032\" decoding=\"async\" height=\"124\" src=\"//upload.wikimedia.org/wikipedia/commons/thumb/1/16/%ED%8F%89%ED%99%94%EC%9D%98%EC%86%8C%EB%85%80%EC%83%81%28Statute_of_Peace%29.jpg/220px-%ED%8F%89%ED%99%94%EC%9D%98%EC%86%8C%EB%85%80%EC%83%81%28Statute_of_Peace%29.jpg\" srcset=\"//upload.wikimedia.org/wikipedia/commons/thumb/1/16/%ED%8F%89%ED%99%94%EC%9D%98%EC%86%8C%EB%85%80%EC%83%81%28Statute_of_Peace%29.jpg/330px-%ED%8F%89%ED%99%94%EC%9D%98%EC%86%8C%EB%85%80%EC%83%81%28Statute_of_Peace%29.jpg 1.5x, //upload.wikimedia.org/wikipedia/commons/thumb/1/16/%ED%8F%89%ED%99%94%EC%9D%98%EC%86%8C%EB%85%80%EC%83%81%28Statute_of_Peace%29.jpg/440px-%ED%8F%89%ED%99%94%EC%9D%98%EC%86%8C%EB%85%80%EC%83%81%28Statute_of_Peace%29.jpg 2x\" width=\"220\"/>\n"
          ],
          "name": "stdout"
        }
      ]
    },
    {
      "cell_type": "code",
      "metadata": {
        "id": "F3_FpnN85dYY",
        "colab_type": "code",
        "colab": {
          "base_uri": "https://localhost:8080/",
          "height": 130
        },
        "outputId": "60825b9d-7957-469a-e424-bad5561b5968"
      },
      "source": [
        "\n",
        "<Response [200]>\n",
        " \n",
        "\n",
        " \n",
        "\n",
        "<!DOCTYPE html>\n",
        "\n",
        "<html class=\"client-nojs\" lang=\"en\" dir=\"ltr\">\n",
        "\n",
        "<head>\n",
        "\n",
        "<meta charset=\"UTF-8\"/>\n",
        "\n",
        "<title>Wikipedia, the free encyclopedia</title>\n",
        "\n",
        "<script>document.documentElement.className=document.documentElement.className.replace(/(^|\\s)client-nojs(\\s|$)/,\"$1client-js$2\");RLCONF={\"wgCanonicalNamespace"
      ],
      "execution_count": 12,
      "outputs": [
        {
          "output_type": "error",
          "ename": "SyntaxError",
          "evalue": "ignored",
          "traceback": [
            "\u001b[0;36m  File \u001b[0;32m\"<ipython-input-12-79618951c2d1>\"\u001b[0;36m, line \u001b[0;32m2\u001b[0m\n\u001b[0;31m    <Response [200]>\u001b[0m\n\u001b[0m    ^\u001b[0m\n\u001b[0;31mSyntaxError\u001b[0m\u001b[0;31m:\u001b[0m invalid syntax\n"
          ]
        }
      ]
    },
    {
      "cell_type": "code",
      "metadata": {
        "id": "9-JHU4HX5oAG",
        "colab_type": "code",
        "colab": {
          "base_uri": "https://localhost:8080/",
          "height": 232
        },
        "outputId": "ea047592-b2aa-408f-80d5-5dea586087dc"
      },
      "source": [
        "soup = BeautifulSoup(html, 'html.parser')\n",
        "print(type(soup))\n",
        "print(\"\\n\")                 \n",
        "print(soup.head)\n",
        "print(\"\\n\")\n",
        "print(soup.body)\n",
        "print(\"\\n\")"
      ],
      "execution_count": 13,
      "outputs": [
        {
          "output_type": "error",
          "ename": "NameError",
          "evalue": "ignored",
          "traceback": [
            "\u001b[0;31m---------------------------------------------------------------------------\u001b[0m",
            "\u001b[0;31mNameError\u001b[0m                                 Traceback (most recent call last)",
            "\u001b[0;32m<ipython-input-13-c22fe8179e50>\u001b[0m in \u001b[0;36m<module>\u001b[0;34m()\u001b[0m\n\u001b[0;32m----> 1\u001b[0;31m \u001b[0msoup\u001b[0m \u001b[0;34m=\u001b[0m \u001b[0mBeautifulSoup\u001b[0m\u001b[0;34m(\u001b[0m\u001b[0mhtml\u001b[0m\u001b[0;34m,\u001b[0m \u001b[0;34m'html.parser'\u001b[0m\u001b[0;34m)\u001b[0m\u001b[0;34m\u001b[0m\u001b[0;34m\u001b[0m\u001b[0m\n\u001b[0m\u001b[1;32m      2\u001b[0m \u001b[0mprint\u001b[0m\u001b[0;34m(\u001b[0m\u001b[0mtype\u001b[0m\u001b[0;34m(\u001b[0m\u001b[0msoup\u001b[0m\u001b[0;34m)\u001b[0m\u001b[0;34m)\u001b[0m\u001b[0;34m\u001b[0m\u001b[0;34m\u001b[0m\u001b[0m\n\u001b[1;32m      3\u001b[0m \u001b[0mprint\u001b[0m\u001b[0;34m(\u001b[0m\u001b[0;34m\"\\n\"\u001b[0m\u001b[0;34m)\u001b[0m\u001b[0;34m\u001b[0m\u001b[0;34m\u001b[0m\u001b[0m\n\u001b[1;32m      4\u001b[0m \u001b[0mprint\u001b[0m\u001b[0;34m(\u001b[0m\u001b[0msoup\u001b[0m\u001b[0;34m.\u001b[0m\u001b[0mhead\u001b[0m\u001b[0;34m)\u001b[0m\u001b[0;34m\u001b[0m\u001b[0;34m\u001b[0m\u001b[0m\n\u001b[1;32m      5\u001b[0m \u001b[0mprint\u001b[0m\u001b[0;34m(\u001b[0m\u001b[0;34m\"\\n\"\u001b[0m\u001b[0;34m)\u001b[0m\u001b[0;34m\u001b[0m\u001b[0;34m\u001b[0m\u001b[0m\n",
            "\u001b[0;31mNameError\u001b[0m: name 'html' is not defined"
          ]
        }
      ]
    },
    {
      "cell_type": "code",
      "metadata": {
        "id": "njvZT4Cv53al",
        "colab_type": "code",
        "colab": {
          "base_uri": "https://localhost:8080/",
          "height": 130
        },
        "outputId": "dedce4b3-093a-4e51-a010-c447a79831b7"
      },
      "source": [
        "<class 'bs4.BeautifulSoup'>\n",
        " \n",
        "\n",
        " \n",
        "\n",
        "<head>\n",
        "\n",
        "<meta charset=\"utf-8\"/>\n",
        "\n",
        "<title>Wikipedia, the free encyclopedia</title>\n",
        "\n",
        "<script>document.documentElement.className=document.documentElement.className.replace(/(^|\\s)client-nojs(\\s|$)/,\"$1client-js$2\");RLCONF={\"wgCanonicalNamespace\":\"\",\"wgC ... <중략>...\n",
        "\n",
        " \n",
        "\n",
        " \n",
        "\n",
        "<body class=\"mediawiki ltr sitedir-ltr mw-hide-empty-elt ns-0 ns-subject page-Main_Page rootpage-Main_Page skin-vector action-view\">\n",
        "\n",
        "<div class=\"noprint\" id=\"mw-page-base\"></div>\n",
        "\n",
        "<div class=\"noprint\" id=\"mw-head-base\"></div>\n",
        "\n",
        "<div class=\"mw-body\" id=\"content\" role=\"main\">\n",
        "\n",
        "<a id=\"top\"></a>\n",
        "\n",
        "<div class=\"mw-body-content\" id=\"siteNotice\"><!-- CentralNotice --></div>\n",
        "\n",
        "<div class=\"mw-indicators mw-body-content\">\n",
        "\n",
        "</div>  \n",
        "\n",
        "<h1 class=\"firstHeading\" id=\"firstHeading\" lang=\"en\">Main Page</h1>\n",
        "\n",
        "<div class=\"mw-body-content\" id=\"bodyContent\">\n",
        "\n",
        "<div class=\"noprint\" id=\"siteSub\">From Wikipedia, the free encyclopedia</div>\n",
        "\n",
        "<div id=\"contentSub\"></div>\n",
        "\n",
        "<div id=\"jump-to-nav\"></div>  ... <이하 생략>..."
      ],
      "execution_count": 14,
      "outputs": [
        {
          "output_type": "error",
          "ename": "SyntaxError",
          "evalue": "ignored",
          "traceback": [
            "\u001b[0;36m  File \u001b[0;32m\"<ipython-input-14-15eebb3c97ff>\"\u001b[0;36m, line \u001b[0;32m1\u001b[0m\n\u001b[0;31m    <class 'bs4.BeautifulSoup'>\u001b[0m\n\u001b[0m    ^\u001b[0m\n\u001b[0;31mSyntaxError\u001b[0m\u001b[0;31m:\u001b[0m invalid syntax\n"
          ]
        }
      ]
    },
    {
      "cell_type": "code",
      "metadata": {
        "id": "RBUfYtZf5-2K",
        "colab_type": "code",
        "colab": {
          "base_uri": "https://localhost:8080/",
          "height": 68
        },
        "outputId": "d51c3e03-37d8-4a81-c18c-aeed7e802164"
      },
      "source": [
        "print(soup.title)\n",
        "print(soup.title.name)\n",
        "print(soup.title.string)"
      ],
      "execution_count": 15,
      "outputs": [
        {
          "output_type": "stream",
          "text": [
            "<title>평화의 소녀상 - 위키백과, 우리 모두의 백과사전</title>\n",
            "title\n",
            "평화의 소녀상 - 위키백과, 우리 모두의 백과사전\n"
          ],
          "name": "stdout"
        }
      ]
    },
    {
      "cell_type": "code",
      "metadata": {
        "id": "mjpERfId6JFv",
        "colab_type": "code",
        "colab": {
          "base_uri": "https://localhost:8080/",
          "height": 130
        },
        "outputId": "5843ff8c-3aa3-4711-d515-3317b684d734"
      },
      "source": [
        "\n",
        "<title>Wikipedia, the free encyclopedia</title>\n",
        "title\n",
        "\n",
        "Wikipedia, the free encyclopedia"
      ],
      "execution_count": 16,
      "outputs": [
        {
          "output_type": "error",
          "ename": "SyntaxError",
          "evalue": "ignored",
          "traceback": [
            "\u001b[0;36m  File \u001b[0;32m\"<ipython-input-16-074ae3d5aaef>\"\u001b[0;36m, line \u001b[0;32m2\u001b[0m\n\u001b[0;31m    <title>Wikipedia, the free encyclopedia</title>\u001b[0m\n\u001b[0m    ^\u001b[0m\n\u001b[0;31mSyntaxError\u001b[0m\u001b[0;31m:\u001b[0m invalid syntax\n"
          ]
        }
      ]
    },
    {
      "cell_type": "code",
      "metadata": {
        "id": "dSRBjrdQ6ktL",
        "colab_type": "code",
        "colab": {
          "base_uri": "https://localhost:8080/",
          "height": 292
        },
        "outputId": "e3fffdde-7752-4723-9e62-c4b76d3dd9bd"
      },
      "source": [
        "import requests\n",
        "\n",
        "url = \"https://www.wikipedia.org/\"\n",
        "resp = requests.get(url)\n",
        "\n",
        "html = resp.text\n",
        "print(html[:1000])"
      ],
      "execution_count": 17,
      "outputs": [
        {
          "output_type": "stream",
          "text": [
            "<!DOCTYPE html>\n",
            "<html lang=\"mul\" class=\"no-js\">\n",
            "<head>\n",
            "<meta charset=\"utf-8\">\n",
            "<title>Wikipedia</title>\n",
            "<meta name=\"description\" content=\"Wikipedia is a free online encyclopedia, created and edited by volunteers around the world and hosted by the Wikimedia Foundation.\">\n",
            "<script>\n",
            "document.documentElement.className = document.documentElement.className.replace( /(^|\\s)no-js(\\s|$)/, \"$1js-enabled$2\" );\n",
            "</script>\n",
            "<meta name=\"viewport\" content=\"initial-scale=1,user-scalable=yes\">\n",
            "<link rel=\"apple-touch-icon\" href=\"/static/apple-touch/wikipedia.png\">\n",
            "<link rel=\"shortcut icon\" href=\"/static/favicon/wikipedia.ico\">\n",
            "<link rel=\"license\" href=\"//creativecommons.org/licenses/by-sa/3.0/\">\n",
            "<style>\n",
            ".sprite{background-image:url(portal/wikipedia.org/assets/img/sprite-81a290a5.png);background-image:linear-gradient(transparent,transparent),url(portal/wikipedia.org/assets/img/sprite-81a290a5.svg);background-repeat:no-repeat;display:inline-block;vertical-align:middle}.svg-Commons-logo_sister{background-posit\n"
          ],
          "name": "stdout"
        }
      ]
    },
    {
      "cell_type": "code",
      "metadata": {
        "id": "Os2JlWV57Sw2",
        "colab_type": "code",
        "colab": {}
      },
      "source": [
        "import pandas as pd\n",
        "\n",
        " \n",
        "\n",
        "#html 객체의 표(table)를 pandas dataframe으로 가져온다\n",
        "url = 'http://media.kisline.com/highlight/mainHighlight.nice?nav=1&paper_stock=005930'\n",
        "tables = pd.read_html(url)"
      ],
      "execution_count": 0,
      "outputs": []
    },
    {
      "cell_type": "code",
      "metadata": {
        "id": "It1efDPt7XU8",
        "colab_type": "code",
        "colab": {}
      },
      "source": [
        "import pandas as pd\n",
        "url = 'http://media.kisline.com/highlight/mainHighlight.nice?nav=1&paper_stock=005930'\n",
        "tables = pd.read_html(url)"
      ],
      "execution_count": 0,
      "outputs": []
    },
    {
      "cell_type": "code",
      "metadata": {
        "id": "zGLBEDSj7tkQ",
        "colab_type": "code",
        "colab": {
          "base_uri": "https://localhost:8080/",
          "height": 198
        },
        "outputId": "0e347f04-70fb-4334-e44b-3f5f4b42d240"
      },
      "source": [
        "#엑셀로 저장하기\n",
        "df = tables[4]    #개별IFRS 연간 재무제표\n",
        "df.to_excel('output.xlsx')"
      ],
      "execution_count": 20,
      "outputs": [
        {
          "output_type": "error",
          "ename": "IndexError",
          "evalue": "ignored",
          "traceback": [
            "\u001b[0;31m---------------------------------------------------------------------------\u001b[0m",
            "\u001b[0;31mIndexError\u001b[0m                                Traceback (most recent call last)",
            "\u001b[0;32m<ipython-input-20-923ead55b0e2>\u001b[0m in \u001b[0;36m<module>\u001b[0;34m()\u001b[0m\n\u001b[1;32m      1\u001b[0m \u001b[0;31m#엑셀로 저장하기\u001b[0m\u001b[0;34m\u001b[0m\u001b[0;34m\u001b[0m\u001b[0;34m\u001b[0m\u001b[0m\n\u001b[0;32m----> 2\u001b[0;31m \u001b[0mdf\u001b[0m \u001b[0;34m=\u001b[0m \u001b[0mtables\u001b[0m\u001b[0;34m[\u001b[0m\u001b[0;36m4\u001b[0m\u001b[0;34m]\u001b[0m    \u001b[0;31m#개별IFRS 연간 재무제표\u001b[0m\u001b[0;34m\u001b[0m\u001b[0;34m\u001b[0m\u001b[0m\n\u001b[0m\u001b[1;32m      3\u001b[0m \u001b[0mdf\u001b[0m\u001b[0;34m.\u001b[0m\u001b[0mto_excel\u001b[0m\u001b[0;34m(\u001b[0m\u001b[0;34m'output.xlsx'\u001b[0m\u001b[0;34m)\u001b[0m\u001b[0;34m\u001b[0m\u001b[0;34m\u001b[0m\u001b[0m\n",
            "\u001b[0;31mIndexError\u001b[0m: list index out of range"
          ]
        }
      ]
    },
    {
      "cell_type": "code",
      "metadata": {
        "id": "RQ4lOKin7yBv",
        "colab_type": "code",
        "colab": {
          "base_uri": "https://localhost:8080/",
          "height": 198
        },
        "outputId": "0e333dce-8de6-4847-eb6c-20fb936e8b26"
      },
      "source": [
        "\n",
        "df = tables[4]    \n",
        "df.to_excel('output.xlsx')"
      ],
      "execution_count": 21,
      "outputs": [
        {
          "output_type": "error",
          "ename": "IndexError",
          "evalue": "ignored",
          "traceback": [
            "\u001b[0;31m---------------------------------------------------------------------------\u001b[0m",
            "\u001b[0;31mIndexError\u001b[0m                                Traceback (most recent call last)",
            "\u001b[0;32m<ipython-input-21-cddb7d2d2944>\u001b[0m in \u001b[0;36m<module>\u001b[0;34m()\u001b[0m\n\u001b[1;32m      1\u001b[0m \u001b[0;34m\u001b[0m\u001b[0m\n\u001b[0;32m----> 2\u001b[0;31m \u001b[0mdf\u001b[0m \u001b[0;34m=\u001b[0m \u001b[0mtables\u001b[0m\u001b[0;34m[\u001b[0m\u001b[0;36m4\u001b[0m\u001b[0;34m]\u001b[0m\u001b[0;34m\u001b[0m\u001b[0;34m\u001b[0m\u001b[0m\n\u001b[0m\u001b[1;32m      3\u001b[0m \u001b[0mdf\u001b[0m\u001b[0;34m.\u001b[0m\u001b[0mto_excel\u001b[0m\u001b[0;34m(\u001b[0m\u001b[0;34m'output.xlsx'\u001b[0m\u001b[0;34m)\u001b[0m\u001b[0;34m\u001b[0m\u001b[0;34m\u001b[0m\u001b[0m\n",
            "\u001b[0;31mIndexError\u001b[0m: list index out of range"
          ]
        }
      ]
    },
    {
      "cell_type": "code",
      "metadata": {
        "id": "6HvcrAJYKxD_",
        "colab_type": "code",
        "colab": {}
      },
      "source": [
        "from selenium import webdriver from bs4 import BeautifulSoup import time\n",
        "\n",
        "출처: https://comdoc.tistory.com/entry/6-selenium-과-BeautifulSoup으로-daum-카페를-크롤링-해보자?category=798707 [ComDoc]"
      ],
      "execution_count": 0,
      "outputs": []
    },
    {
      "cell_type": "code",
      "metadata": {
        "id": "zyfUV4IJK05m",
        "colab_type": "code",
        "colab": {
          "base_uri": "https://localhost:8080/",
          "height": 130
        },
        "outputId": "03f688d6-11d0-4ba7-f5a1-9aa49cfdd6c3"
      },
      "source": [
        "from selenium import webdriver from bs4 import BeautifulSoup import time"
      ],
      "execution_count": 22,
      "outputs": [
        {
          "output_type": "error",
          "ename": "SyntaxError",
          "evalue": "ignored",
          "traceback": [
            "\u001b[0;36m  File \u001b[0;32m\"<ipython-input-22-8385dd9bc0be>\"\u001b[0;36m, line \u001b[0;32m1\u001b[0m\n\u001b[0;31m    from selenium import webdriver from bs4 import BeautifulSoup import time\u001b[0m\n\u001b[0m                                      ^\u001b[0m\n\u001b[0;31mSyntaxError\u001b[0m\u001b[0;31m:\u001b[0m invalid syntax\n"
          ]
        }
      ]
    },
    {
      "cell_type": "code",
      "metadata": {
        "id": "nyxrSLFuK-bz",
        "colab_type": "code",
        "colab": {
          "base_uri": "https://localhost:8080/",
          "height": 164
        },
        "outputId": "680f4d0e-3e18-4219-c165-bec5ebdbfb13"
      },
      "source": [
        "driver = webdriver.Chrome('./driver/chromedriver')\n"
      ],
      "execution_count": 23,
      "outputs": [
        {
          "output_type": "error",
          "ename": "NameError",
          "evalue": "ignored",
          "traceback": [
            "\u001b[0;31m---------------------------------------------------------------------------\u001b[0m",
            "\u001b[0;31mNameError\u001b[0m                                 Traceback (most recent call last)",
            "\u001b[0;32m<ipython-input-23-278a11c4190b>\u001b[0m in \u001b[0;36m<module>\u001b[0;34m()\u001b[0m\n\u001b[0;32m----> 1\u001b[0;31m \u001b[0mdriver\u001b[0m \u001b[0;34m=\u001b[0m \u001b[0mwebdriver\u001b[0m\u001b[0;34m.\u001b[0m\u001b[0mChrome\u001b[0m\u001b[0;34m(\u001b[0m\u001b[0;34m'./driver/chromedriver'\u001b[0m\u001b[0;34m)\u001b[0m\u001b[0;34m\u001b[0m\u001b[0;34m\u001b[0m\u001b[0m\n\u001b[0m",
            "\u001b[0;31mNameError\u001b[0m: name 'webdriver' is not defined"
          ]
        }
      ]
    },
    {
      "cell_type": "code",
      "metadata": {
        "id": "1gf2MxRPLH1s",
        "colab_type": "code",
        "colab": {
          "base_uri": "https://localhost:8080/",
          "height": 164
        },
        "outputId": "7c121be0-4471-465f-dd78-143aad7509dc"
      },
      "source": [
        "driver.get('https://logins.daum.net/accounts/loginform.do?mobilefull=1&category=cafe&url=http%3A%2F%2Fm.cafe.daum.net%2F_myCafe%3Fnull')\n"
      ],
      "execution_count": 24,
      "outputs": [
        {
          "output_type": "error",
          "ename": "NameError",
          "evalue": "ignored",
          "traceback": [
            "\u001b[0;31m---------------------------------------------------------------------------\u001b[0m",
            "\u001b[0;31mNameError\u001b[0m                                 Traceback (most recent call last)",
            "\u001b[0;32m<ipython-input-24-910241c2aa9c>\u001b[0m in \u001b[0;36m<module>\u001b[0;34m()\u001b[0m\n\u001b[0;32m----> 1\u001b[0;31m \u001b[0mdriver\u001b[0m\u001b[0;34m.\u001b[0m\u001b[0mget\u001b[0m\u001b[0;34m(\u001b[0m\u001b[0;34m'https://logins.daum.net/accounts/loginform.do?mobilefull=1&category=cafe&url=http%3A%2F%2Fm.cafe.daum.net%2F_myCafe%3Fnull'\u001b[0m\u001b[0;34m)\u001b[0m\u001b[0;34m\u001b[0m\u001b[0;34m\u001b[0m\u001b[0m\n\u001b[0m",
            "\u001b[0;31mNameError\u001b[0m: name 'driver' is not defined"
          ]
        }
      ]
    },
    {
      "cell_type": "code",
      "metadata": {
        "id": "YTZclgY7LS_e",
        "colab_type": "code",
        "colab": {
          "base_uri": "https://localhost:8080/",
          "height": 164
        },
        "outputId": "dbeeac1d-aec1-4fd4-ef66-9a01a47a7790"
      },
      "source": [
        "time.sleep(3) "
      ],
      "execution_count": 25,
      "outputs": [
        {
          "output_type": "error",
          "ename": "NameError",
          "evalue": "ignored",
          "traceback": [
            "\u001b[0;31m---------------------------------------------------------------------------\u001b[0m",
            "\u001b[0;31mNameError\u001b[0m                                 Traceback (most recent call last)",
            "\u001b[0;32m<ipython-input-25-f46203d11512>\u001b[0m in \u001b[0;36m<module>\u001b[0;34m()\u001b[0m\n\u001b[0;32m----> 1\u001b[0;31m \u001b[0mtime\u001b[0m\u001b[0;34m.\u001b[0m\u001b[0msleep\u001b[0m\u001b[0;34m(\u001b[0m\u001b[0;36m3\u001b[0m\u001b[0;34m)\u001b[0m\u001b[0;34m\u001b[0m\u001b[0;34m\u001b[0m\u001b[0m\n\u001b[0m",
            "\u001b[0;31mNameError\u001b[0m: name 'time' is not defined"
          ]
        }
      ]
    },
    {
      "cell_type": "code",
      "metadata": {
        "id": "-MrXpfW3LkbX",
        "colab_type": "code",
        "colab": {
          "base_uri": "https://localhost:8080/",
          "height": 184
        },
        "outputId": "4f5990fe-853f-4deb-8152-8f4fcac93024"
      },
      "source": [
        "driver.find_element_by_xpath(\"\"\"//*[@id=\"id\"]\"\"\").send_keys('') # id driver.find_element_by_xpath(\"\"\"//*[@id=\"inputPwd\"]\"\"\").send_keys('') # 패스워드 driver.find_element_by_xpath(\"\"\"//*[@id=\"loginBtn\"]\"\"\").click() # 입력 버튼 클릭. time.sleep(3)\n"
      ],
      "execution_count": 26,
      "outputs": [
        {
          "output_type": "error",
          "ename": "NameError",
          "evalue": "ignored",
          "traceback": [
            "\u001b[0;31m---------------------------------------------------------------------------\u001b[0m",
            "\u001b[0;31mNameError\u001b[0m                                 Traceback (most recent call last)",
            "\u001b[0;32m<ipython-input-26-61f1a402dc59>\u001b[0m in \u001b[0;36m<module>\u001b[0;34m()\u001b[0m\n\u001b[0;32m----> 1\u001b[0;31m \u001b[0mdriver\u001b[0m\u001b[0;34m.\u001b[0m\u001b[0mfind_element_by_xpath\u001b[0m\u001b[0;34m(\u001b[0m\u001b[0;34m\"\"\"//*[@id=\"id\"]\"\"\"\u001b[0m\u001b[0;34m)\u001b[0m\u001b[0;34m.\u001b[0m\u001b[0msend_keys\u001b[0m\u001b[0;34m(\u001b[0m\u001b[0;34m''\u001b[0m\u001b[0;34m)\u001b[0m \u001b[0;31m# id driver.find_element_by_xpath(\"\"\"//*[@id=\"inputPwd\"]\"\"\").send_keys('') # 패스워드 driver.find_element_by_xpath(\"\"\"//*[@id=\"loginBtn\"]\"\"\").click() # 입력 버튼 클릭. time.sleep(3)\u001b[0m\u001b[0;34m\u001b[0m\u001b[0;34m\u001b[0m\u001b[0m\n\u001b[0m",
            "\u001b[0;31mNameError\u001b[0m: name 'driver' is not defined"
          ]
        }
      ]
    },
    {
      "cell_type": "code",
      "metadata": {
        "id": "lbxDMwXjMxEW",
        "colab_type": "code",
        "colab": {
          "base_uri": "https://localhost:8080/",
          "height": 150
        },
        "outputId": "411b20b7-301f-43f7-8daf-414f36734cd9"
      },
      "source": [
        "while page < 102 : # 게시글 페이지 수 입니다. 올해글이 약 102page를 차지하고 있었습니다. page = page + 1 quest_urls = [] try : # add personal conditions # &search.menuid = : 게시판 번호(카페마다 상이) # &search.page = : 데이터 수집 할 페이지 번호 # &userDisplay = 50 : 한 페이지에 보여질 게시글 수 driver.get(base_url + '&search.menuid=2&search.page='+ str(page) +'&userDisplay=50') driver.switch_to.frame('cafe_main') #iframe으로 프레임 전환 quest_list = driver.find_elements_by_css_selector('div.inner_list > a.article') quest_urls = [ i.get_attribute('href') for i in quest_list ] print(len(quest_urls)) for quest in quest_urls : try : #게시글이 삭제되었을 경우가 있기 때문에 try-exception driver.get(quest) driver.switch_to.frame('cafe_main') soup = bs(driver.page_source, 'html.parser') #제목 추출 title = soup.select('div.tit-box span.b')[0].get_text() print(title) #내용 추출 content_tags = soup.select('#tbody')[0].select('p') content = ' '.join([ tags.get_text() for tags in content_tags ]) print(content) job_seq = job_seq+1 sqlInsert = \"INSERT INTO schema_name.table_name VALUES (%s,%s,%s)\" val = (job_seq,title,content) curs.execute(sqlInsert,val) conn.commit() #말머리 추출 try : tag = soup.select('div.tit-box span.head')[0].get_text() temp_list = [title, content] f = open('preg_quest.csv', 'a+', encoding = 'ansi', newline='') wr = csv.writer(f) wr.writerow(temp_list) f.close() cnt = cnt + 1 except : # 말머리 없으면 next pass except : # chrome alert창 처리해줌 driver.switch_to_alert.accpet() driver.switch_to_alert driver.switch_to_alert.accpet() except : pass print([page, cnt]) #page로는 진행상황을 알 수 있고 cnt로는 몇개의 데이터를 모았는지 알 수 있음 conn.close()\n"
      ],
      "execution_count": 1,
      "outputs": [
        {
          "output_type": "error",
          "ename": "SyntaxError",
          "evalue": "ignored",
          "traceback": [
            "\u001b[0;36m  File \u001b[0;32m\"<ipython-input-1-96438568de9c>\"\u001b[0;36m, line \u001b[0;32m1\u001b[0m\n\u001b[0;31m    while page < 102 : # 게시글 페이지 수 입니다. 올해글이 약 102page를 차지하고 있었습니다. page = page + 1 quest_urls = [] try : # add personal conditions # &search.menuid = : 게시판 번호(카페마다 상이) # &search.page = : 데이터 수집 할 페이지 번호 # &userDisplay = 50 : 한 페이지에 보여질 게시글 수 driver.get(base_url + '&search.menuid=2&search.page='+ str(page) +'&userDisplay=50') driver.switch_to.frame('cafe_main') #iframe으로 프레임 전환 quest_list = driver.find_elements_by_css_selector('div.inner_list > a.article') quest_urls = [ i.get_attribute('href') for i in quest_list ] print(len(quest_urls)) for quest in quest_urls : try : #게시글이 삭제되었을 경우가 있기 때문에 try-exception driver.get(quest) driver.switch_to.frame('cafe_main') soup = bs(driver.page_source, 'html.parser') #제목 추출 title = soup.select('div.tit-box span.b')[0].get_text() print(title) #내용 추출 content_tags = soup.select('#tbody')[0].select('p') content = ' '.join([ tags.get_text() for tags in content_tags ]) print(content) job_seq = job_seq+1 sqlInsert = \"INSERT INTO schema_name.table_name VALUES (%s,%s,%s)\" val = (job_seq,title,content) curs.execute(sqlInsert,val) conn.commit() #말머리 추출 try : tag = soup.select('div.tit-box span.head')[0].get_text() temp_list = [title, content] f = open('preg_quest.csv', 'a+', encoding = 'ansi', newline='') wr = csv.writer(f) wr.writerow(temp_list) f.close() cnt = cnt + 1 except : # 말머리 없으면 next pass except : # chrome alert창 처리해줌 driver.switch_to_alert.accpet() driver.switch_to_alert driver.switch_to_alert.accpet() except : pass print([page, ...\n\u001b[0m                                                                                                                                                                                                                                                                                                                                                                                                                                                                                                                                                                                                                                                                                                                                                                                                                                                                                                                                                                                                                                                                                                                                                                                                                                                                                                                                                                                                                                                                                                                                                     ...\n\u001b[0;31mSyntaxError\u001b[0m\u001b[0;31m:\u001b[0m unexpected EOF while parsing\n"
          ]
        }
      ]
    },
    {
      "cell_type": "code",
      "metadata": {
        "id": "eGhUgsWM_Lp9",
        "colab_type": "code",
        "colab": {}
      },
      "source": [
        "import urllib.request\n",
        "import urllib.parse\n",
        "from bs4 import BeautifulSoup\n",
        "\n",
        "baseurl = 'https://search.naver.com/search.naver?where=webkr&sm=tab_jum&query=python+%EB%84%A4%EC%9D%B4%EB%B2%84+%EA%B2%8C%EC%8B%9C%ED%8C%90+%ED%81%AC%EB%A1%A4%EB%A7%81'\n",
        "plusurl = input('python 네이버 게시판 크롤링:')\n",
        "url = baseurl + urllib.parse.quote_plus(plusurl)\n",
        "\n",
        "html = urllib.request.urlopen(url).read()\n",
        "soup = BeautifulSoup(html, 'html.parser')\n",
        "\n",
        "title = soup.find_all(class_= 'sh_blog_title')\n",
        "\n",
        "for i in title:\n",
        "    print(i.attrs['title'])\n",
        "    print(i.attrs['href'])\n",
        "    print()"
      ],
      "execution_count": 0,
      "outputs": []
    },
    {
      "cell_type": "code",
      "metadata": {
        "id": "PH5lKr0aIA9y",
        "colab_type": "code",
        "colab": {}
      },
      "source": [
        "import urllib.request\n",
        "import urllib.parse\n",
        "from bs4 import BeautifulSoup\n",
        "\n",
        "baseurl = 'https://search.naver.com/search.naver?where=post&sm=tab_jum&query='\n",
        "plusurl = input('python 네이버 게시판 크롤링:')\n",
        "url = baseurl + urllib.parse.quote_plus(plusurl)\n",
        "\n",
        "html = urllib.request.urlopen(url).read()\n",
        "soup = BeautifulSoup(html, 'html.parser')\n",
        "\n",
        "title = soup.find_all(class_= 'sh_blog_title')\n",
        "\n",
        "for i in title:\n",
        "    print(i.attrs['title'])\n",
        "    print(i.attrs['href'])\n",
        "    print()"
      ],
      "execution_count": 0,
      "outputs": []
    },
    {
      "cell_type": "code",
      "metadata": {
        "id": "nFJ4v7XESG8v",
        "colab_type": "code",
        "colab": {
          "base_uri": "https://localhost:8080/",
          "height": 1000
        },
        "outputId": "88e70693-8168-43e7-d25b-f41c21a775f1"
      },
      "source": [
        "import requests\n",
        "\n",
        "url = \"https://www.wikipedia.org/\"\n",
        "resp = requests.get(url)\n",
        "\n",
        "html = resp.text\n",
        "print(html)"
      ],
      "execution_count": 2,
      "outputs": [
        {
          "output_type": "stream",
          "text": [
            "<!DOCTYPE html>\n",
            "<html lang=\"mul\" class=\"no-js\">\n",
            "<head>\n",
            "<meta charset=\"utf-8\">\n",
            "<title>Wikipedia</title>\n",
            "<meta name=\"description\" content=\"Wikipedia is a free online encyclopedia, created and edited by volunteers around the world and hosted by the Wikimedia Foundation.\">\n",
            "<script>\n",
            "document.documentElement.className = document.documentElement.className.replace( /(^|\\s)no-js(\\s|$)/, \"$1js-enabled$2\" );\n",
            "</script>\n",
            "<meta name=\"viewport\" content=\"initial-scale=1,user-scalable=yes\">\n",
            "<link rel=\"apple-touch-icon\" href=\"/static/apple-touch/wikipedia.png\">\n",
            "<link rel=\"shortcut icon\" href=\"/static/favicon/wikipedia.ico\">\n",
            "<link rel=\"license\" href=\"//creativecommons.org/licenses/by-sa/3.0/\">\n",
            "<style>\n",
            ".sprite{background-image:url(portal/wikipedia.org/assets/img/sprite-81a290a5.png);background-image:linear-gradient(transparent,transparent),url(portal/wikipedia.org/assets/img/sprite-81a290a5.svg);background-repeat:no-repeat;display:inline-block;vertical-align:middle}.svg-Commons-logo_sister{background-position:0 0;width:47px;height:47px}.svg-MediaWiki-logo_sister{background-position:0 -47px;width:42px;height:42px}.svg-Meta-Wiki-logo_sister{background-position:0 -89px;width:37px;height:37px}.svg-Wikibooks-logo_sister{background-position:0 -126px;width:37px;height:37px}.svg-Wikidata-logo_sister{background-position:0 -163px;width:49px;height:49px}.svg-Wikimedia-logo_black{background-position:0 -212px;width:42px;height:42px}.svg-Wikipedia_wordmark{background-position:0 -254px;width:176px;height:32px}.svg-Wikiquote-logo_sister{background-position:0 -286px;width:42px;height:42px}.svg-Wikisource-logo_sister{background-position:0 -328px;width:39px;height:39px}.svg-Wikispecies-logo_sister{background-position:0 -367px;width:42px;height:42px}.svg-Wikiversity-logo_sister{background-position:0 -409px;width:43px;height:37px}.svg-Wikivoyage-logo_sister{background-position:0 -446px;width:36px;height:36px}.svg-Wiktionary-logo_sister{background-position:0 -482px;width:37px;height:37px}.svg-arrow-down{background-position:0 -519px;width:12px;height:8px}.svg-arrow-down-blue{background-position:0 -527px;width:12px;height:8px}.svg-badge_google_play_store{background-position:0 -535px;width:124px;height:38px}.svg-badge_ios_app_store{background-position:0 -573px;width:110px;height:38px}.svg-noimage{background-position:0 -611px;width:58px;height:58px}.svg-search-icon{background-position:0 -669px;width:22px;height:22px}.svg-translate-icon{background-position:0 -691px;width:25px;height:18px}.svg-wikipedia_app_tile{background-position:0 -709px;width:42px;height:42px}\n",
            "</style>\n",
            "<style>\n",
            "html{font-family:sans-serif;-ms-text-size-adjust:100%;-webkit-text-size-adjust:100%;font-size:62.5%}body{margin:0}article,aside,details,figcaption,figure,footer,header,hgroup,main,menu,nav,section,summary{display:block}audio,canvas,progress,video{display:inline-block;vertical-align:baseline}audio:not([controls]){display:none;height:0}[hidden],template{display:none}a{background-color:transparent}a:active,a:hover{outline:0}abbr[title]{border-bottom:1px dotted}b,strong{font-weight:700}dfn{font-style:italic}h1{font-size:32px;font-size:3.2rem;margin:10.7px 0;margin:1.07rem 0}mark{background:#fc3;color:#000}small{font-size:12px;font-size:1.2rem}sub,sup{font-size:75%;line-height:0;position:relative;vertical-align:baseline}sup{top:-.5em}sub{bottom:-.25em}svg:not(:root){overflow:hidden}figure{margin:16px 40px;margin:1.6rem 4rem}hr{box-sizing:content-box}pre{overflow:auto}code,kbd,pre,samp{font-family:monospace,monospace;font-size:14px;font-size:1.4rem}button,input,optgroup,select,textarea{color:inherit;font:inherit;margin:0}button{overflow:visible}button,select{text-transform:none}button,html input[type=button],input[type=reset],input[type=submit]{-webkit-appearance:button;cursor:pointer}button[disabled],html input[disabled]{cursor:default}button::-moz-focus-inner,input::-moz-focus-inner{border:0;padding:0}input{line-height:normal}input[type=checkbox],input[type=radio]{box-sizing:border-box;padding:0}input[type=number]::-webkit-inner-spin-button,input[type=number]::-webkit-outer-spin-button{height:auto}input[type=search]{-webkit-appearance:none;box-sizing:content-box}input[type=search]::-webkit-search-cancel-button,input[type=search]::-webkit-search-decoration{-webkit-appearance:none}input[type=search]:focus{outline-offset:-2px}fieldset{border:1px solid silver;margin:0 2px;margin:0 .2rem;padding:5.6px 10px 12px;padding:.56rem 1rem 1.2rem}legend{border:0;padding:0}textarea{overflow:auto}optgroup{font-weight:700}table{border-collapse:collapse;border-spacing:0}td,th{padding:0}.hidden,[hidden]{display:none!important}.screen-reader-text{display:block;position:absolute!important;clip:rect(1px,1px,1px,1px);width:1px;height:1px;margin:-1px;border:0;padding:0;overflow:hidden}body{background-color:#fff;font-family:-apple-system,BlinkMacSystemFont,Segoe UI,Roboto,Lato,Helvetica,Arial,sans-serif;font-size:14px;font-size:1.4rem;line-height:1.5;margin:4px 0;margin:.4rem 0}a{-ms-touch-action:manipulation;touch-action:manipulation}a,a:active,a:focus{unicode-bidi:embed;outline:0;color:#36c;text-decoration:none}a:focus{outline:1px solid #36c}a:hover{text-decoration:underline}img{vertical-align:middle}hr,img{border:0}hr{clear:both;height:0;border-bottom:1px solid #c8ccd1;margin:2.6px 13px;margin:.26rem 1.3rem}.pure-button{display:inline-block;zoom:1;line-height:normal;white-space:nowrap;text-align:center;cursor:pointer;-webkit-user-drag:none;-webkit-user-select:none;-moz-user-select:none;-ms-user-select:none;user-select:none;box-sizing:border-box;background-color:#f8f9fa;color:#202122;position:relative;min-height:19.2px;min-height:1.92rem;min-width:16px;min-width:1.6rem;margin:1.6px 0;margin:.16rem 0;border:1px solid #a2a9b1;border-radius:2px;padding:8px 16px;padding:.8rem 1.6rem;font-family:inherit;font-size:inherit;font-weight:700;text-decoration:none;vertical-align:top;transition:background .1s ease,color .1s ease,border-color .1s ease,box-shadow .1s ease}.pure-button::-moz-focus-inner{padding:0;border:0}.pure-button-hover,.pure-button:hover{background-color:#fff;border-color:#a2a9b1;color:#404244}.pure-button-active,.pure-button:active{background-color:#c8ccd1;border-color:#72777d;color:#000}.pure-button:focus{outline:0;border-color:#36c;box-shadow:inset 0 0 0 1px #36c}.pure-button-primary-progressive{background-color:#36c;border-color:#36c;color:#fff}.pure-button-primary-progressive:hover{background:#447ff5;border-color:#447ff5}.pure-button-primary-progressive:active{background-color:#2a4b8d;border-color:#2a4b8d;box-shadow:none;color:#fff}.pure-button-primary-progressive:focus{box-shadow:inset 0 0 0 1px #36c,inset 0 0 0 2px #fff;border-color:#36c}.pure-form input[type=search]{background-color:#fff;display:inline-block;box-sizing:border-box;border:1px solid #a2a9b1;border-radius:2px;padding:8px;padding:.8rem;box-shadow:inset 0 0 0 1px #fff;vertical-align:middle}.pure-form input:focus:invalid{color:#b32424;border-color:#d33}.pure-form fieldset{margin:0;padding:5.6px 0 12px;padding:.56rem 0 1.2rem;border:0}@media only screen and (max-width:480px){.pure-form input[type=search]{display:block}}.central-textlogo-wrapper{display:inline-block;vertical-align:bottom}.central-textlogo{position:relative;margin:40px auto 5px;margin:4rem auto .5rem;width:270px;font-family:Linux Libertine,Hoefler Text,Georgia,Times New Roman,Times,serif;font-size:30px;font-size:3rem;font-weight:400;line-height:33px;line-height:3.3rem;text-align:center;-ms-font-feature-settings:\"ss05\";font-feature-settings:\"ss05\"}.localized-slogan{display:block;font-family:Linux Libertine,Georgia,Times,serif;font-size:15px;font-size:1.5rem;font-weight:400}.central-textlogo__image{color:transparent;display:inline-block;overflow:hidden;text-indent:-10000px}.central-featured-logo{position:absolute;top:136px;left:35px}@media (max-width:480px){.central-textlogo{position:relative;height:70px;width:auto;margin:0;margin-top:20px;margin-top:2rem;text-align:center;line-height:25px;line-height:2.5rem;text-indent:-10px;text-indent:-1rem}.central-textlogo-wrapper{position:relative;top:2px;text-indent:2px;text-indent:.2rem}.svg-Wikipedia_wordmark{width:150px;height:25px;background-position:0 -218px;background-size:100%}.localized-slogan{font-size:14px;font-size:1.4rem}.central-featured-logo{position:relative;display:inline-block;width:57px;height:auto;left:0;top:0}}@media (max-width:240px){.central-textlogo__image{height:auto}}.central-featured{position:relative;height:325px;height:32.5rem;width:546px;width:54.6rem;max-width:100%;margin:0 auto;text-align:center;vertical-align:middle}.central-featured-lang{position:absolute;width:156px;width:15.6rem}.central-featured-lang .link-box{display:block;padding:0;text-decoration:none;white-space:normal}.central-featured-lang .link-box:hover strong{text-decoration:underline}.central-featured-lang strong{display:block;font-size:16px;font-size:1.6rem}.central-featured-lang small{color:#54595d;display:inline-block;font-size:12px;font-size:1.2rem;line-height:1.6}.central-featured-lang em{font-style:italic}.central-featured-lang .emNonItalicLang{font-style:normal}.lang1{top:0;right:60%}.lang2{top:0;left:60%}.lang3{top:20%;right:70%}.lang4{top:20%;left:70%}.lang5{top:40%;right:72%}.lang6{top:40%;left:72%}.lang7{top:60%;right:70%}.lang8{top:60%;left:70%}.lang9{top:80%;right:60%}.lang10{top:80%;left:60%}@media (max-width:480px){.central-featured{width:auto;height:auto;margin-top:70px;margin-top:7rem;font-size:12px;font-size:1.2rem;text-align:left}.central-featured:after{content:\" \";display:block;visibility:hidden;clear:both;height:0;font-size:0}.central-featured-lang{display:block;float:left;position:relative;top:auto;left:auto;right:auto;box-sizing:border-box;height:64px;height:6.4rem;width:33%;margin:0;padding:0 16px;padding:0 1.6rem;text-align:center}.central-featured-lang,.central-featured-lang strong{font-size:14px;font-size:1.4rem}.central-featured-lang small{font-size:11px;font-size:1.1rem;line-height:1.5}}@media (max-width:375px){.central-featured-lang{font-size:12px;font-size:1.2rem}}@media (max-width:240px){.central-featured-lang{width:100%}}.search-container{float:none;max-width:95%;width:540px;margin:4px auto 19.5px;margin:.4rem auto 1.95rem;text-align:center;vertical-align:middle}.search-container fieldset{word-spacing:-4px}.search-container button{margin:0;border-radius:0 2px 2px 0;padding:8px 16px;padding:.8rem 1.6rem;font-size:16px;font-size:1.6rem;line-height:1.6;vertical-align:middle;z-index:2}.search-container button .svg-search-icon{text-indent:-99990px;text-indent:-9999rem}.search-container input[type=search]::-webkit-search-results-button,.search-container input[type=search]::-webkit-search-results-decoration{-webkit-appearance:none}.search-container input::-webkit-calendar-picker-indicator{display:none}.search-container .sprite.svg-arrow-down{position:absolute;top:7px;top:.7rem;right:6.5px;right:.65rem;margin:0}#searchInput{-webkit-appearance:textfield;width:100%;height:43.2px;height:4.32rem;border-radius:2px 0 0 2px;padding:8px 102.4px 8px 8px;padding:.8rem 10.24rem .8rem .8rem;font-size:16px;font-size:1.6rem;line-height:1.6;transition:background .1s ease,border-color .1s ease,box-shadow .1s ease}#searchInput:hover{border-color:#72777d}#searchInput:focus{border-color:#36c;box-shadow:inset 0 0 0 1px #36c;outline:0}.search-container .search-input{display:inline-block;position:relative;width:73%;vertical-align:top}@media only screen and (max-width:480px){.search-container .pure-form fieldset{margin-left:10px;margin-left:1rem;margin-right:66px;margin-right:6.6rem}.search-container .search-input{width:100%;margin-right:-66px;margin-right:-6.6rem}.search-container .pure-form button{float:right;right:-56px;right:-5.6rem}}.suggestions-dropdown{background-color:#fff;display:inline-block;position:absolute;left:0;z-index:2;margin:0;padding:0;border:1px solid #a2a9b1;border-top:0;box-shadow:0 2px 2px 0 rgba(0,0,0,.25);list-style-type:none;word-spacing:normal}.suggestion-link,.suggestions-dropdown{box-sizing:border-box;width:100%;text-align:left}.suggestion-link{display:block;position:relative;min-height:70px;min-height:7rem;padding:10px 10px 10px 85px;padding:1rem 1rem 1rem 8.5rem;border-bottom:1px solid #eaecf0;color:inherit;text-decoration:none;text-align:initial;white-space:normal}.suggestion-link.active{background-color:#eaf3ff}a.suggestion-link:hover{text-decoration:none}a.suggestion-link:active,a.suggestion-link:focus{outline:0;white-space:normal}.suggestion-thumbnail{background-color:#eaecf0;background-image:url(portal/wikipedia.org/assets/img/noimage.png);background-image:linear-gradient(transparent,transparent),url(\"data:image/svg+xml;charset=utf-8,%3Csvg xmlns='http://www.w3.org/2000/svg' viewBox='0 0 56 56'%3E%3Cpath fill='%23eee' d='M0 0h56v56H0z'/%3E%3Cpath fill='%23999' d='M36.4 13.5H17.8v24.9c0 1.4.9 2.3 2.3 2.3h18.7v-25c.1-1.4-1-2.2-2.4-2.2zM30.2 17h5.1v6.4h-5.1V17zm-8.8 0h6v1.8h-6V17zm0 4.6h6v1.8h-6v-1.8zm0 15.5v-1.8h13.8v1.8H21.4zm13.8-4.5H21.4v-1.8h13.8v1.8zm0-4.7H21.4v-1.8h13.8v1.8z'/%3E%3C/svg%3E\");background-image:linear-gradient(transparent,transparent),url(portal/wikipedia.org/assets/img/noimage.svg) !ie;background-image:-o-linear-gradient(transparent,transparent),url(portal/wikipedia.org/assets/img/noimage.png);background-position:50%;background-repeat:no-repeat;background-size:100% auto;background-size:cover;height:100%;width:70px;width:7rem;position:absolute;top:0;left:0}.suggestion-title{margin:0 0 7.8px;margin:0 0 .78rem;color:#54595d;font-size:16px;font-size:1.6rem;line-height:18.72px;line-height:1.872rem}.suggestion-link.active .suggestion-title{color:#36c}.suggestion-highlight{font-style:normal;text-decoration:underline}.suggestion-description{color:#72777d;margin:0;font-size:13px;font-size:1.3rem;line-height:14.299px;line-height:1.43rem}.styled-select{display:none;position:absolute;top:10px;top:1rem;bottom:12px;bottom:1.2rem;right:12px;right:1.2rem;max-width:95px;max-width:9.5rem;height:24px;height:2.4rem;margin:0;padding:0;border-radius:2px}.styled-select:hover{background-color:#f8f9fa}.styled-select .hide-arrow{right:32px;right:3.2rem;max-width:68px;max-width:6.8rem;height:24px;height:2.4rem;padding:0;overflow:hidden;text-align:right}.styled-select select{background:transparent;display:inline;overflow:hidden;height:24px;height:2.4rem;min-width:110px;min-width:11rem;max-width:110px;max-width:11rem;width:110px;width:11rem;outline:0;box-sizing:border-box;border:0;line-height:19.5px;line-height:1.95rem;-webkit-appearance:none;-moz-appearance:window;text-indent:.01px;text-overflow:\"\";-o-appearance:none!important;opacity:0;-moz-appearance:none;appearance:none;cursor:pointer}.styled-select.no-js{width:95px;width:9.5rem}.styled-select.no-js select{opacity:1;margin:0;padding:0 24px 0 8px;padding:0 2.4rem 0 .8rem;color:#54595d}.styled-select.no-js .hide-arrow{width:68px;width:6.8rem}.search-container .styled-select.no-js .js-langpicker-label{display:none}.styled-select.js-enabled .hide-arrow{padding:0 24px 0 8px;padding:0 2.4rem 0 .8rem}.styled-select.js-enabled select{background:transparent;position:absolute;top:0;left:0;height:100%;z-index:1;width:100%;border:0;margin:0;padding:0 24px;padding:0 2.4rem;color:transparent;color:hsla(0,0%,100%,0)}.styled-select.js-enabled select option{color:#54595d}.styled-select.js-enabled select:hover{background-color:transparent}.styled-select-active-helper{display:none}.styled-select.js-enabled select:focus+.styled-select-active-helper{display:block;position:absolute;top:0;left:0;z-index:0;width:100%;height:100%;outline:1px solid #36c}.search-container .js-langpicker-label{display:inline-block;margin:0;color:#54595d;font-size:13px;font-size:1.3rem;line-height:24px;line-height:2.4rem;text-transform:uppercase}.styled-select select:hover{background-color:#f8f9fa}.styled-select select::-ms-expand{display:none}.styled-select select:focus{outline:0;box-shadow:none}@-moz-document url-prefix(){.styled-select select{width:110%}}.other-projects{display:inline-block;width:65%}.other-project{float:left;position:relative;width:33%;height:90px;height:9rem}.other-project-link{display:inline-block;min-height:50px;width:100%;white-space:nowrap}a.other-project-link{text-decoration:none}.other-project-icon{display:inline-block;width:50px;text-align:center}.svg-Wikinews-logo_sister{background-image:url(portal/wikipedia.org/assets/img/Wikinews-logo_sister.png);background-position:0 0;background-size:47px 26px;width:47px;height:26px}@media (-webkit-min-device-pixel-ratio:1.25),(min-resolution:120dpi){.svg-Wikinews-logo_sister{background-image:url(portal/wikipedia.org/assets/img/Wikinews-logo_sister@2x.png)}}.other-project-text,.other-project .sprite-project-logos{display:inline-block}.other-project-text{max-width:65%;font-size:14px;font-size:1.4rem;vertical-align:middle;white-space:normal}.other-project-tagline,.other-project-title{display:block}.other-project-tagline{color:#54595d;font-size:12px;font-size:1.2rem}@media screen and (max-width:768px){.other-projects{width:100%}.other-project{width:33%}}@media screen and (max-width:480px){.other-project{width:50%}}@media screen and (max-width:320px){.other-project-text{margin-right:5px;font-size:11.52px;font-size:1.152rem}.other-project-tagline{font-size:10.944px;font-size:1.0944rem}}.lang-list-container{background-color:#f8f9fa;overflow:hidden;position:relative;box-sizing:border-box;max-height:0;width:80%;margin:-16px auto 48px;margin:-1.6rem auto 4.8rem;transition:max-height .5s ease-out,visibility .5s ease-in 1s}.js-enabled .lang-list-container{visibility:hidden}.lang-list-active .lang-list-container,.no-js .lang-list-container{visibility:visible;max-height:10000px;transition:max-height 1s ease-in .2s,visibility 1000s ease-in 0ms}.no-js .lang-list-button{display:none}.lang-list-button-wrapper{text-align:center}.lang-list-button{background-color:#f8f9fa;display:inline;position:relative;z-index:1;margin:0 auto;padding:6px 12px;padding:.6rem 1.2rem;outline:16px solid #fff;outline:1.6rem solid #fff;border:1px solid #a2a9b1;border-radius:2px;color:#36c;font-size:14px;font-size:1.4rem;font-weight:700;line-height:1;transition:outline-width .1s ease-in .5s}.lang-list-button:hover{background-color:#fff;border-color:#a2a9b1}.lang-list-button:focus{border-color:#36c;box-shadow:inset 0 0 0 1px #36c}.lang-list-active .lang-list-button{background-color:#fff;outline:1px solid #fff;border-color:#72777d;transition-delay:0s}.lang-list-button-text{padding:0 6.4px;padding:0 .64rem;vertical-align:middle}.lang-list-button i{display:inline-block;vertical-align:middle}.no-js .lang-list-border,.no-js .lang-list-button{display:none}.lang-list-border{background-color:#c8ccd1;display:block;position:relative;max-width:460px;width:80%;margin:-16px auto 16px;margin:-1.6rem auto 1.6rem;height:1px;transition:max-width .2s ease-out 400s}.lang-list-active .lang-list-border{max-width:85%;transition-delay:0s}.no-js .lang-list-content{padding:0}.lang-list-content{position:relative;box-sizing:border-box;width:100%;padding:16px 16px 0;padding:1.6rem 1.6rem 0}.svg-arrow-down-blue{transition:transform .2s ease-out}.lang-list-active .svg-arrow-down-blue{transform:rotate(180deg)}.langlist{width:auto;margin:16px 0;margin:1.6rem 0;text-align:left}.langlist-others{font-weight:700}.hlist ul{margin:0;padding:0}.hlist li,.hlist ul ul{display:inline}.hlist li:before{content:\" Â· \";font-weight:700}.hlist li:first-child:before{content:none}.hlist li>ul:before{content:\"\\00a0(\"}.hlist li>ul:after{content:\") \"}.langlist>ul{column-width:11.2rem}.langlist>ul>li{display:block;line-height:1.7;break-inside:avoid}.no-js .langlist>ul{text-align:center;list-style-type:circle}.no-js .langlist>ul>li{display:inline-block;padding:0 8px;padding:0 .8rem}.langlist>ul>li:before{content:none}.langlist>ul>li a{white-space:normal}.langlist-others>ul{text-align:center;column-count:1}.langlist-others>ul li{display:inline}.langlist-others>ul li:before{content:\" Â· \"}.langlist-others>ul li:first-child:before{content:none}@media (max-width:480px){.langlist{font-size:inherit}.langlist a{word-wrap:break-word;white-space:normal}.lang-list-container{width:auto;margin-left:8px;margin-left:.8rem;margin-right:8px;margin-right:.8rem}.bookshelf{overflow:visible}}.bookshelf{display:block;border-top:1px solid #c8ccd1;box-shadow:0 -1px 0 #fff;text-align:center;white-space:nowrap}.bookshelf .text{background-color:#f8f9fa;position:relative;top:-11.2px;top:-1.12rem;font-weight:400;padding:0 9.92px;padding:0 .992rem}.bookshelf-container{display:block;overflow:visible;height:1px;width:100%;margin:24px 0 16px;margin:2.4rem 0 1.6rem;font-size:13px;font-size:1.3rem;font-weight:700;line-height:20px;line-height:2rem}@media (max-width:480px){.bookshelf{width:auto;left:auto}.bookshelf-container{text-align:left;width:auto}}.app-badges .footer-sidebar-content{background-color:#f8f9fa}.app-badges .footer-sidebar-text{padding-top:8px;padding-top:.8rem;padding-bottom:8px;padding-bottom:.8rem}.app-badges .sprite.footer-sidebar-icon{top:8px;top:.8rem}.app-badges ul{margin:0;padding:0;list-style-type:none}.app-badge{display:inline-block}@media screen and (max-width:768px){.app-badges .footer-sidebar-content{text-align:center}.app-badges .sprite.footer-sidebar-icon{display:inline-block;position:relative;margin:0;top:-3px;left:0;vertical-align:middle;transform:scale(.7)}}.footer{overflow:hidden;max-width:100%;margin:0 auto;padding:41.6px 12.8px 12.8px;padding:4.16rem 1.28rem 1.28rem;font-size:13px;font-size:1.3rem}.footer:after,.footer:before{content:\" \";display:table}.footer:after{clear:both}.footer-sidebar{width:35%;float:left;clear:left;margin-bottom:32px;margin-bottom:3.2rem;vertical-align:top}.footer-sidebar-content{position:relative;max-width:350px;margin:0 auto}.sprite.footer-sidebar-icon{position:absolute;top:0;left:8px;left:.8rem}.footer-sidebar-text{position:relative;margin:0;padding-left:60px;padding-left:6rem;padding-right:20px;padding-right:2rem;color:#54595d}.site-license{margin:0;color:#54595d;text-align:center}.site-license small:after{content:\"\\2022\";display:inline-block;font-size:13px;font-size:1.3rem;line-height:inherit;margin-left:8px;margin-left:.8rem;margin-right:5px;margin-right:.5rem}.site-license small:last-child:after{display:none}@media screen and (max-width:768px){.footer{display:-ms-flexbox;display:flex;-ms-flex-direction:column;flex-direction:column;padding-top:12.8px;padding-top:1.28rem}.footer .footer-sidebar{-ms-flex-order:1;order:1}.footer .other-projects{-ms-flex-order:2;order:2}.footer .app-badges{-ms-flex-order:3;order:3}.footer-sidebar{width:100%}.sprite.footer-sidebar-icon{display:block;position:relative;left:0;margin:0 auto 12.8px;margin:0 auto 1.28rem}.footer-sidebar-content{max-width:none}.footer-sidebar-text{margin:0;padding:0;text-align:center}}@media screen and (max-width:480px){.footer{padding:9.6px 6.4px 12.8px;padding:.96rem .64rem 1.28rem}}@media (max-width:480px){.search-container{margin-top:0;height:78px;height:7.8rem;position:absolute;top:90px;top:9rem;left:0;right:0;max-width:100%;width:auto;padding:0;text-align:left}.search-container label{display:none}.search-form #searchInput{max-width:40%;vertical-align:middle}.search-form .formBtn{max-width:25%;vertical-align:middle}form fieldset{margin:0;border-left:0;border-right:0}hr{margin-top:6.5px;margin-top:.65rem}}@media (-webkit-min-device-pixel-ratio:2),(min--moz-device-pixel-ratio:2),(min-resolution:2dppx),(min-resolution:192dpi){hr{border-bottom-width:.5px}}@supports (-webkit-marquee-style:slide){hr{border-bottom-width:1px}}.js-enabled .central-featured,.js-enabled .jsl10n{visibility:hidden}.jsl10n-visible .central-featured,.jsl10n-visible .jsl10n{visibility:visible}.otherprojects-icon{*zoom:1;*display:inline}.suggestion-item{*width:auto}.search-container button{*display:inline}#searchInput{*padding:8px 0 0 8px;*width:90%;*height:34px}#search-input{*display:inline}.langlist ul{*text-align:center}.langlist ul li{*display:inline!important;*padding-left:5px;*padding-right:5px}@media print{body{background-color:transparent}a{color:#000!important;background:none!important;padding:0!important}a:link,a:visited{color:#520;background:transparent}img{border:0}}\n",
            "</style>\n",
            "<link rel=\"preconnect\" href=\"//upload.wikimedia.org\">\n",
            "</head>\n",
            "<body id=\"www-wikipedia-org\">\n",
            "<div class=\"central-textlogo\" style=\"font-size: 1em;\">\n",
            "<img class=\"central-featured-logo\" src=\"portal/wikipedia.org/assets/img/Wikipedia-logo-v2.png\" srcset=\"portal/wikipedia.org/assets/img/Wikipedia-logo-v2@1.5x.png 1.5x, portal/wikipedia.org/assets/img/Wikipedia-logo-v2@2x.png 2x\" width=\"200\" height=\"183\" alt=\"Wikipedia\">\n",
            "<h1 class=\"central-textlogo-wrapper\">\n",
            "<span class=\"central-textlogo__image sprite svg-Wikipedia_wordmark\">\n",
            "Wikipedia\n",
            "</span>\n",
            "<strong class=\"jsl10n localized-slogan\" data-jsl10n=\"slogan\">The Free Encyclopedia</strong>\n",
            "</h1>\n",
            "</div>\n",
            "<!-- container div for the central logo and the links to the most viewed language editions -->\n",
            "<div class=\"central-featured\" data-el-section=\"primary links\">\n",
            "<!-- Rankings from http://stats.wikimedia.org/EN/Sitemap.htm -->\n",
            "<!-- Article counts from http://meta.wikimedia.org/wiki/List_of_Wikipedias/Table -->\n",
            "<!-- #1. en.wikipedia.org - 1 748 296 000 views/day -->\n",
            "<div class=\"central-featured-lang lang1\" lang=\"en\" dir=\"ltr\">\n",
            "<a id=\"js-link-box-en\" href=\"//en.wikipedia.org/\" title=\"English â Wikipedia â The Free Encyclopedia\" class=\"link-box\" data-slogan=\"The Free Encyclopedia\">\n",
            "<strong>English</strong>\n",
            "<small><bdi dir=\"ltr\">6&nbsp;090&nbsp;000+</bdi> <span>articles</span></small>\n",
            "</a>\n",
            "</div>\n",
            "<!-- #2. es.wikipedia.org - 294 038 000 views/day -->\n",
            "<div class=\"central-featured-lang lang2\" lang=\"es\" dir=\"ltr\">\n",
            "<a id=\"js-link-box-es\" href=\"//es.wikipedia.org/\" title=\"EspaÃ±ol â Wikipedia â La enciclopedia libre\" class=\"link-box\" data-slogan=\"La enciclopedia libre\">\n",
            "<strong>EspaÃ±ol</strong>\n",
            "<small><bdi dir=\"ltr\">1&nbsp;602&nbsp;000+</bdi> <span>artÃ­culos</span></small>\n",
            "</a>\n",
            "</div>\n",
            "<!-- #3. ja.wikipedia.org - 293 039 000 views/day -->\n",
            "<div class=\"central-featured-lang lang3\" lang=\"ja\" dir=\"ltr\">\n",
            "<a id=\"js-link-box-ja\" href=\"//ja.wikipedia.org/\" title=\"Nihongo â ã¦ã£ã­ããã£ã¢ â ããªã¼ç¾ç§äºå¸\" class=\"link-box\" data-slogan=\"ããªã¼ç¾ç§äºå¸\">\n",
            "<strong>æ¥æ¬èª</strong>\n",
            "<small><bdi dir=\"ltr\">1&nbsp;209&nbsp;000+</bdi> <span>è¨äº</span></small>\n",
            "</a>\n",
            "</div>\n",
            "<!-- #4. de.wikipedia.org - 205 064 000 views/day -->\n",
            "<div class=\"central-featured-lang lang4\" lang=\"de\" dir=\"ltr\">\n",
            "<a id=\"js-link-box-de\" href=\"//de.wikipedia.org/\" title=\"Deutsch â Wikipedia â Die freie EnzyklopÃ¤die\" class=\"link-box\" data-slogan=\"Die freie EnzyklopÃ¤die\">\n",
            "<strong>Deutsch</strong>\n",
            "<small><bdi dir=\"ltr\">2&nbsp;439&nbsp;000+</bdi> <span>Artikel</span></small>\n",
            "</a>\n",
            "</div>\n",
            "<!-- #5. ru.wikipedia.org - 187 916 000 views/day -->\n",
            "<div class=\"central-featured-lang lang5\" lang=\"ru\" dir=\"ltr\">\n",
            "<a id=\"js-link-box-ru\" href=\"//ru.wikipedia.org/\" title=\"Russkiy â ÐÐ¸ÐºÐ¸Ð¿ÐµÐ´Ð¸Ñ â Ð¡Ð²Ð¾Ð±Ð¾Ð´Ð½Ð°Ñ ÑÐ½ÑÐ¸ÐºÐ»Ð¾Ð¿ÐµÐ´Ð¸Ñ\" class=\"link-box\" data-slogan=\"Ð¡Ð²Ð¾Ð±Ð¾Ð´Ð½Ð°Ñ ÑÐ½ÑÐ¸ÐºÐ»Ð¾Ð¿ÐµÐ´Ð¸Ñ\">\n",
            "<strong>Ð ÑÑÑÐºÐ¸Ð¹</strong>\n",
            "<small><bdi dir=\"ltr\">1&nbsp;631&nbsp;000+</bdi> <span>ÑÑÐ°ÑÐµÐ¹</span></small>\n",
            "</a>\n",
            "</div>\n",
            "<!-- #6. fr.wikipedia.org - 162 141 000 views/day -->\n",
            "<div class=\"central-featured-lang lang6\" lang=\"fr\" dir=\"ltr\">\n",
            "<a id=\"js-link-box-fr\" href=\"//fr.wikipedia.org/\" title=\"FranÃ§ais â WikipÃ©dia â LâencyclopÃ©die libre\" class=\"link-box\" data-slogan=\"LâencyclopÃ©die libre\">\n",
            "<strong>FranÃ§ais</strong>\n",
            "<small><bdi dir=\"ltr\">2&nbsp;222&nbsp;000+</bdi> <span>articles</span></small>\n",
            "</a>\n",
            "</div>\n",
            "<!-- #7. it.wikipedia.org - 138 377 000 views/day -->\n",
            "<div class=\"central-featured-lang lang7\" lang=\"it\" dir=\"ltr\">\n",
            "<a id=\"js-link-box-it\" href=\"//it.wikipedia.org/\" title=\"Italiano â Wikipedia â L&#x27;enciclopedia libera\" class=\"link-box\" data-slogan=\"L&#x27;enciclopedia libera\">\n",
            "<strong>Italiano</strong>\n",
            "<small><bdi dir=\"ltr\">1&nbsp;611&nbsp;000+</bdi> <span>voci</span></small>\n",
            "</a>\n",
            "</div>\n",
            "<!-- #8. zh.wikipedia.org - 97 320 000 views/day -->\n",
            "<div class=\"central-featured-lang lang8\" lang=\"zh\" dir=\"ltr\">\n",
            "<a id=\"js-link-box-zh\" href=\"//zh.wikipedia.org/\" title=\"ZhÅngwÃ©n â ç¶­åºç¾ç§ â èªç±çç¾ç§å¨æ¸\" class=\"link-box\" data-converttitle-hans=\"ZhÅngwÃ©n â ç»´åºç¾ç§ â èªç±çç¾ç§å¨ä¹¦\" data-slogan=\"èªç±çç¾ç§å¨æ¸\">\n",
            "<strong>ä¸­æ</strong>\n",
            "<small><bdi dir=\"ltr\">1&nbsp;122&nbsp;000+</bdi> <span data-convert-hans=\"æ¡ç®\" id=\"zh_art\">æ¢ç®</span></small>\n",
            "</a>\n",
            "</div>\n",
            "<!-- #9. pt.wikipedia.org - 87 508 000 views/day -->\n",
            "<div class=\"central-featured-lang lang9\" lang=\"pt\" dir=\"ltr\">\n",
            "<a id=\"js-link-box-pt\" href=\"//pt.wikipedia.org/\" title=\"PortuguÃªs â WikipÃ©dia â A enciclopÃ©dia livre\" class=\"link-box\" data-slogan=\"A enciclopÃ©dia livre\">\n",
            "<strong>PortuguÃªs</strong>\n",
            "<small><bdi dir=\"ltr\">1&nbsp;033&nbsp;000+</bdi> <span>artigos</span></small>\n",
            "</a>\n",
            "</div>\n",
            "<!-- #10. pl.wikipedia.org - 69 876 000 views/day -->\n",
            "<div class=\"central-featured-lang lang10\" lang=\"pl\" dir=\"ltr\">\n",
            "<a id=\"js-link-box-pl\" href=\"//pl.wikipedia.org/\" title=\"Polski â Wikipedia â Wolna encyklopedia\" class=\"link-box\" data-slogan=\"Wolna encyklopedia\">\n",
            "<strong>Polski</strong>\n",
            "<small><bdi dir=\"ltr\">1&nbsp;412&nbsp;000+</bdi> <span>haseÅ</span></small>\n",
            "</a>\n",
            "</div>\n",
            "</div>\n",
            "<!-- Search form -->\n",
            "<div class=\"search-container\">\n",
            "<form class=\"pure-form\" id=\"search-form\" action=\"//www.wikipedia.org/search-redirect.php\" data-el-section=\"search\">\n",
            "<fieldset>\n",
            "<!-- search-redirect.php is project-independent, requires a family -->\n",
            "<input type=\"hidden\" name=\"family\" value=\"wikipedia\">\n",
            "<input type=\"hidden\" id=\"hiddenLanguageInput\" name=\"language\" value=\"en\">\n",
            "<div class=\"search-input\" id=\"search-input\">\n",
            "<label for=\"searchInput\" class=\"screen-reader-text\" data-jsl10n=\"search-input-label\">Search Wikipedia</label>\n",
            "<input id=\"searchInput\" name=\"search\" type=\"search\" size=\"20\" autofocus=\"autofocus\" accesskey=\"F\" dir=\"auto\" autocomplete=\"off\" list=\"suggestions\">\n",
            "<div class=\"styled-select no-js\">\n",
            "<div class=\"hide-arrow\">\n",
            "<select id=\"searchLanguage\" name=\"language\">\n",
            "<!-- 100,000+ content pages, sorted by romanization -->\n",
            "<option value=\"ar\" lang=\"ar\">Ø§ÙØ¹Ø±Ø¨ÙØ©</option><!-- Al-Ê¿ArabÄ«yah -->\n",
            "<option value=\"ast\" lang=\"ast\">Asturianu</option>\n",
            "<option value=\"az\" lang=\"az\">AzÉrbaycanca</option>\n",
            "<option value=\"bg\" lang=\"bg\">ÐÑÐ»Ð³Ð°ÑÑÐºÐ¸</option><!-- BÇlgarski -->\n",
            "<option value=\"nan\" lang=\"nan\">BÃ¢n-lÃ¢m-gÃº / HÅ-lÃ³-oÄ</option>\n",
            "<option value=\"be\" lang=\"be\">ÐÐµÐ»Ð°ÑÑÑÐºÐ°Ñ</option><!-- Belaruskaya -->\n",
            "<option value=\"ca\" lang=\"ca\">CatalÃ </option>\n",
            "<option value=\"cs\" lang=\"cs\">ÄeÅ¡tina</option><!-- ÄeÅ¡tina -->\n",
            "<option value=\"cy\" lang=\"cy\">Cymraeg</option><!-- Cymraeg -->\n",
            "<option value=\"da\" lang=\"da\">Dansk</option>\n",
            "<option value=\"de\" lang=\"de\">Deutsch</option>\n",
            "<option value=\"et\" lang=\"et\">Eesti</option>\n",
            "<option value=\"el\" lang=\"el\">ÎÎ»Î»Î·Î½Î¹ÎºÎ¬</option><!-- EllÄ«nikÃ¡ -->\n",
            "<option value=\"en\" lang=\"en\" selected=selected>English</option><!-- English -->\n",
            "<option value=\"es\" lang=\"es\">EspaÃ±ol</option>\n",
            "<option value=\"eo\" lang=\"eo\">Esperanto</option>\n",
            "<option value=\"eu\" lang=\"eu\">Euskara</option>\n",
            "<option value=\"fa\" lang=\"fa\">ÙØ§Ø±Ø³Û</option><!-- FÄrsi -->\n",
            "<option value=\"fr\" lang=\"fr\">FranÃ§ais</option>\n",
            "<option value=\"gl\" lang=\"gl\">Galego</option>\n",
            "<option value=\"hy\" lang=\"hy\">ÕÕ¡ÕµÕ¥ÖÕ¥Õ¶</option><!-- Hayeren -->\n",
            "<option value=\"hi\" lang=\"hi\">à¤¹à¤¿à¤¨à¥à¤¦à¥</option><!-- HindÄ« -->\n",
            "<option value=\"hr\" lang=\"hr\">Hrvatski</option>\n",
            "<option value=\"id\" lang=\"id\">Bahasa Indonesia</option>\n",
            "<option value=\"it\" lang=\"it\">Italiano</option>\n",
            "<option value=\"he\" lang=\"he\">×¢××¨××ª</option><!-- Ê¿Ivrit -->\n",
            "<option value=\"ka\" lang=\"ka\">á¥áá áá£áá</option><!-- Kartuli -->\n",
            "<option value=\"la\" lang=\"la\">Latina</option>\n",
            "<option value=\"lv\" lang=\"lv\">LatvieÅ¡u</option>\n",
            "<option value=\"lt\" lang=\"lt\">LietuviÅ³</option>\n",
            "<option value=\"hu\" lang=\"hu\">Magyar</option>\n",
            "<option value=\"mk\" lang=\"mk\">ÐÐ°ÐºÐµÐ´Ð¾Ð½ÑÐºÐ¸</option><!-- Makedonski -->\n",
            "<option value=\"arz\" lang=\"arz\">ÙØµØ±Ù</option><!-- Maá¹£rÄ« -->\n",
            "<option value=\"ms\" lang=\"ms\">Bahasa Melayu</option>\n",
            "<option value=\"min\" lang=\"min\">Bahaso Minangkabau</option>\n",
            "<option value=\"nl\" lang=\"nl\">Nederlands</option>\n",
            "<option value=\"ja\" lang=\"ja\">æ¥æ¬èª</option><!-- Nihongo -->\n",
            "<option value=\"no\" lang=\"nb\">Norsk (bokmÃ¥l)</option>\n",
            "<option value=\"nn\" lang=\"nn\">Norsk (nynorsk)</option>\n",
            "<option value=\"ce\" lang=\"ce\">ÐÐ¾ÑÑÐ¸Ð¹Ð½</option><!-- NoxÃ§iyn -->\n",
            "<option value=\"uz\" lang=\"uz\">OÊ»zbekcha / ÐÐ·Ð±ÐµÐºÑÐ°</option>\n",
            "<option value=\"pl\" lang=\"pl\">Polski</option>\n",
            "<option value=\"pt\" lang=\"pt\">PortuguÃªs</option>\n",
            "<option value=\"kk\" lang=\"kk\">ÒÐ°Ð·Ð°ÒÑÐ° / QazaqÅa / ÙØ§Ø²Ø§ÙØ´Ø§</option>\n",
            "<option value=\"ro\" lang=\"ro\">RomÃ¢nÄ</option>\n",
            "<option value=\"ru\" lang=\"ru\">Ð ÑÑÑÐºÐ¸Ð¹</option><!-- Russkiy -->\n",
            "<option value=\"simple\" lang=\"en\">Simple English</option>\n",
            "<option value=\"ceb\" lang=\"ceb\">Sinugboanong Binisaya</option>\n",
            "<option value=\"sk\" lang=\"sk\">SlovenÄina</option>\n",
            "<option value=\"sl\" lang=\"sl\">SlovenÅ¡Äina</option>\n",
            "<option value=\"sr\" lang=\"sr\">Ð¡ÑÐ¿ÑÐºÐ¸ / Srpski</option>\n",
            "<option value=\"sh\" lang=\"sh\">Srpskohrvatski / Ð¡ÑÐ¿ÑÐºÐ¾ÑÑÐ²Ð°ÑÑÐºÐ¸</option>\n",
            "<option value=\"fi\" lang=\"fi\">Suomi</option><!-- suomi -->\n",
            "<option value=\"sv\" lang=\"sv\">Svenska</option>\n",
            "<option value=\"ta\" lang=\"ta\">à®¤à®®à®¿à®´à¯</option><!-- Tamiá¸» -->\n",
            "<option value=\"th\" lang=\"th\">à¸ à¸²à¸©à¸²à¹à¸à¸¢</option><!-- Phasa Thai -->\n",
            "<option value=\"tg\" lang=\"tg\">Ð¢Ð¾Ò·Ð¸ÐºÓ£</option><!-- TojikÄ« -->\n",
            "<option value=\"azb\" lang=\"azb\">ØªÛØ±Ú©Ø¬Ù</option><!-- TÃ¼rkce -->\n",
            "<option value=\"tr\" lang=\"tr\">TÃ¼rkÃ§e</option><!-- TÃ¼rkÃ§e -->\n",
            "<option value=\"uk\" lang=\"uk\">Ð£ÐºÑÐ°ÑÐ½ÑÑÐºÐ°</option><!-- Ukrayinsâka -->\n",
            "<option value=\"ur\" lang=\"ur\">Ø§Ø±Ø¯Ù</option><!-- Urdu -->\n",
            "<option value=\"vi\" lang=\"vi\">Tiáº¿ng Viá»t</option>\n",
            "<option value=\"vo\" lang=\"vo\">VolapÃ¼k</option>\n",
            "<option value=\"war\" lang=\"war\">Winaray</option>\n",
            "<option value=\"zh\" lang=\"zh\">ä¸­æ</option><!-- ZhÅngwÃ©n -->\n",
            "<option value=\"ko\" lang=\"ko\">íêµ­ì´</option><!-- Hangugeo -->\n",
            "</select>\n",
            "<div class=\"styled-select-active-helper\"></div>\n",
            "</div>\n",
            "<i class=\"sprite svg-arrow-down\"></i>\n",
            "</div>\n",
            "</div>\n",
            "<button class=\"pure-button pure-button-primary-progressive\" type=\"submit\">\n",
            "<i class=\"sprite svg-search-icon\" data-jsl10n=\"search-input-button\">Search</i>\n",
            "</button>\n",
            "<input type=\"hidden\" value=\"Go\" name=\"go\">\n",
            "</fieldset>\n",
            "</form>\n",
            "</div>\n",
            "<div class=\"lang-list-button-wrapper\">\n",
            "<button id=\"js-lang-list-button\" class=\"lang-list-button\">\n",
            "<i class=\"sprite svg-translate-icon\"></i>\n",
            "<span class=\"lang-list-button-text jsl10n\" data-jsl10n=\"language-button-text\">Read Wikipedia in your language </span>\n",
            "<i class=\"sprite svg-arrow-down-blue\"></i>\n",
            "</button>\n",
            "</div>\n",
            "<div class=\"lang-list-border\"></div>\n",
            "<div class=\"lang-list-container\">\n",
            "<div id=\"js-lang-lists\" class=\"lang-list-content\">\n",
            "<!-- Bookshelves -->\n",
            "<h2 class=\"bookshelf-container\">\n",
            "<span class=\"bookshelf\">\n",
            "<span class=\"text\">\n",
            "<bdi dir=\"ltr\">\n",
            "1&nbsp;000&nbsp;000+\n",
            "</bdi>\n",
            "<span class=\"jsl10n\" data-jsl10n=\"entries\">\n",
            "articles\n",
            "</span>\n",
            "</span>\n",
            "</span>\n",
            "</h2>\n",
            "<!-- 1,000,000+ content pages -->\n",
            "<div class=\"langlist langlist-large hlist\" data-el-section=\"secondary links\">\n",
            "<ul>\n",
            "<li><a href=\"//ar.wikipedia.org/\" lang=\"ar\" title=\"Al-Ê¿ArabÄ«yah\"><bdi dir=\"rtl\">Ø§ÙØ¹Ø±Ø¨ÙØ©</bdi></a></li>\n",
            "<li><a href=\"//de.wikipedia.org/\" lang=\"de\">Deutsch</a></li>\n",
            "<li><a href=\"//en.wikipedia.org/\" lang=\"en\" title=\"English\">English</a></li>\n",
            "<li><a href=\"//es.wikipedia.org/\" lang=\"es\">EspaÃ±ol</a></li>\n",
            "<li><a href=\"//fr.wikipedia.org/\" lang=\"fr\">FranÃ§ais</a></li>\n",
            "<li><a href=\"//it.wikipedia.org/\" lang=\"it\">Italiano</a></li>\n",
            "<li><a href=\"//nl.wikipedia.org/\" lang=\"nl\">Nederlands</a></li>\n",
            "<li><a href=\"//ja.wikipedia.org/\" lang=\"ja\" title=\"Nihongo\">æ¥æ¬èª</a></li>\n",
            "<li><a href=\"//pl.wikipedia.org/\" lang=\"pl\">Polski</a></li>\n",
            "<li><a href=\"//pt.wikipedia.org/\" lang=\"pt\">PortuguÃªs</a></li>\n",
            "<li><a href=\"//ru.wikipedia.org/\" lang=\"ru\" title=\"Russkiy\">Ð ÑÑÑÐºÐ¸Ð¹</a></li>\n",
            "<li><a href=\"//ceb.wikipedia.org/\" lang=\"ceb\">Sinugboanong Binisaya</a></li>\n",
            "<li><a href=\"//sv.wikipedia.org/\" lang=\"sv\">Svenska</a></li>\n",
            "<li><a href=\"//uk.wikipedia.org/\" lang=\"uk\" title=\"Ukrayinsâka\">Ð£ÐºÑÐ°ÑÐ½ÑÑÐºÐ°</a></li>\n",
            "<li><a href=\"//vi.wikipedia.org/\" lang=\"vi\">Tiáº¿ng Viá»t</a></li>\n",
            "<li><a href=\"//war.wikipedia.org/\" lang=\"war\">Winaray</a></li>\n",
            "<li><a href=\"//zh.wikipedia.org/\" lang=\"zh\" title=\"ZhÅngwÃ©n\">ä¸­æ</a></li>\n",
            "</ul>\n",
            "</div>\n",
            "<!-- Bookshelves -->\n",
            "<h2 class=\"bookshelf-container\">\n",
            "<span class=\"bookshelf\">\n",
            "<span class=\"text\">\n",
            "<bdi dir=\"ltr\">\n",
            "100&nbsp;000+\n",
            "</bdi>\n",
            "<span class=\"jsl10n\" data-jsl10n=\"entries\">\n",
            "articles\n",
            "</span>\n",
            "</span>\n",
            "</span>\n",
            "</h2>\n",
            "<!-- 100,000+ content pages -->\n",
            "<div class=\"langlist langlist-large hlist\" data-el-section=\"secondary links\">\n",
            "<ul>\n",
            "<li><a href=\"//ast.wikipedia.org/\" lang=\"ast\">Asturianu</a></li>\n",
            "<li><a href=\"//az.wikipedia.org/\" lang=\"az\">AzÉrbaycanca</a></li>\n",
            "<li><a href=\"//bg.wikipedia.org/\" lang=\"bg\" title=\"BÇlgarski\">ÐÑÐ»Ð³Ð°ÑÑÐºÐ¸</a></li>\n",
            "<li><a href=\"//zh-min-nan.wikipedia.org/\" lang=\"nan\">BÃ¢n-lÃ¢m-gÃº / HÅ-lÃ³-oÄ</a></li>\n",
            "<li><a href=\"//be.wikipedia.org/\" lang=\"be\" title=\"Belaruskaya\">ÐÐµÐ»Ð°ÑÑÑÐºÐ°Ñ</a></li>\n",
            "<li><a href=\"//ca.wikipedia.org/\" lang=\"ca\">CatalÃ </a></li>\n",
            "<li><a href=\"//cs.wikipedia.org/\" lang=\"cs\" title=\"ÄeÅ¡tina\">ÄeÅ¡tina</a></li>\n",
            "<li><a href=\"//cy.wikipedia.org/\" lang=\"cy\" title=\"Cymraeg\">Cymraeg</a></li>\n",
            "<li><a href=\"//da.wikipedia.org/\" lang=\"da\">Dansk</a></li>\n",
            "<li><a href=\"//et.wikipedia.org/\" lang=\"et\">Eesti</a></li>\n",
            "<li><a href=\"//el.wikipedia.org/\" lang=\"el\" title=\"EllÄ«nikÃ¡\">ÎÎ»Î»Î·Î½Î¹ÎºÎ¬</a></li>\n",
            "<li><a href=\"//eo.wikipedia.org/\" lang=\"eo\">Esperanto</a></li>\n",
            "<li><a href=\"//eu.wikipedia.org/\" lang=\"eu\">Euskara</a></li>\n",
            "<li><a href=\"//fa.wikipedia.org/\" lang=\"fa\" title=\"FÄrsi\"><bdi dir=\"rtl\">ÙØ§Ø±Ø³Û</bdi></a></li>\n",
            "<li><a href=\"//gl.wikipedia.org/\" lang=\"gl\">Galego</a></li>\n",
            "<li><a href=\"//hy.wikipedia.org/\" lang=\"hy\" title=\"Hayeren\">ÕÕ¡ÕµÕ¥ÖÕ¥Õ¶</a></li>\n",
            "<li><a href=\"//hi.wikipedia.org/\" lang=\"hi\" title=\"HindÄ«\">à¤¹à¤¿à¤¨à¥à¤¦à¥</a></li>\n",
            "<li><a href=\"//hr.wikipedia.org/\" lang=\"hr\">Hrvatski</a></li>\n",
            "<li><a href=\"//id.wikipedia.org/\" lang=\"id\">Bahasa Indonesia</a></li>\n",
            "<li><a href=\"//he.wikipedia.org/\" lang=\"he\" title=\"Ê¿Ivrit\"><bdi dir=\"rtl\">×¢××¨××ª</bdi></a></li>\n",
            "<li><a href=\"//ka.wikipedia.org/\" lang=\"ka\" title=\"Kartuli\">á¥áá áá£áá</a></li>\n",
            "<li><a href=\"//la.wikipedia.org/\" lang=\"la\">Latina</a></li>\n",
            "<li><a href=\"//lv.wikipedia.org/\" lang=\"lv\">LatvieÅ¡u</a></li>\n",
            "<li><a href=\"//lt.wikipedia.org/\" lang=\"lt\">LietuviÅ³</a></li>\n",
            "<li><a href=\"//hu.wikipedia.org/\" lang=\"hu\">Magyar</a></li>\n",
            "<li><a href=\"//mk.wikipedia.org/\" lang=\"mk\" title=\"Makedonski\">ÐÐ°ÐºÐµÐ´Ð¾Ð½ÑÐºÐ¸</a></li>\n",
            "<li><a href=\"//arz.wikipedia.org/\" lang=\"arz\" title=\"Maá¹£rÄ«\"><bdi dir=\"rtl\">ÙØµØ±Ù</bdi></a></li>\n",
            "<li><a href=\"//ms.wikipedia.org/\" lang=\"ms\">Bahasa Melayu</a></li>\n",
            "<li><a href=\"//min.wikipedia.org/\" lang=\"min\">Bahaso Minangkabau</a></li>\n",
            "<li lang=\"no\">Norsk<ul><li><a href=\"//no.wikipedia.org/\" lang=\"nb\">bokmÃ¥l</a></li><li><a href=\"//nn.wikipedia.org/\" lang=\"nn\">nynorsk</a></li></ul></li>\n",
            "<li><a href=\"//ce.wikipedia.org/\" lang=\"ce\" title=\"NoxÃ§iyn\">ÐÐ¾ÑÑÐ¸Ð¹Ð½</a></li>\n",
            "<li><a href=\"//uz.wikipedia.org/\" lang=\"uz\">OÊ»zbekcha / ÐÐ·Ð±ÐµÐºÑÐ°</a></li>\n",
            "<li><a href=\"//kk.wikipedia.org/\" lang=\"kk\"><span lang=\"kk-Cyrl\">ÒÐ°Ð·Ð°ÒÑÐ°</span> / <span lang=\"kk-Latn\">QazaqÅa</span> / <bdi lang=\"kk-Arab\" dir=\"rtl\">ÙØ§Ø²Ø§ÙØ´Ø§</bdi></a></li>\n",
            "<li><a href=\"//ro.wikipedia.org/\" lang=\"ro\">RomÃ¢nÄ</a></li>\n",
            "<li><a href=\"//simple.wikipedia.org/\" lang=\"en\">Simple English</a></li>\n",
            "<li><a href=\"//sk.wikipedia.org/\" lang=\"sk\">SlovenÄina</a></li>\n",
            "<li><a href=\"//sl.wikipedia.org/\" lang=\"sl\">SlovenÅ¡Äina</a></li>\n",
            "<li><a href=\"//sr.wikipedia.org/\" lang=\"sr\">Ð¡ÑÐ¿ÑÐºÐ¸ / Srpski</a></li>\n",
            "<li><a href=\"//sh.wikipedia.org/\" lang=\"sh\">Srpskohrvatski / Ð¡ÑÐ¿ÑÐºÐ¾ÑÑÐ²Ð°ÑÑÐºÐ¸</a></li>\n",
            "<li><a href=\"//fi.wikipedia.org/\" lang=\"fi\" title=\"suomi\">Suomi</a></li>\n",
            "<li><a href=\"//ta.wikipedia.org/\" lang=\"ta\" title=\"Tamiá¸»\">à®¤à®®à®¿à®´à¯</a></li>\n",
            "<li><a href=\"//th.wikipedia.org/\" lang=\"th\" title=\"Phasa Thai\">à¸ à¸²à¸©à¸²à¹à¸à¸¢</a></li>\n",
            "<li><a href=\"//tg.wikipedia.org/\" lang=\"tg\" title=\"TojikÄ«\">Ð¢Ð¾Ò·Ð¸ÐºÓ£</a></li>\n",
            "<li><a href=\"//azb.wikipedia.org/\" lang=\"azb\" title=\"TÃ¼rkce\"><bdi dir=\"rtl\">ØªÛØ±Ú©Ø¬Ù</bdi></a></li>\n",
            "<li><a href=\"//tr.wikipedia.org/\" lang=\"tr\" title=\"TÃ¼rkÃ§e\">TÃ¼rkÃ§e</a></li>\n",
            "<li><a href=\"//ur.wikipedia.org/\" lang=\"ur\" title=\"Urdu\"><bdi dir=\"rtl\">Ø§Ø±Ø¯Ù</bdi></a></li>\n",
            "<li><a href=\"//vo.wikipedia.org/\" lang=\"vo\">VolapÃ¼k</a></li>\n",
            "<li><a href=\"//ko.wikipedia.org/\" lang=\"ko\" title=\"Hangugeo\">íêµ­ì´</a></li>\n",
            "</ul>\n",
            "</div>\n",
            "<!-- Bookshelves -->\n",
            "<h2 class=\"bookshelf-container\">\n",
            "<span class=\"bookshelf\">\n",
            "<span class=\"text\">\n",
            "<bdi dir=\"ltr\">\n",
            "10&nbsp;000+\n",
            "</bdi>\n",
            "<span class=\"jsl10n\" data-jsl10n=\"entries\">\n",
            "articles\n",
            "</span>\n",
            "</span>\n",
            "</span>\n",
            "</h2>\n",
            "<!-- 10,000+ content pages -->\n",
            "<div class=\"langlist hlist\" data-el-section=\"secondary links\">\n",
            "<ul>\n",
            "<li><a href=\"//ace.wikipedia.org/\" lang=\"ace\">Bahsa AcÃ¨h</a></li>\n",
            "<li><a href=\"//af.wikipedia.org/\" lang=\"af\">Afrikaans</a></li>\n",
            "<li><a href=\"//als.wikipedia.org/\" lang=\"gsw\">Alemannisch</a></li>\n",
            "<li><a href=\"//am.wikipedia.org/\" lang=\"am\" title=\"ÄmariÃ±Ã±Ä\">á áá­á</a></li>\n",
            "<li><a href=\"//an.wikipedia.org/\" lang=\"an\">AragonÃ©s</a></li>\n",
            "<li><a href=\"//bn.wikipedia.org/\" lang=\"bn\" title=\"Bangla\">à¦¬à¦¾à¦à¦²à¦¾</a></li>\n",
            "<li><a href=\"//map-bms.wikipedia.org/\" lang=\"map-x-bms\">Basa Banyumasan</a></li>\n",
            "<li><a href=\"//ba.wikipedia.org/\" lang=\"ba\" title=\"BaÅqortsa\">ÐÐ°ÑÒ¡Ð¾ÑÑÑÐ°</a></li>\n",
            "<li><a href=\"//be-tarask.wikipedia.org/\" lang=\"be\" title=\"Belaruskaya (TaraÅ¡kievica)\">ÐÐµÐ»Ð°ÑÑÑÐºÐ°Ñ (Ð¢Ð°ÑÐ°ÑÐºÐµÐ²ÑÑÐ°)</a></li>\n",
            "<li><a href=\"//bcl.wikipedia.org/\" lang=\"bcl\">Bikol Central</a></li>\n",
            "<li><a href=\"//bpy.wikipedia.org/\" lang=\"bpy\" title=\"Bishnupriya Manipuri\">à¦¬à¦¿à¦·à§à¦£à§à¦ªà§à¦°à¦¿à¦¯à¦¼à¦¾ à¦®à¦£à¦¿à¦ªà§à¦°à§</a></li>\n",
            "<li><a href=\"//bar.wikipedia.org/\" lang=\"bar\">Boarisch</a></li>\n",
            "<li><a href=\"//bs.wikipedia.org/\" lang=\"bs\">Bosanski</a></li>\n",
            "<li><a href=\"//br.wikipedia.org/\" lang=\"br\">Brezhoneg</a></li>\n",
            "<li><a href=\"//cv.wikipedia.org/\" lang=\"cv\" title=\"ÄÄvaÅ¡la\">Ð§ÓÐ²Ð°ÑÐ»Ð°</a></li>\n",
            "<li><a href=\"//nv.wikipedia.org/\" lang=\"nv\">DinÃ© Bizaad</a></li>\n",
            "<li><a href=\"//eml.wikipedia.org/\" lang=\"roa-x-eml\">EmigliÃ nâRumagnÃ²l</a></li>\n",
            "<li><a href=\"//fo.wikipedia.org/\" lang=\"fo\">FÃ¸royskt</a></li>\n",
            "<li><a href=\"//fy.wikipedia.org/\" lang=\"fy\">Frysk</a></li>\n",
            "<li><a href=\"//ga.wikipedia.org/\" lang=\"ga\">Gaeilge</a></li>\n",
            "<li><a href=\"//gd.wikipedia.org/\" lang=\"gd\">GÃ idhlig</a></li>\n",
            "<li><a href=\"//gu.wikipedia.org/\" lang=\"gu\" title=\"Gujarati\">àªà«àªàª°àª¾àª¤à«</a></li>\n",
            "<li><a href=\"//hsb.wikipedia.org/\" lang=\"hsb\">Hornjoserbsce</a></li>\n",
            "<li><a href=\"//io.wikipedia.org/\" lang=\"io\">Ido</a></li>\n",
            "<li><a href=\"//ilo.wikipedia.org/\" lang=\"ilo\">Ilokano</a></li>\n",
            "<li><a href=\"//ia.wikipedia.org/\" lang=\"ia\">Interlingua</a></li>\n",
            "<li><a href=\"//os.wikipedia.org/\" lang=\"os\" title=\"Iron Ãvzag\">ÐÑÐ¾Ð½ Ã¦Ð²Ð·Ð°Ð³</a></li>\n",
            "<li><a href=\"//is.wikipedia.org/\" lang=\"is\">Ãslenska</a></li>\n",
            "<li><a href=\"//jv.wikipedia.org/\" lang=\"jv\">Jawa</a></li>\n",
            "<li><a href=\"//kn.wikipedia.org/\" lang=\"kn\" title=\"Kannada\">à²à²¨à³à²¨à²¡</a></li>\n",
            "<li><a href=\"//ht.wikipedia.org/\" lang=\"ht\">KreyÃ²l Ayisyen</a></li>\n",
            "<li><a href=\"//ku.wikipedia.org/\" lang=\"ku\"><span lang=\"ku-Latn\">KurdÃ®</span> / <bdi lang=\"ku-Arab\" dir=\"rtl\">ÙÙØ±Ø¯Û</bdi></a></li>\n",
            "<li><a href=\"//ckb.wikipedia.org/\" lang=\"ckb\" title=\"KurdÃ®y NawendÃ®\"><bdi dir=\"rtl\">Ú©ÙØ±Ø¯ÛÛ ÙØ§ÙÛÙØ¯Û</bdi></a></li>\n",
            "<li><a href=\"//ky.wikipedia.org/\" lang=\"ky\" title=\"KyrgyzÄa\">ÐÑÑÐ³ÑÐ·ÑÐ°</a></li>\n",
            "<li><a href=\"//mrj.wikipedia.org/\" lang=\"mjr\" title=\"Kyryk Mary\">ÐÑÑÑÐº ÐÐ°ÑÑ</a></li>\n",
            "<li><a href=\"//lb.wikipedia.org/\" lang=\"lb\">LÃ«tzebuergesch</a></li>\n",
            "<li><a href=\"//li.wikipedia.org/\" lang=\"li\">Limburgs</a></li>\n",
            "<li><a href=\"//lmo.wikipedia.org/\" lang=\"lmo\">Lumbaart</a></li>\n",
            "<li><a href=\"//mai.wikipedia.org/\" lang=\"mai\" title=\"MaithilÄ«\">à¤®à¥à¤¥à¤¿à¤²à¥</a></li>\n",
            "<li><a href=\"//mg.wikipedia.org/\" lang=\"mg\">Malagasy</a></li>\n",
            "<li><a href=\"//ml.wikipedia.org/\" lang=\"ml\" title=\"Malayalam\">à´®à´²à´¯à´¾à´³à´</a></li>\n",
            "<li><a href=\"//zh-classical.wikipedia.org/\" lang=\"lzh\" title=\"Man4jin4 / WÃ©nyÃ¡n\">æè¨</a></li>\n",
            "<li><a href=\"//mr.wikipedia.org/\" lang=\"mr\" title=\"Marathi\">à¤®à¤°à¤¾à¤ à¥</a></li>\n",
            "<li><a href=\"//xmf.wikipedia.org/\" lang=\"xmf\" title=\"Margaluri\">ááá áááá£á á</a></li>\n",
            "<li><a href=\"//mzn.wikipedia.org/\" lang=\"mzn\" title=\"MÃ¤zeruni\"><bdi dir=\"rtl\">ÙØ§Ø²ÙØ±ÙÙÛ</bdi></a></li>\n",
            "<li><a href=\"//cdo.wikipedia.org/\" lang=\"cdo\" title=\"Ming-deng-ngu\">MÃ¬ng-dÄÌ¤ng-ngá¹³Ì / é©æ±èª</a></li>\n",
            "<li><a href=\"//mn.wikipedia.org/\" lang=\"mn\" title=\"Mongol\">ÐÐ¾Ð½Ð³Ð¾Ð»</a></li>\n",
            "<li><a href=\"//my.wikipedia.org/\" lang=\"my\" title=\"Myanmarsar\">áá¼ááºáá¬áá¬áá¬</a></li>\n",
            "<li><a href=\"//new.wikipedia.org/\" lang=\"new\" title=\"Nepal Bhasa\">à¤¨à¥à¤ªà¤¾à¤² à¤­à¤¾à¤·à¤¾</a></li>\n",
            "<li><a href=\"//ne.wikipedia.org/\" lang=\"ne\" title=\"NepÄlÄ«\">à¤¨à¥à¤ªà¤¾à¤²à¥</a></li>\n",
            "<li><a href=\"//nap.wikipedia.org/\" lang=\"nap\">Nnapulitano</a></li>\n",
            "<li><a href=\"//frr.wikipedia.org/\" lang=\"frr\">Nordfriisk</a></li>\n",
            "<li><a href=\"//oc.wikipedia.org/\" lang=\"oc\">Occitan</a></li>\n",
            "<li><a href=\"//mhr.wikipedia.org/\" lang=\"mhr\" title=\"Olyk Marij\">ÐÐ°ÑÐ¸Ð¹</a></li>\n",
            "<li><a href=\"//or.wikipedia.org/\" lang=\"or\" title=\"Oá¹iÄ\">à¬à¬¡à¬¿à¬¼à¬</a></li>\n",
            "<li><a href=\"//pa.wikipedia.org/\" lang=\"pa\" title=\"PaÃ±jÄbÄ« (GurmukhÄ«)\">à¨ªà©°à¨à¨¾à¨¬à© (à¨à©à¨°à¨®à©à¨à©)</a></li>\n",
            "<li><a href=\"//pnb.wikipedia.org/\" lang=\"pnb\" title=\"PaÃ±jÄbÄ« (ShÄhmukhÄ«)\"><bdi dir=\"rtl\">Ù¾ÙØ¬Ø§Ø¨Û (Ø´Ø§Û ÙÚ©Ú¾Û)</bdi></a></li>\n",
            "<li><a href=\"//ps.wikipedia.org/\" lang=\"ps\" title=\"PaÊto\"><bdi dir=\"rtl\">Ù¾ÚØªÙ</bdi></a></li>\n",
            "<li><a href=\"//pms.wikipedia.org/\" lang=\"pms\">PiemontÃ¨is</a></li>\n",
            "<li><a href=\"//nds.wikipedia.org/\" lang=\"nds\">PlattdÃ¼Ã¼tsch</a></li>\n",
            "<li><a href=\"//qu.wikipedia.org/\" lang=\"qu\">Runa Simi</a></li>\n",
            "<li><a href=\"//sa.wikipedia.org/\" lang=\"sa\" title=\"Saá¹ská¹tam\">à¤¸à¤à¤¸à¥à¤à¥à¤¤à¤®à¥</a></li>\n",
            "<li><a href=\"//sah.wikipedia.org/\" lang=\"sah\" title=\"Saxa Tyla\">Ð¡Ð°ÑÐ° Ð¢ÑÐ»Ð°</a></li>\n",
            "<li><a href=\"//sco.wikipedia.org/\" lang=\"sco\">Scots</a></li>\n",
            "<li><a href=\"//sq.wikipedia.org/\" lang=\"sq\">Shqip</a></li>\n",
            "<li><a href=\"//scn.wikipedia.org/\" lang=\"scn\">Sicilianu</a></li>\n",
            "<li><a href=\"//si.wikipedia.org/\" lang=\"si\" title=\"Siá¹hala\">à·à·à¶à·à¶½</a></li>\n",
            "<li><a href=\"//sd.wikipedia.org/\" lang=\"sd\" title=\"SindhÄ«\"><bdi dir=\"rtl\">Ø³ÙÚÙ</bdi></a></li>\n",
            "<li><a href=\"//szl.wikipedia.org/\" lang=\"szl\">ÅlÅ¯nski</a></li>\n",
            "<li><a href=\"//su.wikipedia.org/\" lang=\"su\">Basa Sunda</a></li>\n",
            "<li><a href=\"//sw.wikipedia.org/\" lang=\"sw\">Kiswahili</a></li>\n",
            "<li><a href=\"//tl.wikipedia.org/\" lang=\"tl\">Tagalog</a></li>\n",
            "<li><a href=\"//tt.wikipedia.org/\" lang=\"tt\">Ð¢Ð°ÑÐ°ÑÑÐ° / TatarÃ§a</a></li>\n",
            "<li><a href=\"//te.wikipedia.org/\" lang=\"te\" title=\"Telugu\">à°¤à±à°²à±à°à±</a></li>\n",
            "<li><a href=\"//bug.wikipedia.org/\" lang=\"bug\">á¨á¨ á¨á¨á¨á¨ / Basa Ugi</a></li>\n",
            "<li><a href=\"//vec.wikipedia.org/\" lang=\"vec\">VÃ¨neto</a></li>\n",
            "<li><a href=\"//wa.wikipedia.org/\" lang=\"wa\">Walon</a></li>\n",
            "<li><a href=\"//wuu.wikipedia.org/\" lang=\"wuu\" title=\"WÃº YÇ\" data-convert-hans=\"å´è¯­\" id=\"wuu_wiki\">å³èª</a></li>\n",
            "<li><a href=\"//yi.wikipedia.org/\" lang=\"yi\" title=\"YidiÅ¡\"><bdi dir=\"rtl\">××Ö´×××©</bdi></a></li>\n",
            "<li><a href=\"//yo.wikipedia.org/\" lang=\"yo\">YorÃ¹bÃ¡</a></li>\n",
            "<li><a href=\"//zh-yue.wikipedia.org/\" lang=\"yue\" title=\"Yuht YÃºh / Jyut6 jyu5\" data-convert-hans=\"ç²¤è¯­\" id=\"zh-yue_wiki\">ç²µèª</a></li>\n",
            "<li><a href=\"//diq.wikipedia.org/\" lang=\"diq\" title=\"Zazaki\">Zazaki</a></li>\n",
            "<li><a href=\"//bat-smg.wikipedia.org/\" lang=\"sgs\">Å½emaitÄÅ¡ka</a></li>\n",
            "</ul>\n",
            "</div>\n",
            "<!-- Bookshelves -->\n",
            "<h2 class=\"bookshelf-container\">\n",
            "<span class=\"bookshelf\">\n",
            "<span class=\"text\">\n",
            "<bdi dir=\"ltr\">\n",
            "1&nbsp;000+\n",
            "</bdi>\n",
            "<span class=\"jsl10n\" data-jsl10n=\"entries\">\n",
            "articles\n",
            "</span>\n",
            "</span>\n",
            "</span>\n",
            "</h2>\n",
            "<!-- 1,000+ content pages -->\n",
            "<div class=\"langlist hlist\" data-el-section=\"secondary links\">\n",
            "<ul>\n",
            "<li><a href=\"//kbd.wikipedia.org/\" lang=\"kbd\" title=\"Adighabze\">ÐÐ´ÑÐ³ÑÐ±Ð·Ñ</a></li>\n",
            "<li><a href=\"//ang.wikipedia.org/\" lang=\"ang\">Ãnglisc</a></li>\n",
            "<li><a href=\"//ab.wikipedia.org/\" lang=\"ab\" title=\"Aá¹sua\">ÐÒ§ÑÑÐ°</a></li>\n",
            "<li><a href=\"//hyw.wikipedia.org/\" lang=\"hyw\" title=\"Arevmdahayeren\">Ô±ÖÕ¥ÖÕ´Õ¿Õ¡Õ°Õ¡ÕµÕ¥ÖÕ§Õ¶</a></li>\n",
            "<li><a href=\"//roa-rup.wikipedia.org/\" lang=\"roa-rup\">ArmÃ£neashce</a></li>\n",
            "<li><a href=\"//frp.wikipedia.org/\" lang=\"frp\">Arpitan</a></li>\n",
            "<li><a href=\"//ig.wikipedia.org/\" lang=\"ig\">asá»¥sá»¥ bekee maá»bá»¥ asá»¥sá»¥ oyibo</a></li>\n",
            "<li><a href=\"//arc.wikipedia.org/\" lang=\"arc\" title=\"ÄtÃ»rÄyÃ¢\"><bdi dir=\"rtl\">ÜÜ¬ÜÜªÜÜ</bdi></a></li>\n",
            "<li><a href=\"//gn.wikipedia.org/\" lang=\"gn\">AvaÃ±eâáº½</a></li>\n",
            "<li><a href=\"//av.wikipedia.org/\" lang=\"av\" title=\"Avar\">ÐÐ²Ð°Ñ</a></li>\n",
            "<li><a href=\"//ay.wikipedia.org/\" lang=\"ay\">Aymar</a></li>\n",
            "<li><a href=\"//bjn.wikipedia.org/\" lang=\"bjn\">Bahasa Banjar</a></li>\n",
            "<li><a href=\"//bh.wikipedia.org/\" lang=\"bh\" title=\"BhÅjapurÄ«\">à¤­à¥à¤à¤ªà¥à¤°à¥</a></li>\n",
            "<li><a href=\"//bi.wikipedia.org/\" lang=\"bi\">Bislama</a></li>\n",
            "<li><a href=\"//bo.wikipedia.org/\" lang=\"bo\" title=\"Bod Skad\">à½à½¼à½à¼à½¡à½²à½</a></li>\n",
            "<li><a href=\"//bxr.wikipedia.org/\" lang=\"bxr\" title=\"Buryad\">ÐÑÑÑÐ°Ð´</a></li>\n",
            "<li><a href=\"//cbk-zam.wikipedia.org/\" lang=\"cbk-x-zam\">Chavacano de Zamboanga</a></li>\n",
            "<li><a href=\"//co.wikipedia.org/\" lang=\"co\">Corsu</a></li>\n",
            "<li><a href=\"//za.wikipedia.org/\" lang=\"za\">Vahcuengh / è©±å®</a></li>\n",
            "<li><a href=\"//se.wikipedia.org/\" lang=\"se\">DavvisÃ¡megiella</a></li>\n",
            "<li><a href=\"//pdc.wikipedia.org/\" lang=\"pdc\">Deitsch</a></li>\n",
            "<li><a href=\"//dsb.wikipedia.org/\" lang=\"dsb\">Dolnoserbski</a></li>\n",
            "<li><a href=\"//myv.wikipedia.org/\" lang=\"myv\" title=\"Erzjanj\">Ð­ÑÐ·ÑÐ½Ñ</a></li>\n",
            "<li><a href=\"//ext.wikipedia.org/\" lang=\"ext\">EstremeÃ±u</a></li>\n",
            "<li><a href=\"//hif.wikipedia.org/\" lang=\"hif\">Fiji Hindi</a></li>\n",
            "<li><a href=\"//fur.wikipedia.org/\" lang=\"fur\">Furlan</a></li>\n",
            "<li><a href=\"//gv.wikipedia.org/\" lang=\"gv\">Gaelg</a></li>\n",
            "<li><a href=\"//gag.wikipedia.org/\" lang=\"gag\">Gagauz</a></li>\n",
            "<li><a href=\"//ki.wikipedia.org/\" lang=\"ki\">GÄ©kÅ©yÅ©</a></li>\n",
            "<li><a href=\"//glk.wikipedia.org/\" lang=\"glk\" title=\"GilÉki\"><bdi dir=\"rtl\">Ú¯ÛÙÚ©Û</bdi></a></li>\n",
            "<li><a href=\"//gan.wikipedia.org/\" lang=\"gan\" title=\"Gon ua\" data-convert-hans=\"èµ£è¯­\" id=\"gan_wiki\">è´èª</a></li>\n",
            "<li><a href=\"//got.wikipedia.org/\" lang=\"got\" title=\"Gutisk\">ð²ð¿ðð¹ððº</a></li>\n",
            "<li><a href=\"//hak.wikipedia.org/\" lang=\"hak\">Hak-kÃ¢-ngÃ® / å®¢å®¶èª</a></li>\n",
            "<li><a href=\"//xal.wikipedia.org/\" lang=\"xal\" title=\"HalÊ¹mg\">Ð¥Ð°Ð»ÑÐ¼Ð³</a></li>\n",
            "<li><a href=\"//ha.wikipedia.org/\" lang=\"ha\"><span lang=\"ha-Latn\">Hausa</span> / <bdi lang=\"ha-Arab\" dir=\"rtl\">ÙÙÙÙØ³ÙØ§</bdi></a></li>\n",
            "<li><a href=\"//haw.wikipedia.org/\" lang=\"haw\">Ê»Ålelo HawaiÊ»i</a></li>\n",
            "<li><a href=\"//ie.wikipedia.org/\" lang=\"ie\">Interlingue</a></li>\n",
            "<li><a href=\"//pam.wikipedia.org/\" lang=\"pam\">Kapampangan</a></li>\n",
            "<li><a href=\"//csb.wikipedia.org/\" lang=\"csb\">KaszÃ«bsczi</a></li>\n",
            "<li><a href=\"//kw.wikipedia.org/\" lang=\"kw\">Kernewek</a></li>\n",
            "<li><a href=\"//km.wikipedia.org/\" lang=\"km\" title=\"PhÃ©asa KhmÃ©r\">áá¶áá¶ááááá</a></li>\n",
            "<li><a href=\"//rw.wikipedia.org/\" lang=\"rw\">Kinyarwanda</a></li>\n",
            "<li><a href=\"//kv.wikipedia.org/\" lang=\"kv\" title=\"Komi\">ÐÐ¾Ð¼Ð¸</a></li>\n",
            "<li><a href=\"//kg.wikipedia.org/\" lang=\"kg\">Kongo</a></li>\n",
            "<li><a href=\"//gom.wikipedia.org/\" lang=\"gom\">à¤à¥à¤à¤à¤£à¥ / Konknni</a></li>\n",
            "<li><a href=\"//gcr.wikipedia.org/\" lang=\"gcr\" title=\"KriyÃ²l Gwiyannen\">KriyÃ²l Gwiyannen</a></li>\n",
            "<li><a href=\"//lo.wikipedia.org/\" lang=\"lo\" title=\"Phaasaa Laao\">àºàº²àºªàº²àº¥àº²àº§</a></li>\n",
            "<li><a href=\"//lad.wikipedia.org/\" lang=\"lad\" title=\"Ladino\"><span lang=\"lad-Latn\">Dzhudezmo</span> / <bdi lang=\"lad-Hebr\" dir=\"rtl\">××××× ×</bdi></a></li>\n",
            "<li><a href=\"//lbe.wikipedia.org/\" lang=\"lbe\" title=\"LakËu\">ÐÐ°ÐºÐºÑ</a></li>\n",
            "<li><a href=\"//lez.wikipedia.org/\" lang=\"lez\" title=\"Lezgi\">ÐÐµÐ·Ð³Ð¸</a></li>\n",
            "<li><a href=\"//ln.wikipedia.org/\" lang=\"ln\">LingÃ¡la</a></li>\n",
            "<li><a href=\"//jbo.wikipedia.org/\" lang=\"jbo\">lojban</a></li>\n",
            "<li><a href=\"//lrc.wikipedia.org/\" lang=\"lrc\" title=\"LÃ¶riyÃ©-Å omÄlÄ«\"><bdi dir=\"rtl\">ÙÛØ±Û Ø´ÙÙØ§ÙÛ</bdi></a></li>\n",
            "<li><a href=\"//lg.wikipedia.org/\" lang=\"lg\">Luganda</a></li>\n",
            "<li><a href=\"//lij.wikipedia.org/\" lang=\"lij\">LÃ¬gure</a></li>\n",
            "<li><a href=\"//mt.wikipedia.org/\" lang=\"mt\">Malti</a></li>\n",
            "<li><a href=\"//ty.wikipedia.org/\" lang=\"ty\">Reo MÄâohi</a></li>\n",
            "<li><a href=\"//mi.wikipedia.org/\" lang=\"mi\">MÄori</a></li>\n",
            "<li><a href=\"//mwl.wikipedia.org/\" lang=\"mwl\">MirandÃ©s</a></li>\n",
            "<li><a href=\"//mdf.wikipedia.org/\" lang=\"mdf\" title=\"MokÅ¡enj\">ÐÐ¾ÐºÑÐµÐ½Ñ</a></li>\n",
            "<li><a href=\"//nah.wikipedia.org/\" lang=\"nah\">NÄhuatlahtÅlli</a></li>\n",
            "<li><a href=\"//na.wikipedia.org/\" lang=\"na\">Dorerin Naoero</a></li>\n",
            "<li><a href=\"//nds-nl.wikipedia.org/\" lang=\"nds-nl\">Nedersaksisch</a></li>\n",
            "<li><a href=\"//nrm.wikipedia.org/\" lang=\"roa-x-nrm\">Nouormand / Normaund</a></li>\n",
            "<li><a href=\"//nov.wikipedia.org/\" lang=\"nov\">Novial</a></li>\n",
            "<li><a href=\"//as.wikipedia.org/\" lang=\"as\" title=\"ÃxÃ´miya\">à¦à¦¸à¦®à§à¦¯à¦¾à¦¼</a></li>\n",
            "<li><a href=\"//pi.wikipedia.org/\" lang=\"pi\" title=\"PÄá¸·i\">à¤ªà¤¾à¤²à¤¿</a></li>\n",
            "<li><a href=\"//pag.wikipedia.org/\" lang=\"pag\">PangasinÃ¡n</a></li>\n",
            "<li><a href=\"//pap.wikipedia.org/\" lang=\"pap\">Papiamentu</a></li>\n",
            "<li><a href=\"//koi.wikipedia.org/\" lang=\"koi\" title=\"Perem Komi\">ÐÐµÑÐµÐ¼ ÐÐ¾Ð¼Ð¸</a></li>\n",
            "<li><a href=\"//pfl.wikipedia.org/\" lang=\"pfl\">PfÃ¤lzisch</a></li>\n",
            "<li><a href=\"//pcd.wikipedia.org/\" lang=\"pcd\">Picard</a></li>\n",
            "<li><a href=\"//krc.wikipedia.org/\" lang=\"krc\" title=\"QaraÃ§ayâMalqar\">ÐÑÐ°ÑÐ°ÑÐ°Ð¹âÐÐ°Ð»ÐºÑÐ°Ñ</a></li>\n",
            "<li><a href=\"//kaa.wikipedia.org/\" lang=\"kaa\">Qaraqalpaqsha</a></li>\n",
            "<li><a href=\"//crh.wikipedia.org/\" lang=\"crh\">QÄ±rÄ±mtatarca</a></li>\n",
            "<li><a href=\"//ksh.wikipedia.org/\" lang=\"ksh\">Ripoarisch</a></li>\n",
            "<li><a href=\"//rm.wikipedia.org/\" lang=\"rm\">Rumantsch</a></li>\n",
            "<li><a href=\"//rue.wikipedia.org/\" lang=\"rue\" title=\"Rusinâskyj Yazyk\">Ð ÑÑÐ¸Ð½ÑÑÐºÑÐ¹ Ð¯Ð·ÑÐº</a></li>\n",
            "<li><a href=\"//sm.wikipedia.org/\" lang=\"sm\">Gagana SÄmoa</a></li>\n",
            "<li><a href=\"//sc.wikipedia.org/\" lang=\"sc\">Sardu</a></li>\n",
            "<li><a href=\"//stq.wikipedia.org/\" lang=\"stq\">Seeltersk</a></li>\n",
            "<li><a href=\"//nso.wikipedia.org/\" lang=\"nso\">Sesotho sa Leboa</a></li>\n",
            "<li><a href=\"//sn.wikipedia.org/\" lang=\"sn\">ChiShona</a></li>\n",
            "<li><a href=\"//so.wikipedia.org/\" lang=\"so\">Soomaaliga</a></li>\n",
            "<li><a href=\"//srn.wikipedia.org/\" lang=\"srn\">Sranantongo</a></li>\n",
            "<li><a href=\"//kab.wikipedia.org/\" lang=\"kab\" title=\"Taqbaylit\">Taqbaylit</a></li>\n",
            "<li><a href=\"//roa-tara.wikipedia.org/\" lang=\"roa\">TarandÃ­ne</a></li>\n",
            "<li><a href=\"//tet.wikipedia.org/\" lang=\"tet\">Tetun</a></li>\n",
            "<li><a href=\"//tpi.wikipedia.org/\" lang=\"tpi\">Tok Pisin</a></li>\n",
            "<li><a href=\"//to.wikipedia.org/\" lang=\"to\">faka Tonga</a></li>\n",
            "<li><a href=\"//tk.wikipedia.org/\" lang=\"tk\">TÃ¼rkmenÃ§e</a></li>\n",
            "<li><a href=\"//tyv.wikipedia.org/\" lang=\"tyv\" title=\"Tyva dyl\">Ð¢ÑÐ²Ð° Ð´ÑÐ»</a></li>\n",
            "<li><a href=\"//udm.wikipedia.org/\" lang=\"udm\" title=\"Udmurt\">Ð£Ð´Ð¼ÑÑÑ</a></li>\n",
            "<li><a href=\"//ug.wikipedia.org/\" lang=\"ug\"><bdi dir=\"rtl\">Ø¦ÛÙØºÛØ±ÚÙ</bdi></a></li>\n",
            "<li><a href=\"//vep.wikipedia.org/\" lang=\"vep\">VepsÃ¤n</a></li>\n",
            "<li><a href=\"//fiu-vro.wikipedia.org/\" lang=\"fiu-vro\">VÃµro</a></li>\n",
            "<li><a href=\"//vls.wikipedia.org/\" lang=\"vls\">West-Vlams</a></li>\n",
            "<li><a href=\"//wo.wikipedia.org/\" lang=\"wo\">Wolof</a></li>\n",
            "<li><a href=\"//xh.wikipedia.org/\" lang=\"xh\">isiXhosa</a></li>\n",
            "<li><a href=\"//zea.wikipedia.org/\" lang=\"zea\">ZeÃªuws</a></li>\n",
            "<li><a href=\"//zu.wikipedia.org/\" lang=\"zu\">isiZulu</a></li>\n",
            "<li><a href=\"//dv.wikipedia.org/\" lang=\"dv\" title=\"ÞÞ¨ÞÞÞ¨ÞÞ­ÞÞ¨\"><bdi dir=\"rtl\">ÞÞ¨ÞÞ¬ÞÞ¨ÞÞ¦ÞÞ°</bdi></a></li>\n",
            "</ul>\n",
            "</div>\n",
            "<!-- Bookshelves -->\n",
            "<h2 class=\"bookshelf-container\">\n",
            "<span class=\"bookshelf\">\n",
            "<span class=\"text\">\n",
            "<bdi dir=\"ltr\">\n",
            "100+\n",
            "</bdi>\n",
            "<span class=\"jsl10n\" data-jsl10n=\"entries\">\n",
            "articles\n",
            "</span>\n",
            "</span>\n",
            "</span>\n",
            "</h2>\n",
            "<!-- 100+ content pages -->\n",
            "<div class=\"langlist langlist-tiny hlist\" data-el-section=\"secondary links\">\n",
            "<ul>\n",
            "<li><a href=\"//ak.wikipedia.org/\" lang=\"ak\">Akan</a></li>\n",
            "<li><a href=\"//bm.wikipedia.org/\" lang=\"bm\">Bamanankan</a></li>\n",
            "<li><a href=\"//ch.wikipedia.org/\" lang=\"ch\">Chamoru</a></li>\n",
            "<li><a href=\"//ny.wikipedia.org/\" lang=\"ny\">Chichewa</a></li>\n",
            "<li><a href=\"//ee.wikipedia.org/\" lang=\"ee\">EÊegbe</a></li>\n",
            "<li><a href=\"//ff.wikipedia.org/\" lang=\"ff\">Fulfulde</a></li>\n",
            "<li><a href=\"//iu.wikipedia.org/\" lang=\"iu\">áááááá¦ / Inuktitut</a></li>\n",
            "<li><a href=\"//ik.wikipedia.org/\" lang=\"ik\">IÃ±upiak</a></li>\n",
            "<li><a href=\"//kl.wikipedia.org/\" lang=\"kl\">Kalaallisut</a></li>\n",
            "<li><a href=\"//ks.wikipedia.org/\" lang=\"ks\" title=\"Kashmiri\"><bdi dir=\"rtl\">ÙØ´ÙÙØ±Ù</bdi></a></li>\n",
            "<li><a href=\"//ltg.wikipedia.org/\" lang=\"ltg\">LatgaÄ¼u</a></li>\n",
            "<li><a href=\"//fj.wikipedia.org/\" lang=\"fj\">Na Vosa Vaka-Viti</a></li>\n",
            "<li><a href=\"//cr.wikipedia.org/\" lang=\"cr\">NÄhiyawÄwin / áá¦áá­ááá£</a></li>\n",
            "<li><a href=\"//pih.wikipedia.org/\" lang=\"pih\">Norfuk / Pitkern</a></li>\n",
            "<li><a href=\"//om.wikipedia.org/\" lang=\"om\">Afaan Oromoo</a></li>\n",
            "<li><a href=\"//pnt.wikipedia.org/\" lang=\"pnt\" title=\"PontiakÃ¡\">Î Î¿Î½ÏÎ¹Î±ÎºÎ¬</a></li>\n",
            "<li><a href=\"//dz.wikipedia.org/\" lang=\"dz\" title=\"Rdzong-Kha\">à½¢à¾«à½¼à½à¼à½</a></li>\n",
            "<li><a href=\"//rmy.wikipedia.org/\" lang=\"rmy\">Romani</a></li>\n",
            "<li><a href=\"//rn.wikipedia.org/\" lang=\"rn\">Kirundi</a></li>\n",
            "<li><a href=\"//sg.wikipedia.org/\" lang=\"sg\">SÃ¤ngÃ¶</a></li>\n",
            "<li><a href=\"//st.wikipedia.org/\" lang=\"st\">Sesotho</a></li>\n",
            "<li><a href=\"//tn.wikipedia.org/\" lang=\"tn\">Setswana</a></li>\n",
            "<li><a href=\"//cu.wikipedia.org/\" lang=\"cu\" title=\"SlovÄnÄ­skÅ­\">Ð¡Ð»Ð¾Ð²Ñ£ÌÐ½ÑÑÐºÑ / â°â°â°â°â°¡â°â° â°â°â°</a></li>\n",
            "<li><a href=\"//ss.wikipedia.org/\" lang=\"ss\">SiSwati</a></li>\n",
            "<li><a href=\"//chr.wikipedia.org/\" lang=\"chr\" title=\"Tsalagi\">á£á³á©</a></li>\n",
            "<li><a href=\"//chy.wikipedia.org/\" lang=\"chy\">TsÄhesenÄstsestotse</a></li>\n",
            "<li><a href=\"//ve.wikipedia.org/\" lang=\"ve\">Tshivená¸a</a></li>\n",
            "<li><a href=\"//ts.wikipedia.org/\" lang=\"ts\">Xitsonga</a></li>\n",
            "<li><a href=\"//tum.wikipedia.org/\" lang=\"tum\">chiTumbuka</a></li>\n",
            "<li><a href=\"//tw.wikipedia.org/\" lang=\"tw\">Twi</a></li>\n",
            "<li><a href=\"//ti.wikipedia.org/\" lang=\"ti\" title=\"TÉgÉrÉÃ±a\">áµáá­á</a></li>\n",
            "<li><a href=\"//nqo.wikipedia.org/\" lang=\"nqo\" title=\"N&#x27;Ko\">ßßß</a></li>\n",
            "</ul>\n",
            "</div>\n",
            "<!-- Other languages -->\n",
            "<div class=\"langlist langlist-others hlist\" data-el-section=\"other languages\">\n",
            "<ul>\n",
            "<li><a href=\"//meta.wikimedia.org/wiki/List_of_Wikipedias\" lang=\"en\">Other languages</a></li>\n",
            "<li><a href=\"//de.wikipedia.org/wiki/Wikipedia:Sprachen\" lang=\"de\">Weitere Sprachen</a></li>\n",
            "<li><a href=\"//meta.wikimedia.org/wiki/Liste_des_Wikip%C3%A9dias\" lang=\"fr\">Autres langues</a></li>\n",
            "<li><a href=\"//pl.wikipedia.org/wiki/Wikipedia:Lista_wersji_j%C4%99zykowych\" lang=\"pl\">Kompletna lista jÄzykÃ³w</a></li>\n",
            "<li><a href=\"//ja.wikipedia.org/wiki/Wikipedia:%E5%A4%9A%E8%A8%80%E8%AA%9E%E3%83%97%E3%83%AD%E3%82%B8%E3%82%A7%E3%82%AF%E3%83%88%E3%81%A8%E3%81%97%E3%81%A6%E3%81%AE%E3%82%A6%E3%82%A3%E3%82%AD%E3%83%9A%E3%83%87%E3%82%A3%E3%82%A2\" lang=\"ja\">ä»ã®è¨èª</a></li>\n",
            "<li><a href=\"//meta.wikimedia.org/wiki/Lista_de_Wikipedias\" lang=\"es\">Otros idiomas</a></li>\n",
            "<li><a href=\"//zh.wikipedia.org/wiki/Wikipedia:%E7%BB%B4%E5%9F%BA%E7%99%BE%E7%A7%91%E8%AF%AD%E8%A8%80%E5%88%97%E8%A1%A8\" lang=\"zh\" data-convert-hans=\"å¶ä»è¯­è¨\" id=\"zh_others\">å¶ä»èªè¨</a></li>\n",
            "<li><a href=\"//ru.wikipedia.org/wiki/%D0%92%D0%B8%D0%BA%D0%B8%D0%BF%D0%B5%D0%B4%D0%B8%D1%8F:%D0%A1%D0%92\" lang=\"ru\">ÐÑÑÐ³Ð¸Ðµ ÑÐ·ÑÐºÐ¸</a></li>\n",
            "<li><a href=\"//eo.wikipedia.org/wiki/Vikipedio:Internacia_Vikipedio\" lang=\"eo\">Aliaj lingvoj</a></li>\n",
            "<li><a href=\"//meta.wikimedia.org/wiki/%EC%9C%84%ED%82%A4%EB%B0%B1%EA%B3%BC%EC%9D%98_%EB%AA%A9%EB%A1%9D\" lang=\"ko\">ë¤ë¥¸ ì¸ì´</a></li>\n",
            "<li><a href=\"//vi.wikipedia.org/wiki/Wikipedia:Phi%C3%AAn_b%E1%BA%A3n_ng%C3%B4n_ng%E1%BB%AF\" lang=\"vi\">NgÃ´n ngá»¯ khÃ¡c</a></li>\n",
            "</ul>\n",
            "</div>\n",
            "</div>\n",
            "</div>\n",
            "<hr>\n",
            "<div class=\"footer\" data-el-section=\"other projects\">\n",
            "<div class=\"footer-sidebar\">\n",
            "<div class=\"footer-sidebar-content\">\n",
            "<div class=\"footer-sidebar-icon sprite svg-Wikimedia-logo_black\">\n",
            "</div>\n",
            "<div class=\"footer-sidebar-text jsl10n\" data-jsl10n=\"footer-description\">\n",
            "Wikipedia is hosted by the <a href=\"//wikimediafoundation.org/\">Wikimedia Foundation</a>, a non-profit organization that also hosts a range of other projects.\n",
            "</div>\n",
            "</div>\n",
            "</div>\n",
            "<div class=\"footer-sidebar app-badges\">\n",
            "<div class=\"footer-sidebar-content\">\n",
            "<div class=\"footer-sidebar-text\">\n",
            "<div class=\"footer-sidebar-icon sprite svg-wikipedia_app_tile\"></div>\n",
            "<strong class=\"jsl10n\" data-jsl10n=\"app-links.title\">\n",
            "<a class=\"jsl10n\" data-jsl10n=\"app-links.url\" href=\"https://en.wikipedia.org/wiki/List_of_Wikipedia_mobile_applications\">\n",
            "Download Wikipedia for Android or iOS\n",
            "</a>\n",
            "</strong>\n",
            "<p class=\"jsl10n\" data-jsl10n=\"app-links.description\">\n",
            "Save your favorite articles to read offline, sync your reading lists across devices and customize your reading experience with the official Wikipedia app.\n",
            "</p>\n",
            "<ul>\n",
            "<li class=\"app-badge app-badge-android\">\n",
            "<a target=\"_blank\" href=\"//play.google.com/store/apps/details?id=org.wikipedia&referrer=utm_source%3Dportal%26utm_medium%3Dbutton%26anid%3Dadmob\">\n",
            "<span class=\"sprite svg-badge_google_play_store\">\n",
            "</span></a>\n",
            "</li>\n",
            "<li class=\"app-badge app-badge-ios\">\n",
            "<a target=\"_blank\" href=\"//itunes.apple.com/app/apple-store/id324715238?pt=208305&ct=portal&mt=8\">\n",
            "<span class=\"sprite svg-badge_ios_app_store\">\n",
            "</span></a>\n",
            "</li>\n",
            "</ul>\n",
            "</div>\n",
            "</div>\n",
            "</div>\n",
            "<div class=\"other-projects\">\n",
            "<div class=\"other-project\">\n",
            "<a class=\"other-project-link\" href=\"//commons.wikimedia.org/\">\n",
            "<div class=\"other-project-icon\">\n",
            "<div class=\"sprite svg-Commons-logo_sister\"></div>\n",
            "</div>\n",
            "<div class=\"other-project-text\">\n",
            "<span class=\"other-project-title jsl10n\" data-jsl10n=\"commons.name\">Commons</span>\n",
            "<span class=\"other-project-tagline jsl10n\" data-jsl10n=\"commons.slogan\">Freely usable photos &amp; more</span>\n",
            "</div>\n",
            "</a>\n",
            "</div>\n",
            "<div class=\"other-project\">\n",
            "<a class=\"other-project-link\" href=\"//www.wikivoyage.org/\">\n",
            "<div class=\"other-project-icon\">\n",
            "<div class=\"sprite svg-Wikivoyage-logo_sister\"></div>\n",
            "</div>\n",
            "<div class=\"other-project-text\">\n",
            "<span class=\"other-project-title jsl10n\" data-jsl10n=\"wikivoyage.name\">Wikivoyage</span>\n",
            "<span class=\"other-project-tagline jsl10n\" data-jsl10n=\"wikivoyage.slogan\">Free travel guide</span>\n",
            "</div>\n",
            "</a>\n",
            "</div>\n",
            "<div class=\"other-project\">\n",
            "<a class=\"other-project-link\" href=\"//www.wiktionary.org/\">\n",
            "<div class=\"other-project-icon\">\n",
            "<div class=\"sprite svg-Wiktionary-logo_sister\"></div>\n",
            "</div>\n",
            "<div class=\"other-project-text\">\n",
            "<span class=\"other-project-title jsl10n\" data-jsl10n=\"wiktionary.name\">Wiktionary</span>\n",
            "<span class=\"other-project-tagline jsl10n\" data-jsl10n=\"wiktionary.slogan\">Free dictionary</span>\n",
            "</div>\n",
            "</a>\n",
            "</div>\n",
            "<div class=\"other-project\">\n",
            "<a class=\"other-project-link\" href=\"//www.wikibooks.org/\">\n",
            "<div class=\"other-project-icon\">\n",
            "<div class=\"sprite svg-Wikibooks-logo_sister\"></div>\n",
            "</div>\n",
            "<div class=\"other-project-text\">\n",
            "<span class=\"other-project-title jsl10n\" data-jsl10n=\"wikibooks.name\">Wikibooks</span>\n",
            "<span class=\"other-project-tagline jsl10n\" data-jsl10n=\"wikibooks.slogan\">Free textbooks</span>\n",
            "</div>\n",
            "</a>\n",
            "</div>\n",
            "<div class=\"other-project\">\n",
            "<a class=\"other-project-link\" href=\"//www.wikinews.org/\">\n",
            "<div class=\"other-project-icon\">\n",
            "<div class=\"sprite svg-Wikinews-logo_sister\"></div>\n",
            "</div>\n",
            "<div class=\"other-project-text\">\n",
            "<span class=\"other-project-title jsl10n\" data-jsl10n=\"wikinews.name\">Wikinews</span>\n",
            "<span class=\"other-project-tagline jsl10n\" data-jsl10n=\"wikinews.slogan\">Free news source</span>\n",
            "</div>\n",
            "</a>\n",
            "</div>\n",
            "<div class=\"other-project\">\n",
            "<a class=\"other-project-link\" href=\"//www.wikidata.org/\">\n",
            "<div class=\"other-project-icon\">\n",
            "<div class=\"sprite svg-Wikidata-logo_sister\"></div>\n",
            "</div>\n",
            "<div class=\"other-project-text\">\n",
            "<span class=\"other-project-title jsl10n\" data-jsl10n=\"wikidata.name\">Wikidata</span>\n",
            "<span class=\"other-project-tagline jsl10n\" data-jsl10n=\"wikidata.slogan\">Free knowledge base</span>\n",
            "</div>\n",
            "</a>\n",
            "</div>\n",
            "<div class=\"other-project\">\n",
            "<a class=\"other-project-link\" href=\"//www.wikiversity.org/\">\n",
            "<div class=\"other-project-icon\">\n",
            "<div class=\"sprite svg-Wikiversity-logo_sister\"></div>\n",
            "</div>\n",
            "<div class=\"other-project-text\">\n",
            "<span class=\"other-project-title jsl10n\" data-jsl10n=\"wikiversity.name\">Wikiversity</span>\n",
            "<span class=\"other-project-tagline jsl10n\" data-jsl10n=\"wikiversity.slogan\">Free course materials</span>\n",
            "</div>\n",
            "</a>\n",
            "</div>\n",
            "<div class=\"other-project\">\n",
            "<a class=\"other-project-link\" href=\"//www.wikiquote.org/\">\n",
            "<div class=\"other-project-icon\">\n",
            "<div class=\"sprite svg-Wikiquote-logo_sister\"></div>\n",
            "</div>\n",
            "<div class=\"other-project-text\">\n",
            "<span class=\"other-project-title jsl10n\" data-jsl10n=\"wikiquote.name\">Wikiquote</span>\n",
            "<span class=\"other-project-tagline jsl10n\" data-jsl10n=\"wikiquote.slogan\">Free quote compendium</span>\n",
            "</div>\n",
            "</a>\n",
            "</div>\n",
            "<div class=\"other-project\">\n",
            "<a class=\"other-project-link\" href=\"//www.mediawiki.org/\">\n",
            "<div class=\"other-project-icon\">\n",
            "<div class=\"sprite svg-MediaWiki-logo_sister\"></div>\n",
            "</div>\n",
            "<div class=\"other-project-text\">\n",
            "<span class=\"other-project-title jsl10n\" data-jsl10n=\"mediawiki.name\">MediaWiki</span>\n",
            "<span class=\"other-project-tagline jsl10n\" data-jsl10n=\"mediawiki.slogan\">Free &amp; open wiki application</span>\n",
            "</div>\n",
            "</a>\n",
            "</div>\n",
            "<div class=\"other-project\">\n",
            "<a class=\"other-project-link\" href=\"//www.wikisource.org/\">\n",
            "<div class=\"other-project-icon\">\n",
            "<div class=\"sprite svg-Wikisource-logo_sister\"></div>\n",
            "</div>\n",
            "<div class=\"other-project-text\">\n",
            "<span class=\"other-project-title jsl10n\" data-jsl10n=\"wikisource.name\">Wikisource</span>\n",
            "<span class=\"other-project-tagline jsl10n\" data-jsl10n=\"wikisource.slogan\">Free library</span>\n",
            "</div>\n",
            "</a>\n",
            "</div>\n",
            "<div class=\"other-project\">\n",
            "<a class=\"other-project-link\" href=\"//species.wikimedia.org/\">\n",
            "<div class=\"other-project-icon\">\n",
            "<div class=\"sprite svg-Wikispecies-logo_sister\"></div>\n",
            "</div>\n",
            "<div class=\"other-project-text\">\n",
            "<span class=\"other-project-title jsl10n\" data-jsl10n=\"wikispecies.name\">Wikispecies</span>\n",
            "<span class=\"other-project-tagline jsl10n\" data-jsl10n=\"wikispecies.slogan\">Free species directory</span>\n",
            "</div>\n",
            "</a>\n",
            "</div>\n",
            "<div class=\"other-project\">\n",
            "<a class=\"other-project-link\" href=\"//meta.wikimedia.org/\">\n",
            "<div class=\"other-project-icon\">\n",
            "<div class=\"sprite svg-Meta-Wiki-logo_sister\"></div>\n",
            "</div>\n",
            "<div class=\"other-project-text\">\n",
            "<span class=\"other-project-title jsl10n\" data-jsl10n=\"metawiki.name\">Meta-Wiki</span>\n",
            "<span class=\"other-project-tagline jsl10n\" data-jsl10n=\"metawiki.slogan\">Community coordination &amp; documentation</span>\n",
            "</div>\n",
            "</a>\n",
            "</div>\n",
            "</div>\n",
            "</div>\n",
            "<p class=\"site-license\">\n",
            "<small class=\"jsl10n\" data-jsl10n=\"license\">This page is available under the <a href=\"https://creativecommons.org/licenses/by-sa/3.0/\">Creative Commons Attribution-ShareAlike License</a></small>\n",
            "<small class=\"jsl10n\" data-jsl10n=\"terms\"><a href=\"//meta.wikimedia.org/wiki/Terms_of_Use\">Terms of Use</a></small>\n",
            "<small class=\"jsl10n\" data-jsl10n=\"Privacy Policy\"><a href=\"//meta.wikimedia.org/wiki/Privacy_policy\">Privacy Policy</a></small>\n",
            "</p>\n",
            "<script>\n",
            "var rtlLangs = ['ar','arc','arz','bcc','bgn','bqi','ckb','dv','fa','glk','he','kk-cn','kk-arab','khw','ks','ku-arab','lki','lrc','luz','mzn','nqo','pnb','ps','sd','sdh','ug','ur','yi'],\n",
            "    translationsHash = '52fe5968',\n",
            "    /*\n",
            "     This object is used by l10n scripts (page-localized.js, topten-localized.js)\n",
            "     to reveal the page content after l10n json is loaded.\n",
            "     A timer is also set to prevent JS from hiding page content indefinitelty.\n",
            "     This script is inlined to safeguard againt script loading errors and placed\n",
            "     at the top of the page to safeguard against any HTML loading/parsing errors.\n",
            "    */\n",
            "    wmL10nVisible = {\n",
            "        ready: false,\n",
            "        makeVisible: function(){\n",
            "            if ( !wmL10nVisible.ready ) {\n",
            "                wmL10nVisible.ready = true;\n",
            "                document.body.className += ' jsl10n-visible';\n",
            "            }\n",
            "        }\n",
            "    };\n",
            "    window.setTimeout( wmL10nVisible.makeVisible, 1000 )\n",
            "</script>\n",
            "<script src=\"portal/wikipedia.org/assets/js/index-0875d644b5.js\"></script>\n",
            "<!--[if gt IE 9]>\n",
            "<script src=\"portal/wikipedia.org/assets/js/gt-ie9-eb680c4142.js\"></script>\n",
            "<![endif]-->\n",
            "<!--[if lte IE 9]>\n",
            "<style>\n",
            "    .styled-select {\n",
            "        display: block;\n",
            "    }\n",
            "</style>\n",
            "<![endif]-->\n",
            "<!--[if lte IE 9]>\n",
            "<style>\n",
            "    .langlist > ul {\n",
            "        text-align: center;\n",
            "    }\n",
            "    .langlist > ul > li {\n",
            "        display: inline;\n",
            "        padding: 0 0.5em;\n",
            "    }\n",
            "</style>\n",
            "<![endif]-->\n",
            "</body>\n",
            "</html>\n",
            "\n"
          ],
          "name": "stdout"
        }
      ]
    },
    {
      "cell_type": "code",
      "metadata": {
        "id": "Sd9PRp4qVUTo",
        "colab_type": "code",
        "colab": {
          "base_uri": "https://localhost:8080/",
          "height": 255
        },
        "outputId": "ab7aafa4-f900-44f5-b1d3-dbda919c4ff2"
      },
      "source": [
        "import requests\n",
        "\n",
        "url = \"https://www.fgtv.com/\"\n",
        "resp = requests.get(url)\n",
        "\n",
        "html = resp.text\n",
        "print(html[:500])"
      ],
      "execution_count": 8,
      "outputs": [
        {
          "output_type": "stream",
          "text": [
            "\r\n",
            "<!DOCTYPE html>\r\n",
            "<html>\r\n",
            "<head>\r\n",
            "\t<title>여의도순복음교회</title>\r\n",
            "\t<link rel=\"stylesheet\" type=\"text/css\" href=\"/css/style.css?1\" />\r\n",
            "\t<link href=\"https://file.fgtv.com/images/favicon.ico\" rel=\"shortcut icon\"/>\r\n",
            "\t<meta http-equiv=\"Content-Type\" content=\"text/html; charset=utf-8\" />\r\n",
            "\r\n",
            "\t<script type=\"text/javascript\" src=\"/include_intro/intro_vodctl.js\"></script>\r\n",
            "\r\n",
            "\t<!--레이어팝업\r\n",
            "\t<script language=\"JavaScript\" src=\"https://www.fgtv.com/common_fyn_js/m_layer.js\"></script> \r\n",
            "\t<script language=\"JavaScript\"\n"
          ],
          "name": "stdout"
        }
      ]
    },
    {
      "cell_type": "code",
      "metadata": {
        "id": "73f4HxxnfeDO",
        "colab_type": "code",
        "colab": {
          "base_uri": "https://localhost:8080/",
          "height": 368
        },
        "outputId": "ccfa2971-93cf-4d2b-be48-1e4dd5f8a16f"
      },
      "source": [
        "from selenium import webdriver\n",
        "import time\n",
        "\n",
        "# 100대 통계지표 엑셀 다운로드\n",
        "def download_bok_statistics():\n",
        "\n",
        "    driver = webdriver.Chrome(\"./Selenium/chromedriver\")\n",
        "    driver.implicitly_wait(3)\n",
        "    driver.get(\"http://ecos.bok.or.kr/jsp/vis/keystat/#/key\")"
      ],
      "execution_count": 1,
      "outputs": [
        {
          "output_type": "error",
          "ename": "ModuleNotFoundError",
          "evalue": "ignored",
          "traceback": [
            "\u001b[0;31m---------------------------------------------------------------------------\u001b[0m",
            "\u001b[0;31mModuleNotFoundError\u001b[0m                       Traceback (most recent call last)",
            "\u001b[0;32m<ipython-input-1-158c9ffedfca>\u001b[0m in \u001b[0;36m<module>\u001b[0;34m()\u001b[0m\n\u001b[0;32m----> 1\u001b[0;31m \u001b[0;32mfrom\u001b[0m \u001b[0mselenium\u001b[0m \u001b[0;32mimport\u001b[0m \u001b[0mwebdriver\u001b[0m\u001b[0;34m\u001b[0m\u001b[0;34m\u001b[0m\u001b[0m\n\u001b[0m\u001b[1;32m      2\u001b[0m \u001b[0;32mimport\u001b[0m \u001b[0mtime\u001b[0m\u001b[0;34m\u001b[0m\u001b[0;34m\u001b[0m\u001b[0m\n\u001b[1;32m      3\u001b[0m \u001b[0;34m\u001b[0m\u001b[0m\n\u001b[1;32m      4\u001b[0m \u001b[0;31m# 100대 통계지표 엑셀 다운로드\u001b[0m\u001b[0;34m\u001b[0m\u001b[0;34m\u001b[0m\u001b[0;34m\u001b[0m\u001b[0m\n\u001b[1;32m      5\u001b[0m \u001b[0;32mdef\u001b[0m \u001b[0mdownload_bok_statistics\u001b[0m\u001b[0;34m(\u001b[0m\u001b[0;34m)\u001b[0m\u001b[0;34m:\u001b[0m\u001b[0;34m\u001b[0m\u001b[0;34m\u001b[0m\u001b[0m\n",
            "\u001b[0;31mModuleNotFoundError\u001b[0m: No module named 'selenium'",
            "",
            "\u001b[0;31m---------------------------------------------------------------------------\u001b[0;32m\nNOTE: If your import is failing due to a missing package, you can\nmanually install dependencies using either !pip or !apt.\n\nTo view examples of installing some common dependencies, click the\n\"Open Examples\" button below.\n\u001b[0;31m---------------------------------------------------------------------------\u001b[0m\n"
          ]
        }
      ]
    },
    {
      "cell_type": "code",
      "metadata": {
        "id": "O4xClSIM4BlW",
        "colab_type": "code",
        "colab": {
          "base_uri": "https://localhost:8080/",
          "height": 119
        },
        "outputId": "0c6a5369-85df-4bbd-a204-12365fdd9df1"
      },
      "source": [
        "pip install selenium"
      ],
      "execution_count": 2,
      "outputs": [
        {
          "output_type": "stream",
          "text": [
            "Collecting selenium\n",
            "\u001b[?25l  Downloading https://files.pythonhosted.org/packages/80/d6/4294f0b4bce4de0abf13e17190289f9d0613b0a44e5dd6a7f5ca98459853/selenium-3.141.0-py2.py3-none-any.whl (904kB)\n",
            "\r\u001b[K     |▍                               | 10kB 19.2MB/s eta 0:00:01\r\u001b[K     |▊                               | 20kB 2.2MB/s eta 0:00:01\r\u001b[K     |█                               | 30kB 2.9MB/s eta 0:00:01\r\u001b[K     |█▌                              | 40kB 3.2MB/s eta 0:00:01\r\u001b[K     |█▉                              | 51kB 2.5MB/s eta 0:00:01\r\u001b[K     |██▏                             | 61kB 2.8MB/s eta 0:00:01\r\u001b[K     |██▌                             | 71kB 3.1MB/s eta 0:00:01\r\u001b[K     |███                             | 81kB 3.4MB/s eta 0:00:01\r\u001b[K     |███▎                            | 92kB 3.7MB/s eta 0:00:01\r\u001b[K     |███▋                            | 102kB 3.5MB/s eta 0:00:01\r\u001b[K     |████                            | 112kB 3.5MB/s eta 0:00:01\r\u001b[K     |████▍                           | 122kB 3.5MB/s eta 0:00:01\r\u001b[K     |████▊                           | 133kB 3.5MB/s eta 0:00:01\r\u001b[K     |█████                           | 143kB 3.5MB/s eta 0:00:01\r\u001b[K     |█████▍                          | 153kB 3.5MB/s eta 0:00:01\r\u001b[K     |█████▉                          | 163kB 3.5MB/s eta 0:00:01\r\u001b[K     |██████▏                         | 174kB 3.5MB/s eta 0:00:01\r\u001b[K     |██████▌                         | 184kB 3.5MB/s eta 0:00:01\r\u001b[K     |██████▉                         | 194kB 3.5MB/s eta 0:00:01\r\u001b[K     |███████▎                        | 204kB 3.5MB/s eta 0:00:01\r\u001b[K     |███████▋                        | 215kB 3.5MB/s eta 0:00:01\r\u001b[K     |████████                        | 225kB 3.5MB/s eta 0:00:01\r\u001b[K     |████████▎                       | 235kB 3.5MB/s eta 0:00:01\r\u001b[K     |████████▊                       | 245kB 3.5MB/s eta 0:00:01\r\u001b[K     |█████████                       | 256kB 3.5MB/s eta 0:00:01\r\u001b[K     |█████████▍                      | 266kB 3.5MB/s eta 0:00:01\r\u001b[K     |█████████▉                      | 276kB 3.5MB/s eta 0:00:01\r\u001b[K     |██████████▏                     | 286kB 3.5MB/s eta 0:00:01\r\u001b[K     |██████████▌                     | 296kB 3.5MB/s eta 0:00:01\r\u001b[K     |██████████▉                     | 307kB 3.5MB/s eta 0:00:01\r\u001b[K     |███████████▎                    | 317kB 3.5MB/s eta 0:00:01\r\u001b[K     |███████████▋                    | 327kB 3.5MB/s eta 0:00:01\r\u001b[K     |████████████                    | 337kB 3.5MB/s eta 0:00:01\r\u001b[K     |████████████▎                   | 348kB 3.5MB/s eta 0:00:01\r\u001b[K     |████████████▊                   | 358kB 3.5MB/s eta 0:00:01\r\u001b[K     |█████████████                   | 368kB 3.5MB/s eta 0:00:01\r\u001b[K     |█████████████▍                  | 378kB 3.5MB/s eta 0:00:01\r\u001b[K     |█████████████▊                  | 389kB 3.5MB/s eta 0:00:01\r\u001b[K     |██████████████▏                 | 399kB 3.5MB/s eta 0:00:01\r\u001b[K     |██████████████▌                 | 409kB 3.5MB/s eta 0:00:01\r\u001b[K     |██████████████▉                 | 419kB 3.5MB/s eta 0:00:01\r\u001b[K     |███████████████▏                | 430kB 3.5MB/s eta 0:00:01\r\u001b[K     |███████████████▋                | 440kB 3.5MB/s eta 0:00:01\r\u001b[K     |████████████████                | 450kB 3.5MB/s eta 0:00:01\r\u001b[K     |████████████████▎               | 460kB 3.5MB/s eta 0:00:01\r\u001b[K     |████████████████▋               | 471kB 3.5MB/s eta 0:00:01\r\u001b[K     |█████████████████               | 481kB 3.5MB/s eta 0:00:01\r\u001b[K     |█████████████████▍              | 491kB 3.5MB/s eta 0:00:01\r\u001b[K     |█████████████████▊              | 501kB 3.5MB/s eta 0:00:01\r\u001b[K     |██████████████████▏             | 512kB 3.5MB/s eta 0:00:01\r\u001b[K     |██████████████████▌             | 522kB 3.5MB/s eta 0:00:01\r\u001b[K     |██████████████████▉             | 532kB 3.5MB/s eta 0:00:01\r\u001b[K     |███████████████████▏            | 542kB 3.5MB/s eta 0:00:01\r\u001b[K     |███████████████████▋            | 552kB 3.5MB/s eta 0:00:01\r\u001b[K     |████████████████████            | 563kB 3.5MB/s eta 0:00:01\r\u001b[K     |████████████████████▎           | 573kB 3.5MB/s eta 0:00:01\r\u001b[K     |████████████████████▋           | 583kB 3.5MB/s eta 0:00:01\r\u001b[K     |█████████████████████           | 593kB 3.5MB/s eta 0:00:01\r\u001b[K     |█████████████████████▍          | 604kB 3.5MB/s eta 0:00:01\r\u001b[K     |█████████████████████▊          | 614kB 3.5MB/s eta 0:00:01\r\u001b[K     |██████████████████████          | 624kB 3.5MB/s eta 0:00:01\r\u001b[K     |██████████████████████▌         | 634kB 3.5MB/s eta 0:00:01\r\u001b[K     |██████████████████████▉         | 645kB 3.5MB/s eta 0:00:01\r\u001b[K     |███████████████████████▏        | 655kB 3.5MB/s eta 0:00:01\r\u001b[K     |███████████████████████▌        | 665kB 3.5MB/s eta 0:00:01\r\u001b[K     |████████████████████████        | 675kB 3.5MB/s eta 0:00:01\r\u001b[K     |████████████████████████▎       | 686kB 3.5MB/s eta 0:00:01\r\u001b[K     |████████████████████████▋       | 696kB 3.5MB/s eta 0:00:01\r\u001b[K     |█████████████████████████       | 706kB 3.5MB/s eta 0:00:01\r\u001b[K     |█████████████████████████▍      | 716kB 3.5MB/s eta 0:00:01\r\u001b[K     |█████████████████████████▊      | 727kB 3.5MB/s eta 0:00:01\r\u001b[K     |██████████████████████████      | 737kB 3.5MB/s eta 0:00:01\r\u001b[K     |██████████████████████████▍     | 747kB 3.5MB/s eta 0:00:01\r\u001b[K     |██████████████████████████▉     | 757kB 3.5MB/s eta 0:00:01\r\u001b[K     |███████████████████████████▏    | 768kB 3.5MB/s eta 0:00:01\r\u001b[K     |███████████████████████████▌    | 778kB 3.5MB/s eta 0:00:01\r\u001b[K     |████████████████████████████    | 788kB 3.5MB/s eta 0:00:01\r\u001b[K     |████████████████████████████▎   | 798kB 3.5MB/s eta 0:00:01\r\u001b[K     |████████████████████████████▋   | 808kB 3.5MB/s eta 0:00:01\r\u001b[K     |█████████████████████████████   | 819kB 3.5MB/s eta 0:00:01\r\u001b[K     |█████████████████████████████▍  | 829kB 3.5MB/s eta 0:00:01\r\u001b[K     |█████████████████████████████▊  | 839kB 3.5MB/s eta 0:00:01\r\u001b[K     |██████████████████████████████  | 849kB 3.5MB/s eta 0:00:01\r\u001b[K     |██████████████████████████████▍ | 860kB 3.5MB/s eta 0:00:01\r\u001b[K     |██████████████████████████████▉ | 870kB 3.5MB/s eta 0:00:01\r\u001b[K     |███████████████████████████████▏| 880kB 3.5MB/s eta 0:00:01\r\u001b[K     |███████████████████████████████▌| 890kB 3.5MB/s eta 0:00:01\r\u001b[K     |███████████████████████████████▉| 901kB 3.5MB/s eta 0:00:01\r\u001b[K     |████████████████████████████████| 911kB 3.5MB/s \n",
            "\u001b[?25hRequirement already satisfied: urllib3 in /usr/local/lib/python3.6/dist-packages (from selenium) (1.24.3)\n",
            "Installing collected packages: selenium\n",
            "Successfully installed selenium-3.141.0\n"
          ],
          "name": "stdout"
        }
      ]
    },
    {
      "cell_type": "code",
      "metadata": {
        "id": "sqwuCtES4P0i",
        "colab_type": "code",
        "colab": {}
      },
      "source": [
        "from selenium import webdriver\n",
        "import time\n",
        "\n",
        "# 100대 통계지표 엑셀 다운로드\n",
        "def download_bok_statistics():\n",
        "\n",
        "    driver = webdriver.Chrome(\"./Selenium/chromedriver\")\n",
        "    driver.implicitly_wait(3)\n",
        "    driver.get(\"http://ecos.bok.or.kr/jsp/vis/keystat/#/key\")"
      ],
      "execution_count": 0,
      "outputs": []
    }
  ]
}